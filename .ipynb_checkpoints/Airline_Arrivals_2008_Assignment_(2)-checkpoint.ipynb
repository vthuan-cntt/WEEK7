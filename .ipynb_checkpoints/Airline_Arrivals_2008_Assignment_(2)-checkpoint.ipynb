{
 "cells": [
  {
   "cell_type": "markdown",
   "metadata": {
    "colab_type": "text",
    "id": "Xjo4m_XSlA5w"
   },
   "source": [
    "# <center><span style=\"color:blue\">AIRLINE ARRIVALS 2008</span></center>"
   ]
  },
  {
   "cell_type": "markdown",
   "metadata": {
    "colab_type": "text",
    "id": "8O94q6Q4k6Ja"
   },
   "source": [
    "### Use this dataset of airline arrival information to predict how late flights will be. A flight only counts as late if it is more than 30 minutes late.\n",
    "    1. The project should follow guideline as previous projects.\n",
    "    2. Apply models in Naïve Bayes, Logistic Regression, Decision Tree, Random Forest, Gradient Boosting and SVM.\n",
    "    3. Apply PCA, SelectKBest and RFE for feature selections.\n",
    "    4. Using gridsearchCV to obtain best parameters for models.\n",
    "    5. Compare performances among models, write up analysis why the model is good or bad in the algorithmic approach (explain why the algorithm is good or bad for the dataset structure, can you do something to improve the model?)\n",
    "    6. Include the conclusions"
   ]
  },
  {
   "cell_type": "markdown",
   "metadata": {
    "colab_type": "text",
    "id": "nQH9Mq-xlFS3"
   },
   "source": [
    "    Each entry of this file corresponds to a flight and we see that more than 7.009.728 flights have been recordeed in 2008. These fights are described by 29 variables. A description of these variables are\n",
    "\n",
    "#### Name\tDescription\n",
    "\n",
    "    * 1 Year\t1987-2008\n",
    "\n",
    "    * 2\tMonth\t1-12\n",
    "\n",
    "    * 3\tDayofMonth\t1-31\n",
    "\n",
    "    * 4\tDayOfWeek\t1 (Monday) - 7 (Sunday)\n",
    "\n",
    "    * 5\tDepTime\tactual departure time (local, hhmm)\n",
    "\n",
    "    * 6\tCRSDepTime\tscheduled departure time (local, hhmm)\n",
    "\n",
    "    * 7\tArrTime\tactual arrival time (local, hhmm)\n",
    "\n",
    "    * 8\tCRSArrTime\tscheduled arrival time (local, hhmm)\n",
    "\n",
    "    * 9\tUniqueCarrier\tunique carrier code\n",
    "\n",
    "    * 10\tFlightNum\tflight number\n",
    "\n",
    "    * 11\tTailNum\tplane tail number\n",
    "\n",
    "    * 12\tActualElapsedTime\tin minutes\n",
    "\n",
    "    * 13\tCRSElapsedTime\tin minutes\n",
    "\n",
    "    * 14\tAirTime\tin minutes\n",
    "\n",
    "    * 15\tArrDelay\tarrival delay, in minutes\n",
    "\n",
    "    * 16\tDepDelay\tdeparture delay, in minutes\n",
    "\n",
    "    * 17\tOrigin\torigin IATA airport code\n",
    "\n",
    "    * 18\tDest\tdestination IATA airport code\n",
    "\n",
    "    * 19\tDistance\tin miles\n",
    "\n",
    "    * 20\tTaxiIn\ttaxi in time, in minutes\n",
    "\n",
    "    * 21\tTaxiOut\ttaxi out time in minutes\n",
    "    \n",
    "    * 22\tCancelled\twas the flight cancelled?\n",
    "\n",
    "    * 23\tCancellationCode\treason for cancellation (A = carrier, B = weather, C = NAS, D = security)\n",
    "\n",
    "    * 24\tDiverted\t1 = yes, 0 = no\n",
    "\n",
    "    * 25\tCarrierDelay\tin minutes\n",
    "\n",
    "    * 26\tWeatherDelay\tin minutes\n",
    "\n",
    "    * 27\tNASDelay\tin minutes\n",
    "\n",
    "    * 28\tSecurityDelay\tin minutes\n",
    "\n",
    "    * 29\tLateAircraftDelay\tin minutes\n",
    "http://stat-computing.org/dataexpo/2009/the-data.html\n",
    "    "
   ]
  },
  {
   "cell_type": "markdown",
   "metadata": {
    "colab_type": "text",
    "id": "dtHhGId19F-g"
   },
   "source": [
    "# Initialize Google Driver API"
   ]
  },
  {
   "cell_type": "code",
   "execution_count": 1,
   "metadata": {
    "colab": {
     "autoexec": {
      "startup": false,
      "wait_interval": 0
     },
     "base_uri": "https://localhost:8080/",
     "height": 34
    },
    "colab_type": "code",
    "executionInfo": {
     "elapsed": 4989,
     "status": "ok",
     "timestamp": 1526465546352,
     "user": {
      "displayName": "Trinh Phuc",
      "photoUrl": "https://lh3.googleusercontent.com/a/default-user=s128",
      "userId": "117763058204935570065"
     },
     "user_tz": -420
    },
    "id": "DPv49T0rDzMU",
    "outputId": "037e2b21-5bda-4844-8295-86af44f206f4"
   },
   "outputs": [
    {
     "data": {
      "text/plain": [
       "'/device:GPU:0'"
      ]
     },
     "execution_count": 1,
     "metadata": {
      "tags": []
     },
     "output_type": "execute_result"
    }
   ],
   "source": [
    "import tensorflow as tf\n",
    "tf.test.gpu_device_name()"
   ]
  },
  {
   "cell_type": "code",
   "execution_count": 0,
   "metadata": {
    "colab": {
     "autoexec": {
      "startup": false,
      "wait_interval": 0
     }
    },
    "colab_type": "code",
    "id": "A2NJf5-YD4nE"
   },
   "outputs": [],
   "source": [
    "!pip install -U -q PyDrive\n",
    " \n",
    "from pydrive.auth import GoogleAuth\n",
    "from pydrive.drive import GoogleDrive\n",
    "from google.colab import auth\n",
    "from oauth2client.client import GoogleCredentials\n",
    " \n",
    "# 1. Authenticate and create the PyDrive client.\n",
    "auth.authenticate_user()\n",
    "gauth = GoogleAuth()\n",
    "gauth.credentials = GoogleCredentials.get_application_default()\n",
    "drive = GoogleDrive(gauth)"
   ]
  },
  {
   "cell_type": "markdown",
   "metadata": {
    "colab_type": "text",
    "id": "-35geqcP9CHh"
   },
   "source": [
    "-------------------------------------------------"
   ]
  },
  {
   "cell_type": "markdown",
   "metadata": {
    "colab_type": "text",
    "id": "dEAX88Bs8tQ9"
   },
   "source": [
    "# List all files in  a folder"
   ]
  },
  {
   "cell_type": "code",
   "execution_count": 3,
   "metadata": {
    "colab": {
     "autoexec": {
      "startup": false,
      "wait_interval": 0
     },
     "base_uri": "https://localhost:8080/",
     "height": 102
    },
    "colab_type": "code",
    "executionInfo": {
     "elapsed": 705,
     "status": "ok",
     "timestamp": 1526465565254,
     "user": {
      "displayName": "Trinh Phuc",
      "photoUrl": "https://lh3.googleusercontent.com/a/default-user=s128",
      "userId": "117763058204935570065"
     },
     "user_tz": -420
    },
    "id": "w-cPc7uED68P",
    "outputId": "3b1da1ac-8c5b-4fe1-d68c-75d89ad02380"
   },
   "outputs": [
    {
     "name": "stdout",
     "output_type": "stream",
     "text": [
      "title: 2008.csv, id: 1mhR6hMf2SXbjqQfc8bOjuUt6YBqVQ-o_\n",
      "title: Airline Arrivals 2008.csv, id: 1uJOZIGrgpGI8jLTxtT9Nf2jW31wiU2RC\n",
      "title: Airline_Arrivals_Cleaned1.csv, id: 1EyZUfGMTtzFG_f1uKd9qfRKfp7pSr0KA\n",
      "title: hmeq.csv, id: 1Ch66HCXH7KIhaFWu6DDS74FFdQ03kWAx\n",
      "title: GBM-XGBoots--master.zip, id: 1q4xzINzwD2ZzF4U5PIgVcYztxMC9FsHp\n"
     ]
    }
   ],
   "source": [
    "file_list = drive.ListFile({'q': \"'1-YZGx3TTna_Bm9R8q0I_jZ-AJ6neHVdY' in parents and trashed=false\"}).GetList()\n",
    "for file1 in file_list:\n",
    "  print('title: %s, id: %s' % (file1['title'], file1['id']))"
   ]
  },
  {
   "cell_type": "markdown",
   "metadata": {
    "colab_type": "text",
    "id": "uQVhpZgG9Zr5"
   },
   "source": [
    "# Read dataset file (Airline Arrivals)"
   ]
  },
  {
   "cell_type": "code",
   "execution_count": 0,
   "metadata": {
    "colab": {
     "autoexec": {
      "startup": false,
      "wait_interval": 0
     }
    },
    "colab_type": "code",
    "id": "J2K_SIyMEHst"
   },
   "outputs": [],
   "source": [
    "data = drive.CreateFile({'id': '1mhR6hMf2SXbjqQfc8bOjuUt6YBqVQ-o_'})\n",
    "data.GetContentFile('2008.csv')"
   ]
  },
  {
   "cell_type": "markdown",
   "metadata": {
    "colab_type": "text",
    "id": "zpLr_GUD9d_z"
   },
   "source": [
    "# Import some necessary libraries"
   ]
  },
  {
   "cell_type": "code",
   "execution_count": 0,
   "metadata": {
    "colab": {
     "autoexec": {
      "startup": false,
      "wait_interval": 0
     }
    },
    "colab_type": "code",
    "id": "fpcY7xOUEaqy"
   },
   "outputs": [],
   "source": [
    "import pandas as pd\n",
    "import matplotlib.pyplot as plt\n",
    "import numpy as np\n",
    "import seaborn as sns\n",
    "import warnings\n",
    "warnings.simplefilter('ignore')\n",
    "# set to unlimited column and row display:\n",
    "pd.set_option('display.max_columns', None)\n",
    "pd.set_option('display.max_rows', None)\n",
    "%matplotlib inline"
   ]
  },
  {
   "cell_type": "markdown",
   "metadata": {
    "colab_type": "text",
    "id": "HdeCIpg595xk"
   },
   "source": [
    "# Read the data in dataframe format by using Pandas"
   ]
  },
  {
   "cell_type": "code",
   "execution_count": 0,
   "metadata": {
    "colab": {
     "autoexec": {
      "startup": false,
      "wait_interval": 0
     }
    },
    "colab_type": "code",
    "id": "LfsxgeiJEgTf"
   },
   "outputs": [],
   "source": [
    "df = pd.read_csv('2008.csv')"
   ]
  },
  {
   "cell_type": "markdown",
   "metadata": {
    "colab_type": "text",
    "id": "fSj8t_S4-Kfm"
   },
   "source": [
    "# Data structure at first glance"
   ]
  },
  {
   "cell_type": "code",
   "execution_count": 7,
   "metadata": {
    "colab": {
     "autoexec": {
      "startup": false,
      "wait_interval": 0
     },
     "base_uri": "https://localhost:8080/",
     "height": 224
    },
    "colab_type": "code",
    "executionInfo": {
     "elapsed": 901,
     "status": "ok",
     "timestamp": 1526465597594,
     "user": {
      "displayName": "Trinh Phuc",
      "photoUrl": "https://lh3.googleusercontent.com/a/default-user=s128",
      "userId": "117763058204935570065"
     },
     "user_tz": -420
    },
    "id": "dI0P1gmmEj41",
    "outputId": "6b8a9a08-ab78-47c7-e67e-38fb18aa6714"
   },
   "outputs": [
    {
     "data": {
      "text/html": [
       "<div>\n",
       "<style scoped>\n",
       "    .dataframe tbody tr th:only-of-type {\n",
       "        vertical-align: middle;\n",
       "    }\n",
       "\n",
       "    .dataframe tbody tr th {\n",
       "        vertical-align: top;\n",
       "    }\n",
       "\n",
       "    .dataframe thead th {\n",
       "        text-align: right;\n",
       "    }\n",
       "</style>\n",
       "<table border=\"1\" class=\"dataframe\">\n",
       "  <thead>\n",
       "    <tr style=\"text-align: right;\">\n",
       "      <th></th>\n",
       "      <th>Year</th>\n",
       "      <th>Month</th>\n",
       "      <th>DayofMonth</th>\n",
       "      <th>DayOfWeek</th>\n",
       "      <th>DepTime</th>\n",
       "      <th>CRSDepTime</th>\n",
       "      <th>ArrTime</th>\n",
       "      <th>CRSArrTime</th>\n",
       "      <th>UniqueCarrier</th>\n",
       "      <th>FlightNum</th>\n",
       "      <th>TailNum</th>\n",
       "      <th>ActualElapsedTime</th>\n",
       "      <th>CRSElapsedTime</th>\n",
       "      <th>AirTime</th>\n",
       "      <th>ArrDelay</th>\n",
       "      <th>DepDelay</th>\n",
       "      <th>Origin</th>\n",
       "      <th>Dest</th>\n",
       "      <th>Distance</th>\n",
       "      <th>TaxiIn</th>\n",
       "      <th>TaxiOut</th>\n",
       "      <th>Cancelled</th>\n",
       "      <th>CancellationCode</th>\n",
       "      <th>Diverted</th>\n",
       "      <th>CarrierDelay</th>\n",
       "      <th>WeatherDelay</th>\n",
       "      <th>NASDelay</th>\n",
       "      <th>SecurityDelay</th>\n",
       "      <th>LateAircraftDelay</th>\n",
       "    </tr>\n",
       "  </thead>\n",
       "  <tbody>\n",
       "    <tr>\n",
       "      <th>0</th>\n",
       "      <td>2008</td>\n",
       "      <td>1</td>\n",
       "      <td>3</td>\n",
       "      <td>4</td>\n",
       "      <td>2003.0</td>\n",
       "      <td>1955</td>\n",
       "      <td>2211.0</td>\n",
       "      <td>2225</td>\n",
       "      <td>WN</td>\n",
       "      <td>335</td>\n",
       "      <td>N712SW</td>\n",
       "      <td>128.0</td>\n",
       "      <td>150.0</td>\n",
       "      <td>116.0</td>\n",
       "      <td>-14.0</td>\n",
       "      <td>8.0</td>\n",
       "      <td>IAD</td>\n",
       "      <td>TPA</td>\n",
       "      <td>810</td>\n",
       "      <td>4.0</td>\n",
       "      <td>8.0</td>\n",
       "      <td>0</td>\n",
       "      <td>NaN</td>\n",
       "      <td>0</td>\n",
       "      <td>NaN</td>\n",
       "      <td>NaN</td>\n",
       "      <td>NaN</td>\n",
       "      <td>NaN</td>\n",
       "      <td>NaN</td>\n",
       "    </tr>\n",
       "    <tr>\n",
       "      <th>1</th>\n",
       "      <td>2008</td>\n",
       "      <td>1</td>\n",
       "      <td>3</td>\n",
       "      <td>4</td>\n",
       "      <td>754.0</td>\n",
       "      <td>735</td>\n",
       "      <td>1002.0</td>\n",
       "      <td>1000</td>\n",
       "      <td>WN</td>\n",
       "      <td>3231</td>\n",
       "      <td>N772SW</td>\n",
       "      <td>128.0</td>\n",
       "      <td>145.0</td>\n",
       "      <td>113.0</td>\n",
       "      <td>2.0</td>\n",
       "      <td>19.0</td>\n",
       "      <td>IAD</td>\n",
       "      <td>TPA</td>\n",
       "      <td>810</td>\n",
       "      <td>5.0</td>\n",
       "      <td>10.0</td>\n",
       "      <td>0</td>\n",
       "      <td>NaN</td>\n",
       "      <td>0</td>\n",
       "      <td>NaN</td>\n",
       "      <td>NaN</td>\n",
       "      <td>NaN</td>\n",
       "      <td>NaN</td>\n",
       "      <td>NaN</td>\n",
       "    </tr>\n",
       "    <tr>\n",
       "      <th>2</th>\n",
       "      <td>2008</td>\n",
       "      <td>1</td>\n",
       "      <td>3</td>\n",
       "      <td>4</td>\n",
       "      <td>628.0</td>\n",
       "      <td>620</td>\n",
       "      <td>804.0</td>\n",
       "      <td>750</td>\n",
       "      <td>WN</td>\n",
       "      <td>448</td>\n",
       "      <td>N428WN</td>\n",
       "      <td>96.0</td>\n",
       "      <td>90.0</td>\n",
       "      <td>76.0</td>\n",
       "      <td>14.0</td>\n",
       "      <td>8.0</td>\n",
       "      <td>IND</td>\n",
       "      <td>BWI</td>\n",
       "      <td>515</td>\n",
       "      <td>3.0</td>\n",
       "      <td>17.0</td>\n",
       "      <td>0</td>\n",
       "      <td>NaN</td>\n",
       "      <td>0</td>\n",
       "      <td>NaN</td>\n",
       "      <td>NaN</td>\n",
       "      <td>NaN</td>\n",
       "      <td>NaN</td>\n",
       "      <td>NaN</td>\n",
       "    </tr>\n",
       "    <tr>\n",
       "      <th>3</th>\n",
       "      <td>2008</td>\n",
       "      <td>1</td>\n",
       "      <td>3</td>\n",
       "      <td>4</td>\n",
       "      <td>926.0</td>\n",
       "      <td>930</td>\n",
       "      <td>1054.0</td>\n",
       "      <td>1100</td>\n",
       "      <td>WN</td>\n",
       "      <td>1746</td>\n",
       "      <td>N612SW</td>\n",
       "      <td>88.0</td>\n",
       "      <td>90.0</td>\n",
       "      <td>78.0</td>\n",
       "      <td>-6.0</td>\n",
       "      <td>-4.0</td>\n",
       "      <td>IND</td>\n",
       "      <td>BWI</td>\n",
       "      <td>515</td>\n",
       "      <td>3.0</td>\n",
       "      <td>7.0</td>\n",
       "      <td>0</td>\n",
       "      <td>NaN</td>\n",
       "      <td>0</td>\n",
       "      <td>NaN</td>\n",
       "      <td>NaN</td>\n",
       "      <td>NaN</td>\n",
       "      <td>NaN</td>\n",
       "      <td>NaN</td>\n",
       "    </tr>\n",
       "    <tr>\n",
       "      <th>4</th>\n",
       "      <td>2008</td>\n",
       "      <td>1</td>\n",
       "      <td>3</td>\n",
       "      <td>4</td>\n",
       "      <td>1829.0</td>\n",
       "      <td>1755</td>\n",
       "      <td>1959.0</td>\n",
       "      <td>1925</td>\n",
       "      <td>WN</td>\n",
       "      <td>3920</td>\n",
       "      <td>N464WN</td>\n",
       "      <td>90.0</td>\n",
       "      <td>90.0</td>\n",
       "      <td>77.0</td>\n",
       "      <td>34.0</td>\n",
       "      <td>34.0</td>\n",
       "      <td>IND</td>\n",
       "      <td>BWI</td>\n",
       "      <td>515</td>\n",
       "      <td>3.0</td>\n",
       "      <td>10.0</td>\n",
       "      <td>0</td>\n",
       "      <td>NaN</td>\n",
       "      <td>0</td>\n",
       "      <td>2.0</td>\n",
       "      <td>0.0</td>\n",
       "      <td>0.0</td>\n",
       "      <td>0.0</td>\n",
       "      <td>32.0</td>\n",
       "    </tr>\n",
       "  </tbody>\n",
       "</table>\n",
       "</div>"
      ],
      "text/plain": [
       "   Year  Month  DayofMonth  DayOfWeek  DepTime  CRSDepTime  ArrTime  \\\n",
       "0  2008      1           3          4   2003.0        1955   2211.0   \n",
       "1  2008      1           3          4    754.0         735   1002.0   \n",
       "2  2008      1           3          4    628.0         620    804.0   \n",
       "3  2008      1           3          4    926.0         930   1054.0   \n",
       "4  2008      1           3          4   1829.0        1755   1959.0   \n",
       "\n",
       "   CRSArrTime UniqueCarrier  FlightNum TailNum  ActualElapsedTime  \\\n",
       "0        2225            WN        335  N712SW              128.0   \n",
       "1        1000            WN       3231  N772SW              128.0   \n",
       "2         750            WN        448  N428WN               96.0   \n",
       "3        1100            WN       1746  N612SW               88.0   \n",
       "4        1925            WN       3920  N464WN               90.0   \n",
       "\n",
       "   CRSElapsedTime  AirTime  ArrDelay  DepDelay Origin Dest  Distance  TaxiIn  \\\n",
       "0           150.0    116.0     -14.0       8.0    IAD  TPA       810     4.0   \n",
       "1           145.0    113.0       2.0      19.0    IAD  TPA       810     5.0   \n",
       "2            90.0     76.0      14.0       8.0    IND  BWI       515     3.0   \n",
       "3            90.0     78.0      -6.0      -4.0    IND  BWI       515     3.0   \n",
       "4            90.0     77.0      34.0      34.0    IND  BWI       515     3.0   \n",
       "\n",
       "   TaxiOut  Cancelled CancellationCode  Diverted  CarrierDelay  WeatherDelay  \\\n",
       "0      8.0          0              NaN         0           NaN           NaN   \n",
       "1     10.0          0              NaN         0           NaN           NaN   \n",
       "2     17.0          0              NaN         0           NaN           NaN   \n",
       "3      7.0          0              NaN         0           NaN           NaN   \n",
       "4     10.0          0              NaN         0           2.0           0.0   \n",
       "\n",
       "   NASDelay  SecurityDelay  LateAircraftDelay  \n",
       "0       NaN            NaN                NaN  \n",
       "1       NaN            NaN                NaN  \n",
       "2       NaN            NaN                NaN  \n",
       "3       NaN            NaN                NaN  \n",
       "4       0.0            0.0               32.0  "
      ]
     },
     "execution_count": 7,
     "metadata": {
      "tags": []
     },
     "output_type": "execute_result"
    }
   ],
   "source": [
    "df.head()"
   ]
  },
  {
   "cell_type": "markdown",
   "metadata": {
    "colab_type": "text",
    "id": "eVO77-Ri-oj3"
   },
   "source": [
    "# Re-select cols that may affect to flight's delay"
   ]
  },
  {
   "cell_type": "code",
   "execution_count": 0,
   "metadata": {
    "colab": {
     "autoexec": {
      "startup": false,
      "wait_interval": 0
     }
    },
    "colab_type": "code",
    "id": "f9LLsIuNEnD4"
   },
   "outputs": [],
   "source": [
    "data = df[['ArrDelay','ActualElapsedTime','CRSArrTime','ArrTime','DepTime','CRSDepTime','DepDelay','Cancelled','Month','DayofMonth','DayOfWeek','Distance','FlightNum','UniqueCarrier','Origin','Dest','SecurityDelay','NASDelay','LateAircraftDelay','WeatherDelay','CarrierDelay']]"
   ]
  },
  {
   "cell_type": "markdown",
   "metadata": {
    "colab_type": "text",
    "id": "FuKPHZqt-4WY"
   },
   "source": [
    "# Make a list of columns having missing values"
   ]
  },
  {
   "cell_type": "code",
   "execution_count": 9,
   "metadata": {
    "colab": {
     "autoexec": {
      "startup": false,
      "wait_interval": 0
     },
     "base_uri": "https://localhost:8080/",
     "height": 411
    },
    "colab_type": "code",
    "executionInfo": {
     "elapsed": 3810,
     "status": "ok",
     "timestamp": 1526461941277,
     "user": {
      "displayName": "Trinh Phuc",
      "photoUrl": "https://lh3.googleusercontent.com/a/default-user=s128",
      "userId": "117763058204935570065"
     },
     "user_tz": -420
    },
    "id": "5y2_mgqNFOVS",
    "outputId": "357378c6-7628-41de-b30c-44b95b01c6dc"
   },
   "outputs": [
    {
     "data": {
      "text/plain": [
       "(7009728, 21)"
      ]
     },
     "execution_count": 9,
     "metadata": {
      "tags": []
     },
     "output_type": "execute_result"
    },
    {
     "data": {
      "image/png": "[encoded data removed]",
      "text/plain": [
       "<matplotlib.figure.Figure at 0x7fd340349518>"
      ]
     },
     "metadata": {
      "tags": []
     },
     "output_type": "display_data"
    }
   ],
   "source": [
    "missing_df = data.isnull().sum(axis=0).reset_index()\n",
    "missing_df.columns = ['variables','missing values']\n",
    "missing_df['filling factor (%)'] = (data.shape[0]-missing_df['missing values'])/data.shape[0]*100\n",
    "missing_df.sort_values('filling factor (%)').reset_index(drop=True)\n",
    "x=[]\n",
    "y=[]\n",
    "for i in missing_df.variables:\n",
    "    x.append(i)\n",
    "for j in missing_df['filling factor (%)']:\n",
    "    y.append(j)\n",
    "f,ax = plt.subplots(figsize=(27,6))\n",
    "sns.barplot(x=x, y=y)\n",
    "data.shape"
   ]
  },
  {
   "cell_type": "markdown",
   "metadata": {
    "colab_type": "text",
    "id": "Q0Fj_zfy_RCo"
   },
   "source": [
    "#### Basically, our data  does not have much missing values except five elements might cause flight's delay such as CarrierDelay, LateAirCraft and so on. My solution is to fill all these NaN rows by replacing zero and replacing its mean value"
   ]
  },
  {
   "cell_type": "code",
   "execution_count": 0,
   "metadata": {
    "colab": {
     "autoexec": {
      "startup": false,
      "wait_interval": 0
     }
    },
    "colab_type": "code",
    "id": "5I3pt7NaFgQv"
   },
   "outputs": [],
   "source": [
    "data['CarrierDelay'].fillna(0,inplace=True)\n",
    "data['LateAircraftDelay'].fillna(0,inplace=True)\n",
    "data['NASDelay'].fillna(0,inplace=True)\n",
    "data['SecurityDelay'].fillna(0,inplace=True)\n",
    "data['WeatherDelay'].fillna(0,inplace=True)\n",
    "data['ArrDelay'].fillna((int)(data['CRSDepTime'].mean()), inplace=True)\n",
    "data['ActualElapsedTime'].fillna((int)(data['DepDelay'].mean()), inplace=True)\n",
    "data['ArrTime'].fillna((int)(data['Cancelled'].mean()), inplace=True)\n",
    "data['DepDelay'].fillna((int)(data['Month'].mean()), inplace=True)\n",
    "data['DepTime'].fillna((int)(data['DayofMonth'].mean()), inplace=True)\n"
   ]
  },
  {
   "cell_type": "code",
   "execution_count": 11,
   "metadata": {
    "colab": {
     "autoexec": {
      "startup": false,
      "wait_interval": 0
     },
     "base_uri": "https://localhost:8080/",
     "height": 411
    },
    "colab_type": "code",
    "executionInfo": {
     "elapsed": 3873,
     "status": "ok",
     "timestamp": 1526461946935,
     "user": {
      "displayName": "Trinh Phuc",
      "photoUrl": "https://lh3.googleusercontent.com/a/default-user=s128",
      "userId": "117763058204935570065"
     },
     "user_tz": -420
    },
    "id": "jh5nbgS3MLZR",
    "outputId": "6724369e-dc82-44c5-a3bf-1d367befb89b"
   },
   "outputs": [
    {
     "data": {
      "text/plain": [
       "(7009728, 21)"
      ]
     },
     "execution_count": 11,
     "metadata": {
      "tags": []
     },
     "output_type": "execute_result"
    },
    {
     "data": {
      "image/png": "[encoded data removed]",
      "text/plain": [
       "<matplotlib.figure.Figure at 0x7fd198b36d30>"
      ]
     },
     "metadata": {
      "tags": []
     },
     "output_type": "display_data"
    }
   ],
   "source": [
    "missing_df = data.isnull().sum(axis=0).reset_index()\n",
    "missing_df.columns = ['variables','missing values']\n",
    "missing_df['filling factor (%)'] = (data.shape[0]-missing_df['missing values'])/data.shape[0]*100\n",
    "missing_df.sort_values('filling factor (%)').reset_index(drop=True)\n",
    "x=[]\n",
    "y=[]\n",
    "for i in missing_df.variables:\n",
    "  x.append(i)\n",
    "for j in missing_df['filling factor (%)']:\n",
    "  y.append(j)\n",
    "f,ax = plt.subplots(figsize=(27,6))\n",
    "sns.barplot(x=x, y=y)\n",
    "data.shape"
   ]
  },
  {
   "cell_type": "markdown",
   "metadata": {
    "colab_type": "text",
    "id": "SfFLk103nqHe"
   },
   "source": [
    "### Insert a acolumn named \"Late_or_AintLate\" which indicates 'late' if ArrivalTime >30 mins and 'aint late' if ArrivalTime <30 mins"
   ]
  },
  {
   "cell_type": "code",
   "execution_count": 10,
   "metadata": {
    "colab": {
     "autoexec": {
      "startup": false,
      "wait_interval": 0
     },
     "base_uri": "https://localhost:8080/",
     "height": 162
    },
    "colab_type": "code",
    "executionInfo": {
     "elapsed": 1904,
     "status": "ok",
     "timestamp": 1526465602576,
     "user": {
      "displayName": "Trinh Phuc",
      "photoUrl": "https://lh3.googleusercontent.com/a/default-user=s128",
      "userId": "117763058204935570065"
     },
     "user_tz": -420
    },
    "id": "FxO5_CwAn9u5",
    "outputId": "b773f5a0-b110-4020-9851-a58d8b8bc278"
   },
   "outputs": [
    {
     "data": {
      "text/html": [
       "<div>\n",
       "<style scoped>\n",
       "    .dataframe tbody tr th:only-of-type {\n",
       "        vertical-align: middle;\n",
       "    }\n",
       "\n",
       "    .dataframe tbody tr th {\n",
       "        vertical-align: top;\n",
       "    }\n",
       "\n",
       "    .dataframe thead th {\n",
       "        text-align: right;\n",
       "    }\n",
       "</style>\n",
       "<table border=\"1\" class=\"dataframe\">\n",
       "  <thead>\n",
       "    <tr style=\"text-align: right;\">\n",
       "      <th></th>\n",
       "      <th>ArrDelay</th>\n",
       "      <th>ActualElapsedTime</th>\n",
       "      <th>CRSArrTime</th>\n",
       "      <th>ArrTime</th>\n",
       "      <th>DepTime</th>\n",
       "      <th>CRSDepTime</th>\n",
       "      <th>DepDelay</th>\n",
       "      <th>Cancelled</th>\n",
       "      <th>Month</th>\n",
       "      <th>DayofMonth</th>\n",
       "      <th>DayOfWeek</th>\n",
       "      <th>Distance</th>\n",
       "      <th>FlightNum</th>\n",
       "      <th>UniqueCarrier</th>\n",
       "      <th>Origin</th>\n",
       "      <th>Dest</th>\n",
       "      <th>SecurityDelay</th>\n",
       "      <th>NASDelay</th>\n",
       "      <th>LateAircraftDelay</th>\n",
       "      <th>WeatherDelay</th>\n",
       "      <th>CarrierDelay</th>\n",
       "      <th>Late_or_AintLate</th>\n",
       "    </tr>\n",
       "  </thead>\n",
       "  <tbody>\n",
       "    <tr>\n",
       "      <th>0</th>\n",
       "      <td>-14.0</td>\n",
       "      <td>128.0</td>\n",
       "      <td>2225</td>\n",
       "      <td>2211.0</td>\n",
       "      <td>2003.0</td>\n",
       "      <td>1955</td>\n",
       "      <td>8.0</td>\n",
       "      <td>0</td>\n",
       "      <td>1</td>\n",
       "      <td>3</td>\n",
       "      <td>4</td>\n",
       "      <td>810</td>\n",
       "      <td>335</td>\n",
       "      <td>WN</td>\n",
       "      <td>IAD</td>\n",
       "      <td>TPA</td>\n",
       "      <td>0.0</td>\n",
       "      <td>0.0</td>\n",
       "      <td>0.0</td>\n",
       "      <td>0.0</td>\n",
       "      <td>0.0</td>\n",
       "      <td>aint late</td>\n",
       "    </tr>\n",
       "    <tr>\n",
       "      <th>1</th>\n",
       "      <td>2.0</td>\n",
       "      <td>128.0</td>\n",
       "      <td>1000</td>\n",
       "      <td>1002.0</td>\n",
       "      <td>754.0</td>\n",
       "      <td>735</td>\n",
       "      <td>19.0</td>\n",
       "      <td>0</td>\n",
       "      <td>1</td>\n",
       "      <td>3</td>\n",
       "      <td>4</td>\n",
       "      <td>810</td>\n",
       "      <td>3231</td>\n",
       "      <td>WN</td>\n",
       "      <td>IAD</td>\n",
       "      <td>TPA</td>\n",
       "      <td>0.0</td>\n",
       "      <td>0.0</td>\n",
       "      <td>0.0</td>\n",
       "      <td>0.0</td>\n",
       "      <td>0.0</td>\n",
       "      <td>aint late</td>\n",
       "    </tr>\n",
       "    <tr>\n",
       "      <th>2</th>\n",
       "      <td>14.0</td>\n",
       "      <td>96.0</td>\n",
       "      <td>750</td>\n",
       "      <td>804.0</td>\n",
       "      <td>628.0</td>\n",
       "      <td>620</td>\n",
       "      <td>8.0</td>\n",
       "      <td>0</td>\n",
       "      <td>1</td>\n",
       "      <td>3</td>\n",
       "      <td>4</td>\n",
       "      <td>515</td>\n",
       "      <td>448</td>\n",
       "      <td>WN</td>\n",
       "      <td>IND</td>\n",
       "      <td>BWI</td>\n",
       "      <td>0.0</td>\n",
       "      <td>0.0</td>\n",
       "      <td>0.0</td>\n",
       "      <td>0.0</td>\n",
       "      <td>0.0</td>\n",
       "      <td>aint late</td>\n",
       "    </tr>\n",
       "  </tbody>\n",
       "</table>\n",
       "</div>"
      ],
      "text/plain": [
       "   ArrDelay  ActualElapsedTime  CRSArrTime  ArrTime  DepTime  CRSDepTime  \\\n",
       "0     -14.0              128.0        2225   2211.0   2003.0        1955   \n",
       "1       2.0              128.0        1000   1002.0    754.0         735   \n",
       "2      14.0               96.0         750    804.0    628.0         620   \n",
       "\n",
       "   DepDelay  Cancelled  Month  DayofMonth  DayOfWeek  Distance  FlightNum  \\\n",
       "0       8.0          0      1           3          4       810        335   \n",
       "1      19.0          0      1           3          4       810       3231   \n",
       "2       8.0          0      1           3          4       515        448   \n",
       "\n",
       "  UniqueCarrier Origin Dest  SecurityDelay  NASDelay  LateAircraftDelay  \\\n",
       "0            WN    IAD  TPA            0.0       0.0                0.0   \n",
       "1            WN    IAD  TPA            0.0       0.0                0.0   \n",
       "2            WN    IND  BWI            0.0       0.0                0.0   \n",
       "\n",
       "   WeatherDelay  CarrierDelay Late_or_AintLate  \n",
       "0           0.0           0.0        aint late  \n",
       "1           0.0           0.0        aint late  \n",
       "2           0.0           0.0        aint late  "
      ]
     },
     "execution_count": 10,
     "metadata": {
      "tags": []
     },
     "output_type": "execute_result"
    }
   ],
   "source": [
    "condi = [(data['ArrDelay'] >30)]\n",
    "choi = ['late']\n",
    "data['Late_or_AintLate'] = np.select(condi, choi, default='aint late')\n",
    "data.head(3)"
   ]
  },
  {
   "cell_type": "code",
   "execution_count": null,
   "metadata": {},
   "outputs": [],
   "source": []
  },
  {
   "cell_type": "markdown",
   "metadata": {
    "colab_type": "text",
    "id": "c0ORgtZSp0aL"
   },
   "source": [
    "### => Class Imbalance in severe. With the rate of Aint late/late = 5.637 times"
   ]
  },
  {
   "cell_type": "markdown",
   "metadata": {
    "colab_type": "text",
    "id": "b0eOlbKdtUmN"
   },
   "source": [
    "# Plot the correlations berween some timeline columns and Late/AintLate Columns"
   ]
  },
  {
   "cell_type": "markdown",
   "metadata": {
    "colab_type": "text",
    "id": "VqD2IPkutmom"
   },
   "source": [
    "## DayofWeek/Late_or_AintLate in rate"
   ]
  },
  {
   "cell_type": "code",
   "execution_count": 14,
   "metadata": {
    "colab": {
     "autoexec": {
      "startup": false,
      "wait_interval": 0
     },
     "base_uri": "https://localhost:8080/",
     "height": 376
    },
    "colab_type": "code",
    "executionInfo": {
     "elapsed": 244235,
     "status": "ok",
     "timestamp": 1526459232843,
     "user": {
      "displayName": "Trinh Phuc",
      "photoUrl": "https://lh3.googleusercontent.com/a/default-user=s128",
      "userId": "117763058204935570065"
     },
     "user_tz": -420
    },
    "id": "5g4d03u7tlvO",
    "outputId": "33213111-baba-43f2-bb79-1ff27ecbdd16"
   },
   "outputs": [
    {
     "data": {
      "image/png": "[encoded data removed]",
      "text/plain": [
       "<matplotlib.figure.Figure at 0x7f72411535c0>"
      ]
     },
     "metadata": {
      "tags": []
     },
     "output_type": "display_data"
    }
   ],
   "source": [
    "sns.set(style=\"dark\")\n",
    "ax = sns.violinplot(x='DayOfWeek',y='Late_or_AintLate',data=data,hue='Late_or_AintLate')\n",
    "ax.set_title('DayOfWeek/Late')\n",
    "plt.show()"
   ]
  },
  {
   "cell_type": "markdown",
   "metadata": {
    "colab_type": "text",
    "id": "gG31pzgmtxIw"
   },
   "source": [
    "## DayofMonth/Late_or_AintLate in rate"
   ]
  },
  {
   "cell_type": "code",
   "execution_count": 15,
   "metadata": {
    "colab": {
     "autoexec": {
      "startup": false,
      "wait_interval": 0
     },
     "base_uri": "https://localhost:8080/",
     "height": 376
    },
    "colab_type": "code",
    "executionInfo": {
     "elapsed": 247455,
     "status": "ok",
     "timestamp": 1526459480343,
     "user": {
      "displayName": "Trinh Phuc",
      "photoUrl": "https://lh3.googleusercontent.com/a/default-user=s128",
      "userId": "117763058204935570065"
     },
     "user_tz": -420
    },
    "id": "aTum1inztyy6",
    "outputId": "ac84307c-4870-41bb-bdb7-88053cd87512"
   },
   "outputs": [
    {
     "data": {
      "image/png": "[encoded data removed]",
      "text/plain": [
       "<matplotlib.figure.Figure at 0x7f724115da58>"
      ]
     },
     "metadata": {
      "tags": []
     },
     "output_type": "display_data"
    }
   ],
   "source": [
    "sns.set(style=\"dark\")\n",
    "ax = sns.violinplot(x='DayofMonth',y='Late_or_AintLate',data=data,hue='Late_or_AintLate')\n",
    "ax.set_title('DayofMonth/Late')\n",
    "plt.show()"
   ]
  },
  {
   "cell_type": "markdown",
   "metadata": {
    "colab_type": "text",
    "id": "SER3-5hpqUf2"
   },
   "source": [
    "## Month/Late_or_AintLate in rate"
   ]
  },
  {
   "cell_type": "code",
   "execution_count": 0,
   "metadata": {
    "colab": {
     "autoexec": {
      "startup": false,
      "wait_interval": 0
     }
    },
    "colab_type": "code",
    "id": "VFP3uwmUqm-L"
   },
   "outputs": [],
   "source": [
    "sns.set(style=\"dark\")\n",
    "ax = sns.violinplot(x='Month',y='Late_or_AintLate',data=data,hue='Late_or_AintLate')\n",
    "ax.set_title('Month/Late')\n",
    "plt.show()"
   ]
  },
  {
   "cell_type": "markdown",
   "metadata": {
    "colab_type": "text",
    "id": "IfpyTDhrRHWi"
   },
   "source": [
    "# Types of Datatype"
   ]
  },
  {
   "cell_type": "code",
   "execution_count": 30,
   "metadata": {
    "colab": {
     "autoexec": {
      "startup": false,
      "wait_interval": 0
     },
     "base_uri": "https://localhost:8080/",
     "height": 265
    },
    "colab_type": "code",
    "executionInfo": {
     "elapsed": 825,
     "status": "ok",
     "timestamp": 1526461048169,
     "user": {
      "displayName": "Trinh Phuc",
      "photoUrl": "https://lh3.googleusercontent.com/a/default-user=s128",
      "userId": "117763058204935570065"
     },
     "user_tz": -420
    },
    "id": "et2h_JnrFsin",
    "outputId": "b2f5786a-3e70-4b16-f0c3-e93284b20d5f"
   },
   "outputs": [
    {
     "data": {
      "image/png": "[encoded data removed]",
      "text/plain": [
       "<matplotlib.figure.Figure at 0x7f72241a3b00>"
      ]
     },
     "metadata": {
      "tags": []
     },
     "output_type": "display_data"
    }
   ],
   "source": [
    "count={'float64':0,'int64':0,'object':0}\n",
    "for i, j in data.dtypes.items():\n",
    "  count[str(j)]=count[str(j)]+1\n",
    "plt.bar(range(len(count)), list(count.values()), align='center', color='red')\n",
    "plt.xticks(range(len(count)), list(count.keys()))\n",
    "plt.show()"
   ]
  },
  {
   "cell_type": "markdown",
   "metadata": {
    "colab_type": "text",
    "id": "ThqOR2TSRV_a"
   },
   "source": [
    "#### To models can understand these features, i will encode these cols object type UniqueCarrier, Origin, Dest like  into interger datatype"
   ]
  },
  {
   "cell_type": "code",
   "execution_count": 0,
   "metadata": {
    "colab": {
     "autoexec": {
      "startup": false,
      "wait_interval": 0
     }
    },
    "colab_type": "code",
    "id": "0YA4uGIVF2Oj"
   },
   "outputs": [],
   "source": [
    "from sklearn.preprocessing import LabelEncoder\n",
    "lbEncoder = LabelEncoder()\n",
    "data['UniqueCarrier'] = lbEncoder.fit_transform(data.UniqueCarrier)\n",
    "data['Origin'] = lbEncoder.fit_transform(data.Origin)\n",
    "data['Dest'] = lbEncoder.fit_transform(data.Dest)\n",
    "data['Late_or_AintLate'] = lbEncoder.fit_transform(data.Late_or_AintLate)"
   ]
  },
  {
   "cell_type": "markdown",
   "metadata": {
    "colab_type": "text",
    "id": "0DkVBV1UR5xu"
   },
   "source": [
    "#### Check the result after encoding"
   ]
  },
  {
   "cell_type": "code",
   "execution_count": 16,
   "metadata": {
    "colab": {
     "autoexec": {
      "startup": false,
      "wait_interval": 0
     },
     "base_uri": "https://localhost:8080/",
     "height": 265
    },
    "colab_type": "code",
    "executionInfo": {
     "elapsed": 792,
     "status": "ok",
     "timestamp": 1526461241786,
     "user": {
      "displayName": "Trinh Phuc",
      "photoUrl": "https://lh3.googleusercontent.com/a/default-user=s128",
      "userId": "117763058204935570065"
     },
     "user_tz": -420
    },
    "id": "U0siJkepF4us",
    "outputId": "b68eeadc-63d1-4db4-db06-18361f71a9d8"
   },
   "outputs": [
    {
     "data": {
      "image/png": "[encoded data removed]",
      "text/plain": [
       "<matplotlib.figure.Figure at 0x7f3434fdff28>"
      ]
     },
     "metadata": {
      "tags": []
     },
     "output_type": "display_data"
    }
   ],
   "source": [
    "count={'float64':0,'int64':0,'object':0}\n",
    "for i, j in data.dtypes.items():\n",
    "  count[str(j)]=count[str(j)]+1\n",
    "plt.bar(range(len(count)), list(count.values()), align='center', color='red')\n",
    "plt.xticks(range(len(count)), list(count.keys()))\n",
    "plt.show()"
   ]
  },
  {
   "cell_type": "markdown",
   "metadata": {
    "colab_type": "text",
    "id": "VQ_dfFPYSG9U"
   },
   "source": [
    "# Plot variable correlations"
   ]
  },
  {
   "cell_type": "code",
   "execution_count": 22,
   "metadata": {
    "colab": {
     "autoexec": {
      "startup": false,
      "wait_interval": 0
     },
     "base_uri": "https://localhost:8080/",
     "height": 449
    },
    "colab_type": "code",
    "executionInfo": {
     "elapsed": 10355,
     "status": "ok",
     "timestamp": 1526451378886,
     "user": {
      "displayName": "Trinh Phuc",
      "photoUrl": "https://lh3.googleusercontent.com/a/default-user=s128",
      "userId": "117763058204935570065"
     },
     "user_tz": -420
    },
    "id": "2UEnuNRaGLBo",
    "outputId": "b9e84ede-2b6a-4ff5-9eac-ca12111f3b34"
   },
   "outputs": [
    {
     "data": {
      "text/html": [
       "<style  type=\"text/css\" >\n",
       "    #T_a72a7e88_58d0_11e8_b012_0242ac110002 th {\n",
       "          font-size: 7pt;\n",
       "    }    #T_a72a7e88_58d0_11e8_b012_0242ac110002 td {\n",
       "          padding: 0em 0em;\n",
       "    }    #T_a72a7e88_58d0_11e8_b012_0242ac110002 th:hover {\n",
       "          font-size: 12pt;\n",
       "    }    #T_a72a7e88_58d0_11e8_b012_0242ac110002 tr:hover td:hover {\n",
       "          max-width: 200px;\n",
       "          font-size: 12pt;\n",
       "    }    #T_a72a7e88_58d0_11e8_b012_0242ac110002row0_col0 {\n",
       "            background-color:  #4479bb;\n",
       "            max-width:  80px;\n",
       "            font-size:  10pt;\n",
       "        }    #T_a72a7e88_58d0_11e8_b012_0242ac110002row0_col1 {\n",
       "            background-color:  #df637c;\n",
       "            max-width:  80px;\n",
       "            font-size:  10pt;\n",
       "        }    #T_a72a7e88_58d0_11e8_b012_0242ac110002row0_col2 {\n",
       "            background-color:  #eda8b6;\n",
       "            max-width:  80px;\n",
       "            font-size:  10pt;\n",
       "        }    #T_a72a7e88_58d0_11e8_b012_0242ac110002row0_col3 {\n",
       "            background-color:  #d73c5b;\n",
       "            max-width:  80px;\n",
       "            font-size:  10pt;\n",
       "        }    #T_a72a7e88_58d0_11e8_b012_0242ac110002row0_col4 {\n",
       "            background-color:  #db4f6b;\n",
       "            max-width:  80px;\n",
       "            font-size:  10pt;\n",
       "        }    #T_a72a7e88_58d0_11e8_b012_0242ac110002row0_col5 {\n",
       "            background-color:  #eda8b6;\n",
       "            max-width:  80px;\n",
       "            font-size:  10pt;\n",
       "        }    #T_a72a7e88_58d0_11e8_b012_0242ac110002row0_col6 {\n",
       "            background-color:  #f5ccd4;\n",
       "            max-width:  80px;\n",
       "            font-size:  10pt;\n",
       "        }    #T_a72a7e88_58d0_11e8_b012_0242ac110002row0_col7 {\n",
       "            background-color:  #5787c2;\n",
       "            max-width:  80px;\n",
       "            font-size:  10pt;\n",
       "        }    #T_a72a7e88_58d0_11e8_b012_0242ac110002row0_col8 {\n",
       "            background-color:  #ea96a7;\n",
       "            max-width:  80px;\n",
       "            font-size:  10pt;\n",
       "        }    #T_a72a7e88_58d0_11e8_b012_0242ac110002row0_col9 {\n",
       "            background-color:  #eb9dac;\n",
       "            max-width:  80px;\n",
       "            font-size:  10pt;\n",
       "        }    #T_a72a7e88_58d0_11e8_b012_0242ac110002row0_col10 {\n",
       "            background-color:  #eb9dac;\n",
       "            max-width:  80px;\n",
       "            font-size:  10pt;\n",
       "        }    #T_a72a7e88_58d0_11e8_b012_0242ac110002row0_col11 {\n",
       "            background-color:  #ea97a8;\n",
       "            max-width:  80px;\n",
       "            font-size:  10pt;\n",
       "        }    #T_a72a7e88_58d0_11e8_b012_0242ac110002row0_col12 {\n",
       "            background-color:  #eeaab7;\n",
       "            max-width:  80px;\n",
       "            font-size:  10pt;\n",
       "        }    #T_a72a7e88_58d0_11e8_b012_0242ac110002row0_col13 {\n",
       "            background-color:  #eb9bab;\n",
       "            max-width:  80px;\n",
       "            font-size:  10pt;\n",
       "        }    #T_a72a7e88_58d0_11e8_b012_0242ac110002row0_col14 {\n",
       "            background-color:  #eb9dac;\n",
       "            max-width:  80px;\n",
       "            font-size:  10pt;\n",
       "        }    #T_a72a7e88_58d0_11e8_b012_0242ac110002row0_col15 {\n",
       "            background-color:  #eb9dac;\n",
       "            max-width:  80px;\n",
       "            font-size:  10pt;\n",
       "        }    #T_a72a7e88_58d0_11e8_b012_0242ac110002row0_col16 {\n",
       "            background-color:  #eb9ead;\n",
       "            max-width:  80px;\n",
       "            font-size:  10pt;\n",
       "        }    #T_a72a7e88_58d0_11e8_b012_0242ac110002row0_col17 {\n",
       "            background-color:  #efafbc;\n",
       "            max-width:  80px;\n",
       "            font-size:  10pt;\n",
       "        }    #T_a72a7e88_58d0_11e8_b012_0242ac110002row0_col18 {\n",
       "            background-color:  #f0b5c1;\n",
       "            max-width:  80px;\n",
       "            font-size:  10pt;\n",
       "        }    #T_a72a7e88_58d0_11e8_b012_0242ac110002row0_col19 {\n",
       "            background-color:  #eeaab7;\n",
       "            max-width:  80px;\n",
       "            font-size:  10pt;\n",
       "        }    #T_a72a7e88_58d0_11e8_b012_0242ac110002row0_col20 {\n",
       "            background-color:  #f0b5c1;\n",
       "            max-width:  80px;\n",
       "            font-size:  10pt;\n",
       "        }    #T_a72a7e88_58d0_11e8_b012_0242ac110002row1_col0 {\n",
       "            background-color:  #dc5570;\n",
       "            max-width:  80px;\n",
       "            font-size:  10pt;\n",
       "        }    #T_a72a7e88_58d0_11e8_b012_0242ac110002row1_col1 {\n",
       "            background-color:  #4479bb;\n",
       "            max-width:  80px;\n",
       "            font-size:  10pt;\n",
       "        }    #T_a72a7e88_58d0_11e8_b012_0242ac110002row1_col2 {\n",
       "            background-color:  #ec9faf;\n",
       "            max-width:  80px;\n",
       "            font-size:  10pt;\n",
       "        }    #T_a72a7e88_58d0_11e8_b012_0242ac110002row1_col3 {\n",
       "            background-color:  #f0b7c2;\n",
       "            max-width:  80px;\n",
       "            font-size:  10pt;\n",
       "        }    #T_a72a7e88_58d0_11e8_b012_0242ac110002row1_col4 {\n",
       "            background-color:  #eda6b4;\n",
       "            max-width:  80px;\n",
       "            font-size:  10pt;\n",
       "        }    #T_a72a7e88_58d0_11e8_b012_0242ac110002row1_col5 {\n",
       "            background-color:  #e88d9f;\n",
       "            max-width:  80px;\n",
       "            font-size:  10pt;\n",
       "        }    #T_a72a7e88_58d0_11e8_b012_0242ac110002row1_col6 {\n",
       "            background-color:  #eb9ead;\n",
       "            max-width:  80px;\n",
       "            font-size:  10pt;\n",
       "        }    #T_a72a7e88_58d0_11e8_b012_0242ac110002row1_col7 {\n",
       "            background-color:  #dc526e;\n",
       "            max-width:  80px;\n",
       "            font-size:  10pt;\n",
       "        }    #T_a72a7e88_58d0_11e8_b012_0242ac110002row1_col8 {\n",
       "            background-color:  #e890a1;\n",
       "            max-width:  80px;\n",
       "            font-size:  10pt;\n",
       "        }    #T_a72a7e88_58d0_11e8_b012_0242ac110002row1_col9 {\n",
       "            background-color:  #e993a4;\n",
       "            max-width:  80px;\n",
       "            font-size:  10pt;\n",
       "        }    #T_a72a7e88_58d0_11e8_b012_0242ac110002row1_col10 {\n",
       "            background-color:  #ea97a8;\n",
       "            max-width:  80px;\n",
       "            font-size:  10pt;\n",
       "        }    #T_a72a7e88_58d0_11e8_b012_0242ac110002row1_col11 {\n",
       "            background-color:  #5485c1;\n",
       "            max-width:  80px;\n",
       "            font-size:  10pt;\n",
       "        }    #T_a72a7e88_58d0_11e8_b012_0242ac110002row1_col12 {\n",
       "            background-color:  #d73c5b;\n",
       "            max-width:  80px;\n",
       "            font-size:  10pt;\n",
       "        }    #T_a72a7e88_58d0_11e8_b012_0242ac110002row1_col13 {\n",
       "            background-color:  #de5c76;\n",
       "            max-width:  80px;\n",
       "            font-size:  10pt;\n",
       "        }    #T_a72a7e88_58d0_11e8_b012_0242ac110002row1_col14 {\n",
       "            background-color:  #eb9dac;\n",
       "            max-width:  80px;\n",
       "            font-size:  10pt;\n",
       "        }    #T_a72a7e88_58d0_11e8_b012_0242ac110002row1_col15 {\n",
       "            background-color:  #eda6b4;\n",
       "            max-width:  80px;\n",
       "            font-size:  10pt;\n",
       "        }    #T_a72a7e88_58d0_11e8_b012_0242ac110002row1_col16 {\n",
       "            background-color:  #e994a5;\n",
       "            max-width:  80px;\n",
       "            font-size:  10pt;\n",
       "        }    #T_a72a7e88_58d0_11e8_b012_0242ac110002row1_col17 {\n",
       "            background-color:  #f2bdc8;\n",
       "            max-width:  80px;\n",
       "            font-size:  10pt;\n",
       "        }    #T_a72a7e88_58d0_11e8_b012_0242ac110002row1_col18 {\n",
       "            background-color:  #ea99a9;\n",
       "            max-width:  80px;\n",
       "            font-size:  10pt;\n",
       "        }    #T_a72a7e88_58d0_11e8_b012_0242ac110002row1_col19 {\n",
       "            background-color:  #ea96a7;\n",
       "            max-width:  80px;\n",
       "            font-size:  10pt;\n",
       "        }    #T_a72a7e88_58d0_11e8_b012_0242ac110002row1_col20 {\n",
       "            background-color:  #eb9bab;\n",
       "            max-width:  80px;\n",
       "            font-size:  10pt;\n",
       "        }    #T_a72a7e88_58d0_11e8_b012_0242ac110002row2_col0 {\n",
       "            background-color:  #dc516d;\n",
       "            max-width:  80px;\n",
       "            font-size:  10pt;\n",
       "        }    #T_a72a7e88_58d0_11e8_b012_0242ac110002row2_col1 {\n",
       "            background-color:  #dc5570;\n",
       "            max-width:  80px;\n",
       "            font-size:  10pt;\n",
       "        }    #T_a72a7e88_58d0_11e8_b012_0242ac110002row2_col2 {\n",
       "            background-color:  #4479bb;\n",
       "            max-width:  80px;\n",
       "            font-size:  10pt;\n",
       "        }    #T_a72a7e88_58d0_11e8_b012_0242ac110002row2_col3 {\n",
       "            background-color:  #90afd6;\n",
       "            max-width:  80px;\n",
       "            font-size:  10pt;\n",
       "        }    #T_a72a7e88_58d0_11e8_b012_0242ac110002row2_col4 {\n",
       "            background-color:  #a2bcdd;\n",
       "            max-width:  80px;\n",
       "            font-size:  10pt;\n",
       "        }    #T_a72a7e88_58d0_11e8_b012_0242ac110002row2_col5 {\n",
       "            background-color:  #8babd4;\n",
       "            max-width:  80px;\n",
       "            font-size:  10pt;\n",
       "        }    #T_a72a7e88_58d0_11e8_b012_0242ac110002row2_col6 {\n",
       "            background-color:  #e27389;\n",
       "            max-width:  80px;\n",
       "            font-size:  10pt;\n",
       "        }    #T_a72a7e88_58d0_11e8_b012_0242ac110002row2_col7 {\n",
       "            background-color:  #da4966;\n",
       "            max-width:  80px;\n",
       "            font-size:  10pt;\n",
       "        }    #T_a72a7e88_58d0_11e8_b012_0242ac110002row2_col8 {\n",
       "            background-color:  #d94563;\n",
       "            max-width:  80px;\n",
       "            font-size:  10pt;\n",
       "        }    #T_a72a7e88_58d0_11e8_b012_0242ac110002row2_col9 {\n",
       "            background-color:  #d94462;\n",
       "            max-width:  80px;\n",
       "            font-size:  10pt;\n",
       "        }    #T_a72a7e88_58d0_11e8_b012_0242ac110002row2_col10 {\n",
       "            background-color:  #d94764;\n",
       "            max-width:  80px;\n",
       "            font-size:  10pt;\n",
       "        }    #T_a72a7e88_58d0_11e8_b012_0242ac110002row2_col11 {\n",
       "            background-color:  #dc5570;\n",
       "            max-width:  80px;\n",
       "            font-size:  10pt;\n",
       "        }    #T_a72a7e88_58d0_11e8_b012_0242ac110002row2_col12 {\n",
       "            background-color:  #d73c5b;\n",
       "            max-width:  80px;\n",
       "            font-size:  10pt;\n",
       "        }    #T_a72a7e88_58d0_11e8_b012_0242ac110002row2_col13 {\n",
       "            background-color:  #d83e5d;\n",
       "            max-width:  80px;\n",
       "            font-size:  10pt;\n",
       "        }    #T_a72a7e88_58d0_11e8_b012_0242ac110002row2_col14 {\n",
       "            background-color:  #d94261;\n",
       "            max-width:  80px;\n",
       "            font-size:  10pt;\n",
       "        }    #T_a72a7e88_58d0_11e8_b012_0242ac110002row2_col15 {\n",
       "            background-color:  #da4966;\n",
       "            max-width:  80px;\n",
       "            font-size:  10pt;\n",
       "        }    #T_a72a7e88_58d0_11e8_b012_0242ac110002row2_col16 {\n",
       "            background-color:  #d94563;\n",
       "            max-width:  80px;\n",
       "            font-size:  10pt;\n",
       "        }    #T_a72a7e88_58d0_11e8_b012_0242ac110002row2_col17 {\n",
       "            background-color:  #dd5671;\n",
       "            max-width:  80px;\n",
       "            font-size:  10pt;\n",
       "        }    #T_a72a7e88_58d0_11e8_b012_0242ac110002row2_col18 {\n",
       "            background-color:  #e26f86;\n",
       "            max-width:  80px;\n",
       "            font-size:  10pt;\n",
       "        }    #T_a72a7e88_58d0_11e8_b012_0242ac110002row2_col19 {\n",
       "            background-color:  #db4d69;\n",
       "            max-width:  80px;\n",
       "            font-size:  10pt;\n",
       "        }    #T_a72a7e88_58d0_11e8_b012_0242ac110002row2_col20 {\n",
       "            background-color:  #db4d69;\n",
       "            max-width:  80px;\n",
       "            font-size:  10pt;\n",
       "        }    #T_a72a7e88_58d0_11e8_b012_0242ac110002row3_col0 {\n",
       "            background-color:  #d73c5b;\n",
       "            max-width:  80px;\n",
       "            font-size:  10pt;\n",
       "        }    #T_a72a7e88_58d0_11e8_b012_0242ac110002row3_col1 {\n",
       "            background-color:  #f2c1cb;\n",
       "            max-width:  80px;\n",
       "            font-size:  10pt;\n",
       "        }    #T_a72a7e88_58d0_11e8_b012_0242ac110002row3_col2 {\n",
       "            background-color:  #7da2cf;\n",
       "            max-width:  80px;\n",
       "            font-size:  10pt;\n",
       "        }    #T_a72a7e88_58d0_11e8_b012_0242ac110002row3_col3 {\n",
       "            background-color:  #4479bb;\n",
       "            max-width:  80px;\n",
       "            font-size:  10pt;\n",
       "        }    #T_a72a7e88_58d0_11e8_b012_0242ac110002row3_col4 {\n",
       "            background-color:  #85a7d2;\n",
       "            max-width:  80px;\n",
       "            font-size:  10pt;\n",
       "        }    #T_a72a7e88_58d0_11e8_b012_0242ac110002row3_col5 {\n",
       "            background-color:  #a3bddd;\n",
       "            max-width:  80px;\n",
       "            font-size:  10pt;\n",
       "        }    #T_a72a7e88_58d0_11e8_b012_0242ac110002row3_col6 {\n",
       "            background-color:  #efb1be;\n",
       "            max-width:  80px;\n",
       "            font-size:  10pt;\n",
       "        }    #T_a72a7e88_58d0_11e8_b012_0242ac110002row3_col7 {\n",
       "            background-color:  #d73c5b;\n",
       "            max-width:  80px;\n",
       "            font-size:  10pt;\n",
       "        }    #T_a72a7e88_58d0_11e8_b012_0242ac110002row3_col8 {\n",
       "            background-color:  #eca3b1;\n",
       "            max-width:  80px;\n",
       "            font-size:  10pt;\n",
       "        }    #T_a72a7e88_58d0_11e8_b012_0242ac110002row3_col9 {\n",
       "            background-color:  #ec9faf;\n",
       "            max-width:  80px;\n",
       "            font-size:  10pt;\n",
       "        }    #T_a72a7e88_58d0_11e8_b012_0242ac110002row3_col10 {\n",
       "            background-color:  #ec9faf;\n",
       "            max-width:  80px;\n",
       "            font-size:  10pt;\n",
       "        }    #T_a72a7e88_58d0_11e8_b012_0242ac110002row3_col11 {\n",
       "            background-color:  #eeaab7;\n",
       "            max-width:  80px;\n",
       "            font-size:  10pt;\n",
       "        }    #T_a72a7e88_58d0_11e8_b012_0242ac110002row3_col12 {\n",
       "            background-color:  #ea97a8;\n",
       "            max-width:  80px;\n",
       "            font-size:  10pt;\n",
       "        }    #T_a72a7e88_58d0_11e8_b012_0242ac110002row3_col13 {\n",
       "            background-color:  #eb9dac;\n",
       "            max-width:  80px;\n",
       "            font-size:  10pt;\n",
       "        }    #T_a72a7e88_58d0_11e8_b012_0242ac110002row3_col14 {\n",
       "            background-color:  #eb9ead;\n",
       "            max-width:  80px;\n",
       "            font-size:  10pt;\n",
       "        }    #T_a72a7e88_58d0_11e8_b012_0242ac110002row3_col15 {\n",
       "            background-color:  #eca3b1;\n",
       "            max-width:  80px;\n",
       "            font-size:  10pt;\n",
       "        }    #T_a72a7e88_58d0_11e8_b012_0242ac110002row3_col16 {\n",
       "            background-color:  #ec9faf;\n",
       "            max-width:  80px;\n",
       "            font-size:  10pt;\n",
       "        }    #T_a72a7e88_58d0_11e8_b012_0242ac110002row3_col17 {\n",
       "            background-color:  #efb1be;\n",
       "            max-width:  80px;\n",
       "            font-size:  10pt;\n",
       "        }    #T_a72a7e88_58d0_11e8_b012_0242ac110002row3_col18 {\n",
       "            background-color:  #eeacba;\n",
       "            max-width:  80px;\n",
       "            font-size:  10pt;\n",
       "        }    #T_a72a7e88_58d0_11e8_b012_0242ac110002row3_col19 {\n",
       "            background-color:  #eca1b0;\n",
       "            max-width:  80px;\n",
       "            font-size:  10pt;\n",
       "        }    #T_a72a7e88_58d0_11e8_b012_0242ac110002row3_col20 {\n",
       "            background-color:  #eca4b3;\n",
       "            max-width:  80px;\n",
       "            font-size:  10pt;\n",
       "        }    #T_a72a7e88_58d0_11e8_b012_0242ac110002row4_col0 {\n",
       "            background-color:  #da4b68;\n",
       "            max-width:  80px;\n",
       "            font-size:  10pt;\n",
       "        }    #T_a72a7e88_58d0_11e8_b012_0242ac110002row4_col1 {\n",
       "            background-color:  #eeacba;\n",
       "            max-width:  80px;\n",
       "            font-size:  10pt;\n",
       "        }    #T_a72a7e88_58d0_11e8_b012_0242ac110002row4_col2 {\n",
       "            background-color:  #8babd4;\n",
       "            max-width:  80px;\n",
       "            font-size:  10pt;\n",
       "        }    #T_a72a7e88_58d0_11e8_b012_0242ac110002row4_col3 {\n",
       "            background-color:  #86a8d3;\n",
       "            max-width:  80px;\n",
       "            font-size:  10pt;\n",
       "        }    #T_a72a7e88_58d0_11e8_b012_0242ac110002row4_col4 {\n",
       "            background-color:  #4479bb;\n",
       "            max-width:  80px;\n",
       "            font-size:  10pt;\n",
       "        }    #T_a72a7e88_58d0_11e8_b012_0242ac110002row4_col5 {\n",
       "            background-color:  #5f8cc5;\n",
       "            max-width:  80px;\n",
       "            font-size:  10pt;\n",
       "        }    #T_a72a7e88_58d0_11e8_b012_0242ac110002row4_col6 {\n",
       "            background-color:  #f5cfd7;\n",
       "            max-width:  80px;\n",
       "            font-size:  10pt;\n",
       "        }    #T_a72a7e88_58d0_11e8_b012_0242ac110002row4_col7 {\n",
       "            background-color:  #d73c5b;\n",
       "            max-width:  80px;\n",
       "            font-size:  10pt;\n",
       "        }    #T_a72a7e88_58d0_11e8_b012_0242ac110002row4_col8 {\n",
       "            background-color:  #eb9bab;\n",
       "            max-width:  80px;\n",
       "            font-size:  10pt;\n",
       "        }    #T_a72a7e88_58d0_11e8_b012_0242ac110002row4_col9 {\n",
       "            background-color:  #eb9bab;\n",
       "            max-width:  80px;\n",
       "            font-size:  10pt;\n",
       "        }    #T_a72a7e88_58d0_11e8_b012_0242ac110002row4_col10 {\n",
       "            background-color:  #eb9dac;\n",
       "            max-width:  80px;\n",
       "            font-size:  10pt;\n",
       "        }    #T_a72a7e88_58d0_11e8_b012_0242ac110002row4_col11 {\n",
       "            background-color:  #ea9aaa;\n",
       "            max-width:  80px;\n",
       "            font-size:  10pt;\n",
       "        }    #T_a72a7e88_58d0_11e8_b012_0242ac110002row4_col12 {\n",
       "            background-color:  #ea96a7;\n",
       "            max-width:  80px;\n",
       "            font-size:  10pt;\n",
       "        }    #T_a72a7e88_58d0_11e8_b012_0242ac110002row4_col13 {\n",
       "            background-color:  #eb9ead;\n",
       "            max-width:  80px;\n",
       "            font-size:  10pt;\n",
       "        }    #T_a72a7e88_58d0_11e8_b012_0242ac110002row4_col14 {\n",
       "            background-color:  #e993a4;\n",
       "            max-width:  80px;\n",
       "            font-size:  10pt;\n",
       "        }    #T_a72a7e88_58d0_11e8_b012_0242ac110002row4_col15 {\n",
       "            background-color:  #eca3b1;\n",
       "            max-width:  80px;\n",
       "            font-size:  10pt;\n",
       "        }    #T_a72a7e88_58d0_11e8_b012_0242ac110002row4_col16 {\n",
       "            background-color:  #eb9dac;\n",
       "            max-width:  80px;\n",
       "            font-size:  10pt;\n",
       "        }    #T_a72a7e88_58d0_11e8_b012_0242ac110002row4_col17 {\n",
       "            background-color:  #efb1be;\n",
       "            max-width:  80px;\n",
       "            font-size:  10pt;\n",
       "        }    #T_a72a7e88_58d0_11e8_b012_0242ac110002row4_col18 {\n",
       "            background-color:  #f4c8d0;\n",
       "            max-width:  80px;\n",
       "            font-size:  10pt;\n",
       "        }    #T_a72a7e88_58d0_11e8_b012_0242ac110002row4_col19 {\n",
       "            background-color:  #eda6b4;\n",
       "            max-width:  80px;\n",
       "            font-size:  10pt;\n",
       "        }    #T_a72a7e88_58d0_11e8_b012_0242ac110002row4_col20 {\n",
       "            background-color:  #eeaebb;\n",
       "            max-width:  80px;\n",
       "            font-size:  10pt;\n",
       "        }    #T_a72a7e88_58d0_11e8_b012_0242ac110002row5_col0 {\n",
       "            background-color:  #dc5570;\n",
       "            max-width:  80px;\n",
       "            font-size:  10pt;\n",
       "        }    #T_a72a7e88_58d0_11e8_b012_0242ac110002row5_col1 {\n",
       "            background-color:  #d8405e;\n",
       "            max-width:  80px;\n",
       "            font-size:  10pt;\n",
       "        }    #T_a72a7e88_58d0_11e8_b012_0242ac110002row5_col2 {\n",
       "            background-color:  #8babd4;\n",
       "            max-width:  80px;\n",
       "            font-size:  10pt;\n",
       "        }    #T_a72a7e88_58d0_11e8_b012_0242ac110002row5_col3 {\n",
       "            background-color:  #c3d4e9;\n",
       "            max-width:  80px;\n",
       "            font-size:  10pt;\n",
       "        }    #T_a72a7e88_58d0_11e8_b012_0242ac110002row5_col4 {\n",
       "            background-color:  #6993c8;\n",
       "            max-width:  80px;\n",
       "            font-size:  10pt;\n",
       "        }    #T_a72a7e88_58d0_11e8_b012_0242ac110002row5_col5 {\n",
       "            background-color:  #4479bb;\n",
       "            max-width:  80px;\n",
       "            font-size:  10pt;\n",
       "        }    #T_a72a7e88_58d0_11e8_b012_0242ac110002row5_col6 {\n",
       "            background-color:  #e3788d;\n",
       "            max-width:  80px;\n",
       "            font-size:  10pt;\n",
       "        }    #T_a72a7e88_58d0_11e8_b012_0242ac110002row5_col7 {\n",
       "            background-color:  #db4d69;\n",
       "            max-width:  80px;\n",
       "            font-size:  10pt;\n",
       "        }    #T_a72a7e88_58d0_11e8_b012_0242ac110002row5_col8 {\n",
       "            background-color:  #d94462;\n",
       "            max-width:  80px;\n",
       "            font-size:  10pt;\n",
       "        }    #T_a72a7e88_58d0_11e8_b012_0242ac110002row5_col9 {\n",
       "            background-color:  #d94764;\n",
       "            max-width:  80px;\n",
       "            font-size:  10pt;\n",
       "        }    #T_a72a7e88_58d0_11e8_b012_0242ac110002row5_col10 {\n",
       "            background-color:  #da4966;\n",
       "            max-width:  80px;\n",
       "            font-size:  10pt;\n",
       "        }    #T_a72a7e88_58d0_11e8_b012_0242ac110002row5_col11 {\n",
       "            background-color:  #d94261;\n",
       "            max-width:  80px;\n",
       "            font-size:  10pt;\n",
       "        }    #T_a72a7e88_58d0_11e8_b012_0242ac110002row5_col12 {\n",
       "            background-color:  #d94462;\n",
       "            max-width:  80px;\n",
       "            font-size:  10pt;\n",
       "        }    #T_a72a7e88_58d0_11e8_b012_0242ac110002row5_col13 {\n",
       "            background-color:  #da4b68;\n",
       "            max-width:  80px;\n",
       "            font-size:  10pt;\n",
       "        }    #T_a72a7e88_58d0_11e8_b012_0242ac110002row5_col14 {\n",
       "            background-color:  #d73c5b;\n",
       "            max-width:  80px;\n",
       "            font-size:  10pt;\n",
       "        }    #T_a72a7e88_58d0_11e8_b012_0242ac110002row5_col15 {\n",
       "            background-color:  #dc516d;\n",
       "            max-width:  80px;\n",
       "            font-size:  10pt;\n",
       "        }    #T_a72a7e88_58d0_11e8_b012_0242ac110002row5_col16 {\n",
       "            background-color:  #d94764;\n",
       "            max-width:  80px;\n",
       "            font-size:  10pt;\n",
       "        }    #T_a72a7e88_58d0_11e8_b012_0242ac110002row5_col17 {\n",
       "            background-color:  #dc5570;\n",
       "            max-width:  80px;\n",
       "            font-size:  10pt;\n",
       "        }    #T_a72a7e88_58d0_11e8_b012_0242ac110002row5_col18 {\n",
       "            background-color:  #e3768c;\n",
       "            max-width:  80px;\n",
       "            font-size:  10pt;\n",
       "        }    #T_a72a7e88_58d0_11e8_b012_0242ac110002row5_col19 {\n",
       "            background-color:  #db4f6b;\n",
       "            max-width:  80px;\n",
       "            font-size:  10pt;\n",
       "        }    #T_a72a7e88_58d0_11e8_b012_0242ac110002row5_col20 {\n",
       "            background-color:  #db4f6b;\n",
       "            max-width:  80px;\n",
       "            font-size:  10pt;\n",
       "        }    #T_a72a7e88_58d0_11e8_b012_0242ac110002row6_col0 {\n",
       "            background-color:  #e68396;\n",
       "            max-width:  80px;\n",
       "            font-size:  10pt;\n",
       "        }    #T_a72a7e88_58d0_11e8_b012_0242ac110002row6_col1 {\n",
       "            background-color:  #dc5570;\n",
       "            max-width:  80px;\n",
       "            font-size:  10pt;\n",
       "        }    #T_a72a7e88_58d0_11e8_b012_0242ac110002row6_col2 {\n",
       "            background-color:  #e27389;\n",
       "            max-width:  80px;\n",
       "            font-size:  10pt;\n",
       "        }    #T_a72a7e88_58d0_11e8_b012_0242ac110002row6_col3 {\n",
       "            background-color:  #de5e77;\n",
       "            max-width:  80px;\n",
       "            font-size:  10pt;\n",
       "        }    #T_a72a7e88_58d0_11e8_b012_0242ac110002row6_col4 {\n",
       "            background-color:  #e78a9d;\n",
       "            max-width:  80px;\n",
       "            font-size:  10pt;\n",
       "        }    #T_a72a7e88_58d0_11e8_b012_0242ac110002row6_col5 {\n",
       "            background-color:  #e3768c;\n",
       "            max-width:  80px;\n",
       "            font-size:  10pt;\n",
       "        }    #T_a72a7e88_58d0_11e8_b012_0242ac110002row6_col6 {\n",
       "            background-color:  #4479bb;\n",
       "            max-width:  80px;\n",
       "            font-size:  10pt;\n",
       "        }    #T_a72a7e88_58d0_11e8_b012_0242ac110002row6_col7 {\n",
       "            background-color:  #d8405e;\n",
       "            max-width:  80px;\n",
       "            font-size:  10pt;\n",
       "        }    #T_a72a7e88_58d0_11e8_b012_0242ac110002row6_col8 {\n",
       "            background-color:  #d73c5b;\n",
       "            max-width:  80px;\n",
       "            font-size:  10pt;\n",
       "        }    #T_a72a7e88_58d0_11e8_b012_0242ac110002row6_col9 {\n",
       "            background-color:  #d94764;\n",
       "            max-width:  80px;\n",
       "            font-size:  10pt;\n",
       "        }    #T_a72a7e88_58d0_11e8_b012_0242ac110002row6_col10 {\n",
       "            background-color:  #da4b68;\n",
       "            max-width:  80px;\n",
       "            font-size:  10pt;\n",
       "        }    #T_a72a7e88_58d0_11e8_b012_0242ac110002row6_col11 {\n",
       "            background-color:  #db4e6a;\n",
       "            max-width:  80px;\n",
       "            font-size:  10pt;\n",
       "        }    #T_a72a7e88_58d0_11e8_b012_0242ac110002row6_col12 {\n",
       "            background-color:  #da4865;\n",
       "            max-width:  80px;\n",
       "            font-size:  10pt;\n",
       "        }    #T_a72a7e88_58d0_11e8_b012_0242ac110002row6_col13 {\n",
       "            background-color:  #d94462;\n",
       "            max-width:  80px;\n",
       "            font-size:  10pt;\n",
       "        }    #T_a72a7e88_58d0_11e8_b012_0242ac110002row6_col14 {\n",
       "            background-color:  #d94261;\n",
       "            max-width:  80px;\n",
       "            font-size:  10pt;\n",
       "        }    #T_a72a7e88_58d0_11e8_b012_0242ac110002row6_col15 {\n",
       "            background-color:  #d94764;\n",
       "            max-width:  80px;\n",
       "            font-size:  10pt;\n",
       "        }    #T_a72a7e88_58d0_11e8_b012_0242ac110002row6_col16 {\n",
       "            background-color:  #db4e6a;\n",
       "            max-width:  80px;\n",
       "            font-size:  10pt;\n",
       "        }    #T_a72a7e88_58d0_11e8_b012_0242ac110002row6_col17 {\n",
       "            background-color:  #f3c4cd;\n",
       "            max-width:  80px;\n",
       "            font-size:  10pt;\n",
       "        }    #T_a72a7e88_58d0_11e8_b012_0242ac110002row6_col18 {\n",
       "            background-color:  #bfd1e8;\n",
       "            max-width:  80px;\n",
       "            font-size:  10pt;\n",
       "        }    #T_a72a7e88_58d0_11e8_b012_0242ac110002row6_col19 {\n",
       "            background-color:  #eda8b6;\n",
       "            max-width:  80px;\n",
       "            font-size:  10pt;\n",
       "        }    #T_a72a7e88_58d0_11e8_b012_0242ac110002row6_col20 {\n",
       "            background-color:  #cddbed;\n",
       "            max-width:  80px;\n",
       "            font-size:  10pt;\n",
       "        }    #T_a72a7e88_58d0_11e8_b012_0242ac110002row7_col0 {\n",
       "            background-color:  #5787c2;\n",
       "            max-width:  80px;\n",
       "            font-size:  10pt;\n",
       "        }    #T_a72a7e88_58d0_11e8_b012_0242ac110002row7_col1 {\n",
       "            background-color:  #df627b;\n",
       "            max-width:  80px;\n",
       "            font-size:  10pt;\n",
       "        }    #T_a72a7e88_58d0_11e8_b012_0242ac110002row7_col2 {\n",
       "            background-color:  #eca3b1;\n",
       "            max-width:  80px;\n",
       "            font-size:  10pt;\n",
       "        }    #T_a72a7e88_58d0_11e8_b012_0242ac110002row7_col3 {\n",
       "            background-color:  #d73c5b;\n",
       "            max-width:  80px;\n",
       "            font-size:  10pt;\n",
       "        }    #T_a72a7e88_58d0_11e8_b012_0242ac110002row7_col4 {\n",
       "            background-color:  #d8405e;\n",
       "            max-width:  80px;\n",
       "            font-size:  10pt;\n",
       "        }    #T_a72a7e88_58d0_11e8_b012_0242ac110002row7_col5 {\n",
       "            background-color:  #eca4b3;\n",
       "            max-width:  80px;\n",
       "            font-size:  10pt;\n",
       "        }    #T_a72a7e88_58d0_11e8_b012_0242ac110002row7_col6 {\n",
       "            background-color:  #eb9bab;\n",
       "            max-width:  80px;\n",
       "            font-size:  10pt;\n",
       "        }    #T_a72a7e88_58d0_11e8_b012_0242ac110002row7_col7 {\n",
       "            background-color:  #4479bb;\n",
       "            max-width:  80px;\n",
       "            font-size:  10pt;\n",
       "        }    #T_a72a7e88_58d0_11e8_b012_0242ac110002row7_col8 {\n",
       "            background-color:  #ea97a8;\n",
       "            max-width:  80px;\n",
       "            font-size:  10pt;\n",
       "        }    #T_a72a7e88_58d0_11e8_b012_0242ac110002row7_col9 {\n",
       "            background-color:  #eb9dac;\n",
       "            max-width:  80px;\n",
       "            font-size:  10pt;\n",
       "        }    #T_a72a7e88_58d0_11e8_b012_0242ac110002row7_col10 {\n",
       "            background-color:  #eb9dac;\n",
       "            max-width:  80px;\n",
       "            font-size:  10pt;\n",
       "        }    #T_a72a7e88_58d0_11e8_b012_0242ac110002row7_col11 {\n",
       "            background-color:  #ea96a7;\n",
       "            max-width:  80px;\n",
       "            font-size:  10pt;\n",
       "        }    #T_a72a7e88_58d0_11e8_b012_0242ac110002row7_col12 {\n",
       "            background-color:  #eeaab7;\n",
       "            max-width:  80px;\n",
       "            font-size:  10pt;\n",
       "        }    #T_a72a7e88_58d0_11e8_b012_0242ac110002row7_col13 {\n",
       "            background-color:  #eb9dac;\n",
       "            max-width:  80px;\n",
       "            font-size:  10pt;\n",
       "        }    #T_a72a7e88_58d0_11e8_b012_0242ac110002row7_col14 {\n",
       "            background-color:  #eb9ead;\n",
       "            max-width:  80px;\n",
       "            font-size:  10pt;\n",
       "        }    #T_a72a7e88_58d0_11e8_b012_0242ac110002row7_col15 {\n",
       "            background-color:  #eb9ead;\n",
       "            max-width:  80px;\n",
       "            font-size:  10pt;\n",
       "        }    #T_a72a7e88_58d0_11e8_b012_0242ac110002row7_col16 {\n",
       "            background-color:  #eb9ead;\n",
       "            max-width:  80px;\n",
       "            font-size:  10pt;\n",
       "        }    #T_a72a7e88_58d0_11e8_b012_0242ac110002row7_col17 {\n",
       "            background-color:  #ea97a8;\n",
       "            max-width:  80px;\n",
       "            font-size:  10pt;\n",
       "        }    #T_a72a7e88_58d0_11e8_b012_0242ac110002row7_col18 {\n",
       "            background-color:  #ea97a8;\n",
       "            max-width:  80px;\n",
       "            font-size:  10pt;\n",
       "        }    #T_a72a7e88_58d0_11e8_b012_0242ac110002row7_col19 {\n",
       "            background-color:  #eb9dac;\n",
       "            max-width:  80px;\n",
       "            font-size:  10pt;\n",
       "        }    #T_a72a7e88_58d0_11e8_b012_0242ac110002row7_col20 {\n",
       "            background-color:  #ea99a9;\n",
       "            max-width:  80px;\n",
       "            font-size:  10pt;\n",
       "        }    #T_a72a7e88_58d0_11e8_b012_0242ac110002row8_col0 {\n",
       "            background-color:  #d73c5b;\n",
       "            max-width:  80px;\n",
       "            font-size:  10pt;\n",
       "        }    #T_a72a7e88_58d0_11e8_b012_0242ac110002row8_col1 {\n",
       "            background-color:  #d94462;\n",
       "            max-width:  80px;\n",
       "            font-size:  10pt;\n",
       "        }    #T_a72a7e88_58d0_11e8_b012_0242ac110002row8_col2 {\n",
       "            background-color:  #d94764;\n",
       "            max-width:  80px;\n",
       "            font-size:  10pt;\n",
       "        }    #T_a72a7e88_58d0_11e8_b012_0242ac110002row8_col3 {\n",
       "            background-color:  #da4b68;\n",
       "            max-width:  80px;\n",
       "            font-size:  10pt;\n",
       "        }    #T_a72a7e88_58d0_11e8_b012_0242ac110002row8_col4 {\n",
       "            background-color:  #d94764;\n",
       "            max-width:  80px;\n",
       "            font-size:  10pt;\n",
       "        }    #T_a72a7e88_58d0_11e8_b012_0242ac110002row8_col5 {\n",
       "            background-color:  #d94462;\n",
       "            max-width:  80px;\n",
       "            font-size:  10pt;\n",
       "        }    #T_a72a7e88_58d0_11e8_b012_0242ac110002row8_col6 {\n",
       "            background-color:  #d73d5c;\n",
       "            max-width:  80px;\n",
       "            font-size:  10pt;\n",
       "        }    #T_a72a7e88_58d0_11e8_b012_0242ac110002row8_col7 {\n",
       "            background-color:  #d73d5c;\n",
       "            max-width:  80px;\n",
       "            font-size:  10pt;\n",
       "        }    #T_a72a7e88_58d0_11e8_b012_0242ac110002row8_col8 {\n",
       "            background-color:  #4479bb;\n",
       "            max-width:  80px;\n",
       "            font-size:  10pt;\n",
       "        }    #T_a72a7e88_58d0_11e8_b012_0242ac110002row8_col9 {\n",
       "            background-color:  #d94764;\n",
       "            max-width:  80px;\n",
       "            font-size:  10pt;\n",
       "        }    #T_a72a7e88_58d0_11e8_b012_0242ac110002row8_col10 {\n",
       "            background-color:  #d94563;\n",
       "            max-width:  80px;\n",
       "            font-size:  10pt;\n",
       "        }    #T_a72a7e88_58d0_11e8_b012_0242ac110002row8_col11 {\n",
       "            background-color:  #d94563;\n",
       "            max-width:  80px;\n",
       "            font-size:  10pt;\n",
       "        }    #T_a72a7e88_58d0_11e8_b012_0242ac110002row8_col12 {\n",
       "            background-color:  #d94764;\n",
       "            max-width:  80px;\n",
       "            font-size:  10pt;\n",
       "        }    #T_a72a7e88_58d0_11e8_b012_0242ac110002row8_col13 {\n",
       "            background-color:  #d94462;\n",
       "            max-width:  80px;\n",
       "            font-size:  10pt;\n",
       "        }    #T_a72a7e88_58d0_11e8_b012_0242ac110002row8_col14 {\n",
       "            background-color:  #d94462;\n",
       "            max-width:  80px;\n",
       "            font-size:  10pt;\n",
       "        }    #T_a72a7e88_58d0_11e8_b012_0242ac110002row8_col15 {\n",
       "            background-color:  #d94462;\n",
       "            max-width:  80px;\n",
       "            font-size:  10pt;\n",
       "        }    #T_a72a7e88_58d0_11e8_b012_0242ac110002row8_col16 {\n",
       "            background-color:  #d94563;\n",
       "            max-width:  80px;\n",
       "            font-size:  10pt;\n",
       "        }    #T_a72a7e88_58d0_11e8_b012_0242ac110002row8_col17 {\n",
       "            background-color:  #d8415f;\n",
       "            max-width:  80px;\n",
       "            font-size:  10pt;\n",
       "        }    #T_a72a7e88_58d0_11e8_b012_0242ac110002row8_col18 {\n",
       "            background-color:  #d8405e;\n",
       "            max-width:  80px;\n",
       "            font-size:  10pt;\n",
       "        }    #T_a72a7e88_58d0_11e8_b012_0242ac110002row8_col19 {\n",
       "            background-color:  #d94563;\n",
       "            max-width:  80px;\n",
       "            font-size:  10pt;\n",
       "        }    #T_a72a7e88_58d0_11e8_b012_0242ac110002row8_col20 {\n",
       "            background-color:  #d8415f;\n",
       "            max-width:  80px;\n",
       "            font-size:  10pt;\n",
       "        }    #T_a72a7e88_58d0_11e8_b012_0242ac110002row9_col0 {\n",
       "            background-color:  #d73c5b;\n",
       "            max-width:  80px;\n",
       "            font-size:  10pt;\n",
       "        }    #T_a72a7e88_58d0_11e8_b012_0242ac110002row9_col1 {\n",
       "            background-color:  #d83e5d;\n",
       "            max-width:  80px;\n",
       "            font-size:  10pt;\n",
       "        }    #T_a72a7e88_58d0_11e8_b012_0242ac110002row9_col2 {\n",
       "            background-color:  #d73d5c;\n",
       "            max-width:  80px;\n",
       "            font-size:  10pt;\n",
       "        }    #T_a72a7e88_58d0_11e8_b012_0242ac110002row9_col3 {\n",
       "            background-color:  #d83e5d;\n",
       "            max-width:  80px;\n",
       "            font-size:  10pt;\n",
       "        }    #T_a72a7e88_58d0_11e8_b012_0242ac110002row9_col4 {\n",
       "            background-color:  #d83e5d;\n",
       "            max-width:  80px;\n",
       "            font-size:  10pt;\n",
       "        }    #T_a72a7e88_58d0_11e8_b012_0242ac110002row9_col5 {\n",
       "            background-color:  #d73d5c;\n",
       "            max-width:  80px;\n",
       "            font-size:  10pt;\n",
       "        }    #T_a72a7e88_58d0_11e8_b012_0242ac110002row9_col6 {\n",
       "            background-color:  #d8405e;\n",
       "            max-width:  80px;\n",
       "            font-size:  10pt;\n",
       "        }    #T_a72a7e88_58d0_11e8_b012_0242ac110002row9_col7 {\n",
       "            background-color:  #d73c5b;\n",
       "            max-width:  80px;\n",
       "            font-size:  10pt;\n",
       "        }    #T_a72a7e88_58d0_11e8_b012_0242ac110002row9_col8 {\n",
       "            background-color:  #d83e5d;\n",
       "            max-width:  80px;\n",
       "            font-size:  10pt;\n",
       "        }    #T_a72a7e88_58d0_11e8_b012_0242ac110002row9_col9 {\n",
       "            background-color:  #4479bb;\n",
       "            max-width:  80px;\n",
       "            font-size:  10pt;\n",
       "        }    #T_a72a7e88_58d0_11e8_b012_0242ac110002row9_col10 {\n",
       "            background-color:  #d8405e;\n",
       "            max-width:  80px;\n",
       "            font-size:  10pt;\n",
       "        }    #T_a72a7e88_58d0_11e8_b012_0242ac110002row9_col11 {\n",
       "            background-color:  #d83e5d;\n",
       "            max-width:  80px;\n",
       "            font-size:  10pt;\n",
       "        }    #T_a72a7e88_58d0_11e8_b012_0242ac110002row9_col12 {\n",
       "            background-color:  #d73d5c;\n",
       "            max-width:  80px;\n",
       "            font-size:  10pt;\n",
       "        }    #T_a72a7e88_58d0_11e8_b012_0242ac110002row9_col13 {\n",
       "            background-color:  #d73d5c;\n",
       "            max-width:  80px;\n",
       "            font-size:  10pt;\n",
       "        }    #T_a72a7e88_58d0_11e8_b012_0242ac110002row9_col14 {\n",
       "            background-color:  #d83e5d;\n",
       "            max-width:  80px;\n",
       "            font-size:  10pt;\n",
       "        }    #T_a72a7e88_58d0_11e8_b012_0242ac110002row9_col15 {\n",
       "            background-color:  #d83e5d;\n",
       "            max-width:  80px;\n",
       "            font-size:  10pt;\n",
       "        }    #T_a72a7e88_58d0_11e8_b012_0242ac110002row9_col16 {\n",
       "            background-color:  #d83e5d;\n",
       "            max-width:  80px;\n",
       "            font-size:  10pt;\n",
       "        }    #T_a72a7e88_58d0_11e8_b012_0242ac110002row9_col17 {\n",
       "            background-color:  #d83e5d;\n",
       "            max-width:  80px;\n",
       "            font-size:  10pt;\n",
       "        }    #T_a72a7e88_58d0_11e8_b012_0242ac110002row9_col18 {\n",
       "            background-color:  #d83e5d;\n",
       "            max-width:  80px;\n",
       "            font-size:  10pt;\n",
       "        }    #T_a72a7e88_58d0_11e8_b012_0242ac110002row9_col19 {\n",
       "            background-color:  #d83e5d;\n",
       "            max-width:  80px;\n",
       "            font-size:  10pt;\n",
       "        }    #T_a72a7e88_58d0_11e8_b012_0242ac110002row9_col20 {\n",
       "            background-color:  #d83e5d;\n",
       "            max-width:  80px;\n",
       "            font-size:  10pt;\n",
       "        }    #T_a72a7e88_58d0_11e8_b012_0242ac110002row10_col0 {\n",
       "            background-color:  #d73d5c;\n",
       "            max-width:  80px;\n",
       "            font-size:  10pt;\n",
       "        }    #T_a72a7e88_58d0_11e8_b012_0242ac110002row10_col1 {\n",
       "            background-color:  #d94261;\n",
       "            max-width:  80px;\n",
       "            font-size:  10pt;\n",
       "        }    #T_a72a7e88_58d0_11e8_b012_0242ac110002row10_col2 {\n",
       "            background-color:  #d8405e;\n",
       "            max-width:  80px;\n",
       "            font-size:  10pt;\n",
       "        }    #T_a72a7e88_58d0_11e8_b012_0242ac110002row10_col3 {\n",
       "            background-color:  #d8405e;\n",
       "            max-width:  80px;\n",
       "            font-size:  10pt;\n",
       "        }    #T_a72a7e88_58d0_11e8_b012_0242ac110002row10_col4 {\n",
       "            background-color:  #d8405e;\n",
       "            max-width:  80px;\n",
       "            font-size:  10pt;\n",
       "        }    #T_a72a7e88_58d0_11e8_b012_0242ac110002row10_col5 {\n",
       "            background-color:  #d8405e;\n",
       "            max-width:  80px;\n",
       "            font-size:  10pt;\n",
       "        }    #T_a72a7e88_58d0_11e8_b012_0242ac110002row10_col6 {\n",
       "            background-color:  #d94261;\n",
       "            max-width:  80px;\n",
       "            font-size:  10pt;\n",
       "        }    #T_a72a7e88_58d0_11e8_b012_0242ac110002row10_col7 {\n",
       "            background-color:  #d73c5b;\n",
       "            max-width:  80px;\n",
       "            font-size:  10pt;\n",
       "        }    #T_a72a7e88_58d0_11e8_b012_0242ac110002row10_col8 {\n",
       "            background-color:  #d73d5c;\n",
       "            max-width:  80px;\n",
       "            font-size:  10pt;\n",
       "        }    #T_a72a7e88_58d0_11e8_b012_0242ac110002row10_col9 {\n",
       "            background-color:  #d8405e;\n",
       "            max-width:  80px;\n",
       "            font-size:  10pt;\n",
       "        }    #T_a72a7e88_58d0_11e8_b012_0242ac110002row10_col10 {\n",
       "            background-color:  #4479bb;\n",
       "            max-width:  80px;\n",
       "            font-size:  10pt;\n",
       "        }    #T_a72a7e88_58d0_11e8_b012_0242ac110002row10_col11 {\n",
       "            background-color:  #d94462;\n",
       "            max-width:  80px;\n",
       "            font-size:  10pt;\n",
       "        }    #T_a72a7e88_58d0_11e8_b012_0242ac110002row10_col12 {\n",
       "            background-color:  #d73d5c;\n",
       "            max-width:  80px;\n",
       "            font-size:  10pt;\n",
       "        }    #T_a72a7e88_58d0_11e8_b012_0242ac110002row10_col13 {\n",
       "            background-color:  #d73c5b;\n",
       "            max-width:  80px;\n",
       "            font-size:  10pt;\n",
       "        }    #T_a72a7e88_58d0_11e8_b012_0242ac110002row10_col14 {\n",
       "            background-color:  #d83e5d;\n",
       "            max-width:  80px;\n",
       "            font-size:  10pt;\n",
       "        }    #T_a72a7e88_58d0_11e8_b012_0242ac110002row10_col15 {\n",
       "            background-color:  #d83e5d;\n",
       "            max-width:  80px;\n",
       "            font-size:  10pt;\n",
       "        }    #T_a72a7e88_58d0_11e8_b012_0242ac110002row10_col16 {\n",
       "            background-color:  #d83e5d;\n",
       "            max-width:  80px;\n",
       "            font-size:  10pt;\n",
       "        }    #T_a72a7e88_58d0_11e8_b012_0242ac110002row10_col17 {\n",
       "            background-color:  #d83e5d;\n",
       "            max-width:  80px;\n",
       "            font-size:  10pt;\n",
       "        }    #T_a72a7e88_58d0_11e8_b012_0242ac110002row10_col18 {\n",
       "            background-color:  #d8415f;\n",
       "            max-width:  80px;\n",
       "            font-size:  10pt;\n",
       "        }    #T_a72a7e88_58d0_11e8_b012_0242ac110002row10_col19 {\n",
       "            background-color:  #d8405e;\n",
       "            max-width:  80px;\n",
       "            font-size:  10pt;\n",
       "        }    #T_a72a7e88_58d0_11e8_b012_0242ac110002row10_col20 {\n",
       "            background-color:  #d8415f;\n",
       "            max-width:  80px;\n",
       "            font-size:  10pt;\n",
       "        }    #T_a72a7e88_58d0_11e8_b012_0242ac110002row11_col0 {\n",
       "            background-color:  #e993a4;\n",
       "            max-width:  80px;\n",
       "            font-size:  10pt;\n",
       "        }    #T_a72a7e88_58d0_11e8_b012_0242ac110002row11_col1 {\n",
       "            background-color:  #5485c1;\n",
       "            max-width:  80px;\n",
       "            font-size:  10pt;\n",
       "        }    #T_a72a7e88_58d0_11e8_b012_0242ac110002row11_col2 {\n",
       "            background-color:  #eda7b5;\n",
       "            max-width:  80px;\n",
       "            font-size:  10pt;\n",
       "        }    #T_a72a7e88_58d0_11e8_b012_0242ac110002row11_col3 {\n",
       "            background-color:  #eca4b3;\n",
       "            max-width:  80px;\n",
       "            font-size:  10pt;\n",
       "        }    #T_a72a7e88_58d0_11e8_b012_0242ac110002row11_col4 {\n",
       "            background-color:  #ea99a9;\n",
       "            max-width:  80px;\n",
       "            font-size:  10pt;\n",
       "        }    #T_a72a7e88_58d0_11e8_b012_0242ac110002row11_col5 {\n",
       "            background-color:  #ea96a7;\n",
       "            max-width:  80px;\n",
       "            font-size:  10pt;\n",
       "        }    #T_a72a7e88_58d0_11e8_b012_0242ac110002row11_col6 {\n",
       "            background-color:  #eca1b0;\n",
       "            max-width:  80px;\n",
       "            font-size:  10pt;\n",
       "        }    #T_a72a7e88_58d0_11e8_b012_0242ac110002row11_col7 {\n",
       "            background-color:  #e890a1;\n",
       "            max-width:  80px;\n",
       "            font-size:  10pt;\n",
       "        }    #T_a72a7e88_58d0_11e8_b012_0242ac110002row11_col8 {\n",
       "            background-color:  #ea99a9;\n",
       "            max-width:  80px;\n",
       "            font-size:  10pt;\n",
       "        }    #T_a72a7e88_58d0_11e8_b012_0242ac110002row11_col9 {\n",
       "            background-color:  #ea9aaa;\n",
       "            max-width:  80px;\n",
       "            font-size:  10pt;\n",
       "        }    #T_a72a7e88_58d0_11e8_b012_0242ac110002row11_col10 {\n",
       "            background-color:  #eb9ead;\n",
       "            max-width:  80px;\n",
       "            font-size:  10pt;\n",
       "        }    #T_a72a7e88_58d0_11e8_b012_0242ac110002row11_col11 {\n",
       "            background-color:  #4479bb;\n",
       "            max-width:  80px;\n",
       "            font-size:  10pt;\n",
       "        }    #T_a72a7e88_58d0_11e8_b012_0242ac110002row11_col12 {\n",
       "            background-color:  #d73c5b;\n",
       "            max-width:  80px;\n",
       "            font-size:  10pt;\n",
       "        }    #T_a72a7e88_58d0_11e8_b012_0242ac110002row11_col13 {\n",
       "            background-color:  #e06880;\n",
       "            max-width:  80px;\n",
       "            font-size:  10pt;\n",
       "        }    #T_a72a7e88_58d0_11e8_b012_0242ac110002row11_col14 {\n",
       "            background-color:  #eeabb8;\n",
       "            max-width:  80px;\n",
       "            font-size:  10pt;\n",
       "        }    #T_a72a7e88_58d0_11e8_b012_0242ac110002row11_col15 {\n",
       "            background-color:  #eeabb8;\n",
       "            max-width:  80px;\n",
       "            font-size:  10pt;\n",
       "        }    #T_a72a7e88_58d0_11e8_b012_0242ac110002row11_col16 {\n",
       "            background-color:  #ea9aaa;\n",
       "            max-width:  80px;\n",
       "            font-size:  10pt;\n",
       "        }    #T_a72a7e88_58d0_11e8_b012_0242ac110002row11_col17 {\n",
       "            background-color:  #eca3b1;\n",
       "            max-width:  80px;\n",
       "            font-size:  10pt;\n",
       "        }    #T_a72a7e88_58d0_11e8_b012_0242ac110002row11_col18 {\n",
       "            background-color:  #ea9aaa;\n",
       "            max-width:  80px;\n",
       "            font-size:  10pt;\n",
       "        }    #T_a72a7e88_58d0_11e8_b012_0242ac110002row11_col19 {\n",
       "            background-color:  #ea97a8;\n",
       "            max-width:  80px;\n",
       "            font-size:  10pt;\n",
       "        }    #T_a72a7e88_58d0_11e8_b012_0242ac110002row11_col20 {\n",
       "            background-color:  #eb9ead;\n",
       "            max-width:  80px;\n",
       "            font-size:  10pt;\n",
       "        }    #T_a72a7e88_58d0_11e8_b012_0242ac110002row12_col0 {\n",
       "            background-color:  #eda6b4;\n",
       "            max-width:  80px;\n",
       "            font-size:  10pt;\n",
       "        }    #T_a72a7e88_58d0_11e8_b012_0242ac110002row12_col1 {\n",
       "            background-color:  #d94462;\n",
       "            max-width:  80px;\n",
       "            font-size:  10pt;\n",
       "        }    #T_a72a7e88_58d0_11e8_b012_0242ac110002row12_col2 {\n",
       "            background-color:  #e993a4;\n",
       "            max-width:  80px;\n",
       "            font-size:  10pt;\n",
       "        }    #T_a72a7e88_58d0_11e8_b012_0242ac110002row12_col3 {\n",
       "            background-color:  #e991a3;\n",
       "            max-width:  80px;\n",
       "            font-size:  10pt;\n",
       "        }    #T_a72a7e88_58d0_11e8_b012_0242ac110002row12_col4 {\n",
       "            background-color:  #e994a5;\n",
       "            max-width:  80px;\n",
       "            font-size:  10pt;\n",
       "        }    #T_a72a7e88_58d0_11e8_b012_0242ac110002row12_col5 {\n",
       "            background-color:  #ea97a8;\n",
       "            max-width:  80px;\n",
       "            font-size:  10pt;\n",
       "        }    #T_a72a7e88_58d0_11e8_b012_0242ac110002row12_col6 {\n",
       "            background-color:  #eb9dac;\n",
       "            max-width:  80px;\n",
       "            font-size:  10pt;\n",
       "        }    #T_a72a7e88_58d0_11e8_b012_0242ac110002row12_col7 {\n",
       "            background-color:  #eda6b4;\n",
       "            max-width:  80px;\n",
       "            font-size:  10pt;\n",
       "        }    #T_a72a7e88_58d0_11e8_b012_0242ac110002row12_col8 {\n",
       "            background-color:  #ea9aaa;\n",
       "            max-width:  80px;\n",
       "            font-size:  10pt;\n",
       "        }    #T_a72a7e88_58d0_11e8_b012_0242ac110002row12_col9 {\n",
       "            background-color:  #ea9aaa;\n",
       "            max-width:  80px;\n",
       "            font-size:  10pt;\n",
       "        }    #T_a72a7e88_58d0_11e8_b012_0242ac110002row12_col10 {\n",
       "            background-color:  #ea9aaa;\n",
       "            max-width:  80px;\n",
       "            font-size:  10pt;\n",
       "        }    #T_a72a7e88_58d0_11e8_b012_0242ac110002row12_col11 {\n",
       "            background-color:  #d73c5b;\n",
       "            max-width:  80px;\n",
       "            font-size:  10pt;\n",
       "        }    #T_a72a7e88_58d0_11e8_b012_0242ac110002row12_col12 {\n",
       "            background-color:  #4479bb;\n",
       "            max-width:  80px;\n",
       "            font-size:  10pt;\n",
       "        }    #T_a72a7e88_58d0_11e8_b012_0242ac110002row12_col13 {\n",
       "            background-color:  #f1bcc7;\n",
       "            max-width:  80px;\n",
       "            font-size:  10pt;\n",
       "        }    #T_a72a7e88_58d0_11e8_b012_0242ac110002row12_col14 {\n",
       "            background-color:  #e993a4;\n",
       "            max-width:  80px;\n",
       "            font-size:  10pt;\n",
       "        }    #T_a72a7e88_58d0_11e8_b012_0242ac110002row12_col15 {\n",
       "            background-color:  #e993a4;\n",
       "            max-width:  80px;\n",
       "            font-size:  10pt;\n",
       "        }    #T_a72a7e88_58d0_11e8_b012_0242ac110002row12_col16 {\n",
       "            background-color:  #ea9aaa;\n",
       "            max-width:  80px;\n",
       "            font-size:  10pt;\n",
       "        }    #T_a72a7e88_58d0_11e8_b012_0242ac110002row12_col17 {\n",
       "            background-color:  #eb9bab;\n",
       "            max-width:  80px;\n",
       "            font-size:  10pt;\n",
       "        }    #T_a72a7e88_58d0_11e8_b012_0242ac110002row12_col18 {\n",
       "            background-color:  #ea96a7;\n",
       "            max-width:  80px;\n",
       "            font-size:  10pt;\n",
       "        }    #T_a72a7e88_58d0_11e8_b012_0242ac110002row12_col19 {\n",
       "            background-color:  #eca3b1;\n",
       "            max-width:  80px;\n",
       "            font-size:  10pt;\n",
       "        }    #T_a72a7e88_58d0_11e8_b012_0242ac110002row12_col20 {\n",
       "            background-color:  #eca1b0;\n",
       "            max-width:  80px;\n",
       "            font-size:  10pt;\n",
       "        }    #T_a72a7e88_58d0_11e8_b012_0242ac110002row13_col0 {\n",
       "            background-color:  #e27288;\n",
       "            max-width:  80px;\n",
       "            font-size:  10pt;\n",
       "        }    #T_a72a7e88_58d0_11e8_b012_0242ac110002row13_col1 {\n",
       "            background-color:  #d73c5b;\n",
       "            max-width:  80px;\n",
       "            font-size:  10pt;\n",
       "        }    #T_a72a7e88_58d0_11e8_b012_0242ac110002row13_col2 {\n",
       "            background-color:  #e27087;\n",
       "            max-width:  80px;\n",
       "            font-size:  10pt;\n",
       "        }    #T_a72a7e88_58d0_11e8_b012_0242ac110002row13_col3 {\n",
       "            background-color:  #e3748a;\n",
       "            max-width:  80px;\n",
       "            font-size:  10pt;\n",
       "        }    #T_a72a7e88_58d0_11e8_b012_0242ac110002row13_col4 {\n",
       "            background-color:  #e47a90;\n",
       "            max-width:  80px;\n",
       "            font-size:  10pt;\n",
       "        }    #T_a72a7e88_58d0_11e8_b012_0242ac110002row13_col5 {\n",
       "            background-color:  #e4798e;\n",
       "            max-width:  80px;\n",
       "            font-size:  10pt;\n",
       "        }    #T_a72a7e88_58d0_11e8_b012_0242ac110002row13_col6 {\n",
       "            background-color:  #e3748a;\n",
       "            max-width:  80px;\n",
       "            font-size:  10pt;\n",
       "        }    #T_a72a7e88_58d0_11e8_b012_0242ac110002row13_col7 {\n",
       "            background-color:  #e27389;\n",
       "            max-width:  80px;\n",
       "            font-size:  10pt;\n",
       "        }    #T_a72a7e88_58d0_11e8_b012_0242ac110002row13_col8 {\n",
       "            background-color:  #e3748a;\n",
       "            max-width:  80px;\n",
       "            font-size:  10pt;\n",
       "        }    #T_a72a7e88_58d0_11e8_b012_0242ac110002row13_col9 {\n",
       "            background-color:  #e3768c;\n",
       "            max-width:  80px;\n",
       "            font-size:  10pt;\n",
       "        }    #T_a72a7e88_58d0_11e8_b012_0242ac110002row13_col10 {\n",
       "            background-color:  #e27389;\n",
       "            max-width:  80px;\n",
       "            font-size:  10pt;\n",
       "        }    #T_a72a7e88_58d0_11e8_b012_0242ac110002row13_col11 {\n",
       "            background-color:  #d83e5d;\n",
       "            max-width:  80px;\n",
       "            font-size:  10pt;\n",
       "        }    #T_a72a7e88_58d0_11e8_b012_0242ac110002row13_col12 {\n",
       "            background-color:  #eb9dac;\n",
       "            max-width:  80px;\n",
       "            font-size:  10pt;\n",
       "        }    #T_a72a7e88_58d0_11e8_b012_0242ac110002row13_col13 {\n",
       "            background-color:  #4479bb;\n",
       "            max-width:  80px;\n",
       "            font-size:  10pt;\n",
       "        }    #T_a72a7e88_58d0_11e8_b012_0242ac110002row13_col14 {\n",
       "            background-color:  #e994a5;\n",
       "            max-width:  80px;\n",
       "            font-size:  10pt;\n",
       "        }    #T_a72a7e88_58d0_11e8_b012_0242ac110002row13_col15 {\n",
       "            background-color:  #e994a5;\n",
       "            max-width:  80px;\n",
       "            font-size:  10pt;\n",
       "        }    #T_a72a7e88_58d0_11e8_b012_0242ac110002row13_col16 {\n",
       "            background-color:  #e3788d;\n",
       "            max-width:  80px;\n",
       "            font-size:  10pt;\n",
       "        }    #T_a72a7e88_58d0_11e8_b012_0242ac110002row13_col17 {\n",
       "            background-color:  #e16b82;\n",
       "            max-width:  80px;\n",
       "            font-size:  10pt;\n",
       "        }    #T_a72a7e88_58d0_11e8_b012_0242ac110002row13_col18 {\n",
       "            background-color:  #e3788d;\n",
       "            max-width:  80px;\n",
       "            font-size:  10pt;\n",
       "        }    #T_a72a7e88_58d0_11e8_b012_0242ac110002row13_col19 {\n",
       "            background-color:  #e3748a;\n",
       "            max-width:  80px;\n",
       "            font-size:  10pt;\n",
       "        }    #T_a72a7e88_58d0_11e8_b012_0242ac110002row13_col20 {\n",
       "            background-color:  #e27288;\n",
       "            max-width:  80px;\n",
       "            font-size:  10pt;\n",
       "        }    #T_a72a7e88_58d0_11e8_b012_0242ac110002row14_col0 {\n",
       "            background-color:  #d94563;\n",
       "            max-width:  80px;\n",
       "            font-size:  10pt;\n",
       "        }    #T_a72a7e88_58d0_11e8_b012_0242ac110002row14_col1 {\n",
       "            background-color:  #dc546f;\n",
       "            max-width:  80px;\n",
       "            font-size:  10pt;\n",
       "        }    #T_a72a7e88_58d0_11e8_b012_0242ac110002row14_col2 {\n",
       "            background-color:  #d94563;\n",
       "            max-width:  80px;\n",
       "            font-size:  10pt;\n",
       "        }    #T_a72a7e88_58d0_11e8_b012_0242ac110002row14_col3 {\n",
       "            background-color:  #d94764;\n",
       "            max-width:  80px;\n",
       "            font-size:  10pt;\n",
       "        }    #T_a72a7e88_58d0_11e8_b012_0242ac110002row14_col4 {\n",
       "            background-color:  #d73c5b;\n",
       "            max-width:  80px;\n",
       "            font-size:  10pt;\n",
       "        }    #T_a72a7e88_58d0_11e8_b012_0242ac110002row14_col5 {\n",
       "            background-color:  #d73c5b;\n",
       "            max-width:  80px;\n",
       "            font-size:  10pt;\n",
       "        }    #T_a72a7e88_58d0_11e8_b012_0242ac110002row14_col6 {\n",
       "            background-color:  #d94563;\n",
       "            max-width:  80px;\n",
       "            font-size:  10pt;\n",
       "        }    #T_a72a7e88_58d0_11e8_b012_0242ac110002row14_col7 {\n",
       "            background-color:  #d94764;\n",
       "            max-width:  80px;\n",
       "            font-size:  10pt;\n",
       "        }    #T_a72a7e88_58d0_11e8_b012_0242ac110002row14_col8 {\n",
       "            background-color:  #d94462;\n",
       "            max-width:  80px;\n",
       "            font-size:  10pt;\n",
       "        }    #T_a72a7e88_58d0_11e8_b012_0242ac110002row14_col9 {\n",
       "            background-color:  #d94764;\n",
       "            max-width:  80px;\n",
       "            font-size:  10pt;\n",
       "        }    #T_a72a7e88_58d0_11e8_b012_0242ac110002row14_col10 {\n",
       "            background-color:  #da4865;\n",
       "            max-width:  80px;\n",
       "            font-size:  10pt;\n",
       "        }    #T_a72a7e88_58d0_11e8_b012_0242ac110002row14_col11 {\n",
       "            background-color:  #de5e77;\n",
       "            max-width:  80px;\n",
       "            font-size:  10pt;\n",
       "        }    #T_a72a7e88_58d0_11e8_b012_0242ac110002row14_col12 {\n",
       "            background-color:  #d83e5d;\n",
       "            max-width:  80px;\n",
       "            font-size:  10pt;\n",
       "        }    #T_a72a7e88_58d0_11e8_b012_0242ac110002row14_col13 {\n",
       "            background-color:  #e16981;\n",
       "            max-width:  80px;\n",
       "            font-size:  10pt;\n",
       "        }    #T_a72a7e88_58d0_11e8_b012_0242ac110002row14_col14 {\n",
       "            background-color:  #4479bb;\n",
       "            max-width:  80px;\n",
       "            font-size:  10pt;\n",
       "        }    #T_a72a7e88_58d0_11e8_b012_0242ac110002row14_col15 {\n",
       "            background-color:  #db4e6a;\n",
       "            max-width:  80px;\n",
       "            font-size:  10pt;\n",
       "        }    #T_a72a7e88_58d0_11e8_b012_0242ac110002row14_col16 {\n",
       "            background-color:  #da4865;\n",
       "            max-width:  80px;\n",
       "            font-size:  10pt;\n",
       "        }    #T_a72a7e88_58d0_11e8_b012_0242ac110002row14_col17 {\n",
       "            background-color:  #d8415f;\n",
       "            max-width:  80px;\n",
       "            font-size:  10pt;\n",
       "        }    #T_a72a7e88_58d0_11e8_b012_0242ac110002row14_col18 {\n",
       "            background-color:  #da4b68;\n",
       "            max-width:  80px;\n",
       "            font-size:  10pt;\n",
       "        }    #T_a72a7e88_58d0_11e8_b012_0242ac110002row14_col19 {\n",
       "            background-color:  #d94462;\n",
       "            max-width:  80px;\n",
       "            font-size:  10pt;\n",
       "        }    #T_a72a7e88_58d0_11e8_b012_0242ac110002row14_col20 {\n",
       "            background-color:  #d94261;\n",
       "            max-width:  80px;\n",
       "            font-size:  10pt;\n",
       "        }    #T_a72a7e88_58d0_11e8_b012_0242ac110002row15_col0 {\n",
       "            background-color:  #d8415f;\n",
       "            max-width:  80px;\n",
       "            font-size:  10pt;\n",
       "        }    #T_a72a7e88_58d0_11e8_b012_0242ac110002row15_col1 {\n",
       "            background-color:  #de5b75;\n",
       "            max-width:  80px;\n",
       "            font-size:  10pt;\n",
       "        }    #T_a72a7e88_58d0_11e8_b012_0242ac110002row15_col2 {\n",
       "            background-color:  #da4865;\n",
       "            max-width:  80px;\n",
       "            font-size:  10pt;\n",
       "        }    #T_a72a7e88_58d0_11e8_b012_0242ac110002row15_col3 {\n",
       "            background-color:  #da4865;\n",
       "            max-width:  80px;\n",
       "            font-size:  10pt;\n",
       "        }    #T_a72a7e88_58d0_11e8_b012_0242ac110002row15_col4 {\n",
       "            background-color:  #db4d69;\n",
       "            max-width:  80px;\n",
       "            font-size:  10pt;\n",
       "        }    #T_a72a7e88_58d0_11e8_b012_0242ac110002row15_col5 {\n",
       "            background-color:  #db4d69;\n",
       "            max-width:  80px;\n",
       "            font-size:  10pt;\n",
       "        }    #T_a72a7e88_58d0_11e8_b012_0242ac110002row15_col6 {\n",
       "            background-color:  #d94462;\n",
       "            max-width:  80px;\n",
       "            font-size:  10pt;\n",
       "        }    #T_a72a7e88_58d0_11e8_b012_0242ac110002row15_col7 {\n",
       "            background-color:  #d8415f;\n",
       "            max-width:  80px;\n",
       "            font-size:  10pt;\n",
       "        }    #T_a72a7e88_58d0_11e8_b012_0242ac110002row15_col8 {\n",
       "            background-color:  #d8405e;\n",
       "            max-width:  80px;\n",
       "            font-size:  10pt;\n",
       "        }    #T_a72a7e88_58d0_11e8_b012_0242ac110002row15_col9 {\n",
       "            background-color:  #d94261;\n",
       "            max-width:  80px;\n",
       "            font-size:  10pt;\n",
       "        }    #T_a72a7e88_58d0_11e8_b012_0242ac110002row15_col10 {\n",
       "            background-color:  #d94462;\n",
       "            max-width:  80px;\n",
       "            font-size:  10pt;\n",
       "        }    #T_a72a7e88_58d0_11e8_b012_0242ac110002row15_col11 {\n",
       "            background-color:  #de5b75;\n",
       "            max-width:  80px;\n",
       "            font-size:  10pt;\n",
       "        }    #T_a72a7e88_58d0_11e8_b012_0242ac110002row15_col12 {\n",
       "            background-color:  #d73c5b;\n",
       "            max-width:  80px;\n",
       "            font-size:  10pt;\n",
       "        }    #T_a72a7e88_58d0_11e8_b012_0242ac110002row15_col13 {\n",
       "            background-color:  #e0667e;\n",
       "            max-width:  80px;\n",
       "            font-size:  10pt;\n",
       "        }    #T_a72a7e88_58d0_11e8_b012_0242ac110002row15_col14 {\n",
       "            background-color:  #da4b68;\n",
       "            max-width:  80px;\n",
       "            font-size:  10pt;\n",
       "        }    #T_a72a7e88_58d0_11e8_b012_0242ac110002row15_col15 {\n",
       "            background-color:  #4479bb;\n",
       "            max-width:  80px;\n",
       "            font-size:  10pt;\n",
       "        }    #T_a72a7e88_58d0_11e8_b012_0242ac110002row15_col16 {\n",
       "            background-color:  #d94462;\n",
       "            max-width:  80px;\n",
       "            font-size:  10pt;\n",
       "        }    #T_a72a7e88_58d0_11e8_b012_0242ac110002row15_col17 {\n",
       "            background-color:  #d94462;\n",
       "            max-width:  80px;\n",
       "            font-size:  10pt;\n",
       "        }    #T_a72a7e88_58d0_11e8_b012_0242ac110002row15_col18 {\n",
       "            background-color:  #d94462;\n",
       "            max-width:  80px;\n",
       "            font-size:  10pt;\n",
       "        }    #T_a72a7e88_58d0_11e8_b012_0242ac110002row15_col19 {\n",
       "            background-color:  #d8405e;\n",
       "            max-width:  80px;\n",
       "            font-size:  10pt;\n",
       "        }    #T_a72a7e88_58d0_11e8_b012_0242ac110002row15_col20 {\n",
       "            background-color:  #d94261;\n",
       "            max-width:  80px;\n",
       "            font-size:  10pt;\n",
       "        }    #T_a72a7e88_58d0_11e8_b012_0242ac110002row16_col0 {\n",
       "            background-color:  #d73d5c;\n",
       "            max-width:  80px;\n",
       "            font-size:  10pt;\n",
       "        }    #T_a72a7e88_58d0_11e8_b012_0242ac110002row16_col1 {\n",
       "            background-color:  #d83e5d;\n",
       "            max-width:  80px;\n",
       "            font-size:  10pt;\n",
       "        }    #T_a72a7e88_58d0_11e8_b012_0242ac110002row16_col2 {\n",
       "            background-color:  #d73c5b;\n",
       "            max-width:  80px;\n",
       "            font-size:  10pt;\n",
       "        }    #T_a72a7e88_58d0_11e8_b012_0242ac110002row16_col3 {\n",
       "            background-color:  #d73d5c;\n",
       "            max-width:  80px;\n",
       "            font-size:  10pt;\n",
       "        }    #T_a72a7e88_58d0_11e8_b012_0242ac110002row16_col4 {\n",
       "            background-color:  #d73d5c;\n",
       "            max-width:  80px;\n",
       "            font-size:  10pt;\n",
       "        }    #T_a72a7e88_58d0_11e8_b012_0242ac110002row16_col5 {\n",
       "            background-color:  #d73c5b;\n",
       "            max-width:  80px;\n",
       "            font-size:  10pt;\n",
       "        }    #T_a72a7e88_58d0_11e8_b012_0242ac110002row16_col6 {\n",
       "            background-color:  #d94563;\n",
       "            max-width:  80px;\n",
       "            font-size:  10pt;\n",
       "        }    #T_a72a7e88_58d0_11e8_b012_0242ac110002row16_col7 {\n",
       "            background-color:  #d73c5b;\n",
       "            max-width:  80px;\n",
       "            font-size:  10pt;\n",
       "        }    #T_a72a7e88_58d0_11e8_b012_0242ac110002row16_col8 {\n",
       "            background-color:  #d73c5b;\n",
       "            max-width:  80px;\n",
       "            font-size:  10pt;\n",
       "        }    #T_a72a7e88_58d0_11e8_b012_0242ac110002row16_col9 {\n",
       "            background-color:  #d73c5b;\n",
       "            max-width:  80px;\n",
       "            font-size:  10pt;\n",
       "        }    #T_a72a7e88_58d0_11e8_b012_0242ac110002row16_col10 {\n",
       "            background-color:  #d73d5c;\n",
       "            max-width:  80px;\n",
       "            font-size:  10pt;\n",
       "        }    #T_a72a7e88_58d0_11e8_b012_0242ac110002row16_col11 {\n",
       "            background-color:  #d73d5c;\n",
       "            max-width:  80px;\n",
       "            font-size:  10pt;\n",
       "        }    #T_a72a7e88_58d0_11e8_b012_0242ac110002row16_col12 {\n",
       "            background-color:  #d73c5b;\n",
       "            max-width:  80px;\n",
       "            font-size:  10pt;\n",
       "        }    #T_a72a7e88_58d0_11e8_b012_0242ac110002row16_col13 {\n",
       "            background-color:  #d83e5d;\n",
       "            max-width:  80px;\n",
       "            font-size:  10pt;\n",
       "        }    #T_a72a7e88_58d0_11e8_b012_0242ac110002row16_col14 {\n",
       "            background-color:  #d73d5c;\n",
       "            max-width:  80px;\n",
       "            font-size:  10pt;\n",
       "        }    #T_a72a7e88_58d0_11e8_b012_0242ac110002row16_col15 {\n",
       "            background-color:  #d73d5c;\n",
       "            max-width:  80px;\n",
       "            font-size:  10pt;\n",
       "        }    #T_a72a7e88_58d0_11e8_b012_0242ac110002row16_col16 {\n",
       "            background-color:  #4479bb;\n",
       "            max-width:  80px;\n",
       "            font-size:  10pt;\n",
       "        }    #T_a72a7e88_58d0_11e8_b012_0242ac110002row16_col17 {\n",
       "            background-color:  #d73d5c;\n",
       "            max-width:  80px;\n",
       "            font-size:  10pt;\n",
       "        }    #T_a72a7e88_58d0_11e8_b012_0242ac110002row16_col18 {\n",
       "            background-color:  #d73d5c;\n",
       "            max-width:  80px;\n",
       "            font-size:  10pt;\n",
       "        }    #T_a72a7e88_58d0_11e8_b012_0242ac110002row16_col19 {\n",
       "            background-color:  #d73c5b;\n",
       "            max-width:  80px;\n",
       "            font-size:  10pt;\n",
       "        }    #T_a72a7e88_58d0_11e8_b012_0242ac110002row16_col20 {\n",
       "            background-color:  #d73c5b;\n",
       "            max-width:  80px;\n",
       "            font-size:  10pt;\n",
       "        }    #T_a72a7e88_58d0_11e8_b012_0242ac110002row17_col0 {\n",
       "            background-color:  #de5f79;\n",
       "            max-width:  80px;\n",
       "            font-size:  10pt;\n",
       "        }    #T_a72a7e88_58d0_11e8_b012_0242ac110002row17_col1 {\n",
       "            background-color:  #e57d92;\n",
       "            max-width:  80px;\n",
       "            font-size:  10pt;\n",
       "        }    #T_a72a7e88_58d0_11e8_b012_0242ac110002row17_col2 {\n",
       "            background-color:  #dd5a74;\n",
       "            max-width:  80px;\n",
       "            font-size:  10pt;\n",
       "        }    #T_a72a7e88_58d0_11e8_b012_0242ac110002row17_col3 {\n",
       "            background-color:  #de5f79;\n",
       "            max-width:  80px;\n",
       "            font-size:  10pt;\n",
       "        }    #T_a72a7e88_58d0_11e8_b012_0242ac110002row17_col4 {\n",
       "            background-color:  #df637c;\n",
       "            max-width:  80px;\n",
       "            font-size:  10pt;\n",
       "        }    #T_a72a7e88_58d0_11e8_b012_0242ac110002row17_col5 {\n",
       "            background-color:  #dc5570;\n",
       "            max-width:  80px;\n",
       "            font-size:  10pt;\n",
       "        }    #T_a72a7e88_58d0_11e8_b012_0242ac110002row17_col6 {\n",
       "            background-color:  #f3c5ce;\n",
       "            max-width:  80px;\n",
       "            font-size:  10pt;\n",
       "        }    #T_a72a7e88_58d0_11e8_b012_0242ac110002row17_col7 {\n",
       "            background-color:  #d73c5b;\n",
       "            max-width:  80px;\n",
       "            font-size:  10pt;\n",
       "        }    #T_a72a7e88_58d0_11e8_b012_0242ac110002row17_col8 {\n",
       "            background-color:  #d94261;\n",
       "            max-width:  80px;\n",
       "            font-size:  10pt;\n",
       "        }    #T_a72a7e88_58d0_11e8_b012_0242ac110002row17_col9 {\n",
       "            background-color:  #da4865;\n",
       "            max-width:  80px;\n",
       "            font-size:  10pt;\n",
       "        }    #T_a72a7e88_58d0_11e8_b012_0242ac110002row17_col10 {\n",
       "            background-color:  #da4865;\n",
       "            max-width:  80px;\n",
       "            font-size:  10pt;\n",
       "        }    #T_a72a7e88_58d0_11e8_b012_0242ac110002row17_col11 {\n",
       "            background-color:  #dc526e;\n",
       "            max-width:  80px;\n",
       "            font-size:  10pt;\n",
       "        }    #T_a72a7e88_58d0_11e8_b012_0242ac110002row17_col12 {\n",
       "            background-color:  #da4865;\n",
       "            max-width:  80px;\n",
       "            font-size:  10pt;\n",
       "        }    #T_a72a7e88_58d0_11e8_b012_0242ac110002row17_col13 {\n",
       "            background-color:  #d73c5b;\n",
       "            max-width:  80px;\n",
       "            font-size:  10pt;\n",
       "        }    #T_a72a7e88_58d0_11e8_b012_0242ac110002row17_col14 {\n",
       "            background-color:  #d8415f;\n",
       "            max-width:  80px;\n",
       "            font-size:  10pt;\n",
       "        }    #T_a72a7e88_58d0_11e8_b012_0242ac110002row17_col15 {\n",
       "            background-color:  #d94764;\n",
       "            max-width:  80px;\n",
       "            font-size:  10pt;\n",
       "        }    #T_a72a7e88_58d0_11e8_b012_0242ac110002row17_col16 {\n",
       "            background-color:  #da4865;\n",
       "            max-width:  80px;\n",
       "            font-size:  10pt;\n",
       "        }    #T_a72a7e88_58d0_11e8_b012_0242ac110002row17_col17 {\n",
       "            background-color:  #4479bb;\n",
       "            max-width:  80px;\n",
       "            font-size:  10pt;\n",
       "        }    #T_a72a7e88_58d0_11e8_b012_0242ac110002row17_col18 {\n",
       "            background-color:  #de5e77;\n",
       "            max-width:  80px;\n",
       "            font-size:  10pt;\n",
       "        }    #T_a72a7e88_58d0_11e8_b012_0242ac110002row17_col19 {\n",
       "            background-color:  #dd5872;\n",
       "            max-width:  80px;\n",
       "            font-size:  10pt;\n",
       "        }    #T_a72a7e88_58d0_11e8_b012_0242ac110002row17_col20 {\n",
       "            background-color:  #db4f6b;\n",
       "            max-width:  80px;\n",
       "            font-size:  10pt;\n",
       "        }    #T_a72a7e88_58d0_11e8_b012_0242ac110002row18_col0 {\n",
       "            background-color:  #df637c;\n",
       "            max-width:  80px;\n",
       "            font-size:  10pt;\n",
       "        }    #T_a72a7e88_58d0_11e8_b012_0242ac110002row18_col1 {\n",
       "            background-color:  #db4d69;\n",
       "            max-width:  80px;\n",
       "            font-size:  10pt;\n",
       "        }    #T_a72a7e88_58d0_11e8_b012_0242ac110002row18_col2 {\n",
       "            background-color:  #e27087;\n",
       "            max-width:  80px;\n",
       "            font-size:  10pt;\n",
       "        }    #T_a72a7e88_58d0_11e8_b012_0242ac110002row18_col3 {\n",
       "            background-color:  #dd5a74;\n",
       "            max-width:  80px;\n",
       "            font-size:  10pt;\n",
       "        }    #T_a72a7e88_58d0_11e8_b012_0242ac110002row18_col4 {\n",
       "            background-color:  #e58195;\n",
       "            max-width:  80px;\n",
       "            font-size:  10pt;\n",
       "        }    #T_a72a7e88_58d0_11e8_b012_0242ac110002row18_col5 {\n",
       "            background-color:  #e3768c;\n",
       "            max-width:  80px;\n",
       "            font-size:  10pt;\n",
       "        }    #T_a72a7e88_58d0_11e8_b012_0242ac110002row18_col6 {\n",
       "            background-color:  #bdd0e7;\n",
       "            max-width:  80px;\n",
       "            font-size:  10pt;\n",
       "        }    #T_a72a7e88_58d0_11e8_b012_0242ac110002row18_col7 {\n",
       "            background-color:  #d73c5b;\n",
       "            max-width:  80px;\n",
       "            font-size:  10pt;\n",
       "        }    #T_a72a7e88_58d0_11e8_b012_0242ac110002row18_col8 {\n",
       "            background-color:  #d8405e;\n",
       "            max-width:  80px;\n",
       "            font-size:  10pt;\n",
       "        }    #T_a72a7e88_58d0_11e8_b012_0242ac110002row18_col9 {\n",
       "            background-color:  #d94764;\n",
       "            max-width:  80px;\n",
       "            font-size:  10pt;\n",
       "        }    #T_a72a7e88_58d0_11e8_b012_0242ac110002row18_col10 {\n",
       "            background-color:  #da4966;\n",
       "            max-width:  80px;\n",
       "            font-size:  10pt;\n",
       "        }    #T_a72a7e88_58d0_11e8_b012_0242ac110002row18_col11 {\n",
       "            background-color:  #d94764;\n",
       "            max-width:  80px;\n",
       "            font-size:  10pt;\n",
       "        }    #T_a72a7e88_58d0_11e8_b012_0242ac110002row18_col12 {\n",
       "            background-color:  #d8415f;\n",
       "            max-width:  80px;\n",
       "            font-size:  10pt;\n",
       "        }    #T_a72a7e88_58d0_11e8_b012_0242ac110002row18_col13 {\n",
       "            background-color:  #da4865;\n",
       "            max-width:  80px;\n",
       "            font-size:  10pt;\n",
       "        }    #T_a72a7e88_58d0_11e8_b012_0242ac110002row18_col14 {\n",
       "            background-color:  #da4966;\n",
       "            max-width:  80px;\n",
       "            font-size:  10pt;\n",
       "        }    #T_a72a7e88_58d0_11e8_b012_0242ac110002row18_col15 {\n",
       "            background-color:  #d94764;\n",
       "            max-width:  80px;\n",
       "            font-size:  10pt;\n",
       "        }    #T_a72a7e88_58d0_11e8_b012_0242ac110002row18_col16 {\n",
       "            background-color:  #d94764;\n",
       "            max-width:  80px;\n",
       "            font-size:  10pt;\n",
       "        }    #T_a72a7e88_58d0_11e8_b012_0242ac110002row18_col17 {\n",
       "            background-color:  #de5c76;\n",
       "            max-width:  80px;\n",
       "            font-size:  10pt;\n",
       "        }    #T_a72a7e88_58d0_11e8_b012_0242ac110002row18_col18 {\n",
       "            background-color:  #4479bb;\n",
       "            max-width:  80px;\n",
       "            font-size:  10pt;\n",
       "        }    #T_a72a7e88_58d0_11e8_b012_0242ac110002row18_col19 {\n",
       "            background-color:  #db4f6b;\n",
       "            max-width:  80px;\n",
       "            font-size:  10pt;\n",
       "        }    #T_a72a7e88_58d0_11e8_b012_0242ac110002row18_col20 {\n",
       "            background-color:  #dc516d;\n",
       "            max-width:  80px;\n",
       "            font-size:  10pt;\n",
       "        }    #T_a72a7e88_58d0_11e8_b012_0242ac110002row19_col0 {\n",
       "            background-color:  #db4e6a;\n",
       "            max-width:  80px;\n",
       "            font-size:  10pt;\n",
       "        }    #T_a72a7e88_58d0_11e8_b012_0242ac110002row19_col1 {\n",
       "            background-color:  #d94261;\n",
       "            max-width:  80px;\n",
       "            font-size:  10pt;\n",
       "        }    #T_a72a7e88_58d0_11e8_b012_0242ac110002row19_col2 {\n",
       "            background-color:  #d94764;\n",
       "            max-width:  80px;\n",
       "            font-size:  10pt;\n",
       "        }    #T_a72a7e88_58d0_11e8_b012_0242ac110002row19_col3 {\n",
       "            background-color:  #d8415f;\n",
       "            max-width:  80px;\n",
       "            font-size:  10pt;\n",
       "        }    #T_a72a7e88_58d0_11e8_b012_0242ac110002row19_col4 {\n",
       "            background-color:  #db4d69;\n",
       "            max-width:  80px;\n",
       "            font-size:  10pt;\n",
       "        }    #T_a72a7e88_58d0_11e8_b012_0242ac110002row19_col5 {\n",
       "            background-color:  #d94764;\n",
       "            max-width:  80px;\n",
       "            font-size:  10pt;\n",
       "        }    #T_a72a7e88_58d0_11e8_b012_0242ac110002row19_col6 {\n",
       "            background-color:  #eca3b1;\n",
       "            max-width:  80px;\n",
       "            font-size:  10pt;\n",
       "        }    #T_a72a7e88_58d0_11e8_b012_0242ac110002row19_col7 {\n",
       "            background-color:  #d73c5b;\n",
       "            max-width:  80px;\n",
       "            font-size:  10pt;\n",
       "        }    #T_a72a7e88_58d0_11e8_b012_0242ac110002row19_col8 {\n",
       "            background-color:  #d73d5c;\n",
       "            max-width:  80px;\n",
       "            font-size:  10pt;\n",
       "        }    #T_a72a7e88_58d0_11e8_b012_0242ac110002row19_col9 {\n",
       "            background-color:  #d83e5d;\n",
       "            max-width:  80px;\n",
       "            font-size:  10pt;\n",
       "        }    #T_a72a7e88_58d0_11e8_b012_0242ac110002row19_col10 {\n",
       "            background-color:  #d8405e;\n",
       "            max-width:  80px;\n",
       "            font-size:  10pt;\n",
       "        }    #T_a72a7e88_58d0_11e8_b012_0242ac110002row19_col11 {\n",
       "            background-color:  #d73c5b;\n",
       "            max-width:  80px;\n",
       "            font-size:  10pt;\n",
       "        }    #T_a72a7e88_58d0_11e8_b012_0242ac110002row19_col12 {\n",
       "            background-color:  #da4966;\n",
       "            max-width:  80px;\n",
       "            font-size:  10pt;\n",
       "        }    #T_a72a7e88_58d0_11e8_b012_0242ac110002row19_col13 {\n",
       "            background-color:  #d73d5c;\n",
       "            max-width:  80px;\n",
       "            font-size:  10pt;\n",
       "        }    #T_a72a7e88_58d0_11e8_b012_0242ac110002row19_col14 {\n",
       "            background-color:  #d73c5b;\n",
       "            max-width:  80px;\n",
       "            font-size:  10pt;\n",
       "        }    #T_a72a7e88_58d0_11e8_b012_0242ac110002row19_col15 {\n",
       "            background-color:  #d73c5b;\n",
       "            max-width:  80px;\n",
       "            font-size:  10pt;\n",
       "        }    #T_a72a7e88_58d0_11e8_b012_0242ac110002row19_col16 {\n",
       "            background-color:  #d83e5d;\n",
       "            max-width:  80px;\n",
       "            font-size:  10pt;\n",
       "        }    #T_a72a7e88_58d0_11e8_b012_0242ac110002row19_col17 {\n",
       "            background-color:  #db4f6b;\n",
       "            max-width:  80px;\n",
       "            font-size:  10pt;\n",
       "        }    #T_a72a7e88_58d0_11e8_b012_0242ac110002row19_col18 {\n",
       "            background-color:  #da4865;\n",
       "            max-width:  80px;\n",
       "            font-size:  10pt;\n",
       "        }    #T_a72a7e88_58d0_11e8_b012_0242ac110002row19_col19 {\n",
       "            background-color:  #4479bb;\n",
       "            max-width:  80px;\n",
       "            font-size:  10pt;\n",
       "        }    #T_a72a7e88_58d0_11e8_b012_0242ac110002row19_col20 {\n",
       "            background-color:  #d73d5c;\n",
       "            max-width:  80px;\n",
       "            font-size:  10pt;\n",
       "        }    #T_a72a7e88_58d0_11e8_b012_0242ac110002row20_col0 {\n",
       "            background-color:  #df617a;\n",
       "            max-width:  80px;\n",
       "            font-size:  10pt;\n",
       "        }    #T_a72a7e88_58d0_11e8_b012_0242ac110002row20_col1 {\n",
       "            background-color:  #db4e6a;\n",
       "            max-width:  80px;\n",
       "            font-size:  10pt;\n",
       "        }    #T_a72a7e88_58d0_11e8_b012_0242ac110002row20_col2 {\n",
       "            background-color:  #da4b68;\n",
       "            max-width:  80px;\n",
       "            font-size:  10pt;\n",
       "        }    #T_a72a7e88_58d0_11e8_b012_0242ac110002row20_col3 {\n",
       "            background-color:  #da4966;\n",
       "            max-width:  80px;\n",
       "            font-size:  10pt;\n",
       "        }    #T_a72a7e88_58d0_11e8_b012_0242ac110002row20_col4 {\n",
       "            background-color:  #de5b75;\n",
       "            max-width:  80px;\n",
       "            font-size:  10pt;\n",
       "        }    #T_a72a7e88_58d0_11e8_b012_0242ac110002row20_col5 {\n",
       "            background-color:  #da4b68;\n",
       "            max-width:  80px;\n",
       "            font-size:  10pt;\n",
       "        }    #T_a72a7e88_58d0_11e8_b012_0242ac110002row20_col6 {\n",
       "            background-color:  #cedced;\n",
       "            max-width:  80px;\n",
       "            font-size:  10pt;\n",
       "        }    #T_a72a7e88_58d0_11e8_b012_0242ac110002row20_col7 {\n",
       "            background-color:  #d73c5b;\n",
       "            max-width:  80px;\n",
       "            font-size:  10pt;\n",
       "        }    #T_a72a7e88_58d0_11e8_b012_0242ac110002row20_col8 {\n",
       "            background-color:  #d83e5d;\n",
       "            max-width:  80px;\n",
       "            font-size:  10pt;\n",
       "        }    #T_a72a7e88_58d0_11e8_b012_0242ac110002row20_col9 {\n",
       "            background-color:  #d94462;\n",
       "            max-width:  80px;\n",
       "            font-size:  10pt;\n",
       "        }    #T_a72a7e88_58d0_11e8_b012_0242ac110002row20_col10 {\n",
       "            background-color:  #d94764;\n",
       "            max-width:  80px;\n",
       "            font-size:  10pt;\n",
       "        }    #T_a72a7e88_58d0_11e8_b012_0242ac110002row20_col11 {\n",
       "            background-color:  #da4966;\n",
       "            max-width:  80px;\n",
       "            font-size:  10pt;\n",
       "        }    #T_a72a7e88_58d0_11e8_b012_0242ac110002row20_col12 {\n",
       "            background-color:  #db4d69;\n",
       "            max-width:  80px;\n",
       "            font-size:  10pt;\n",
       "        }    #T_a72a7e88_58d0_11e8_b012_0242ac110002row20_col13 {\n",
       "            background-color:  #d83e5d;\n",
       "            max-width:  80px;\n",
       "            font-size:  10pt;\n",
       "        }    #T_a72a7e88_58d0_11e8_b012_0242ac110002row20_col14 {\n",
       "            background-color:  #d8405e;\n",
       "            max-width:  80px;\n",
       "            font-size:  10pt;\n",
       "        }    #T_a72a7e88_58d0_11e8_b012_0242ac110002row20_col15 {\n",
       "            background-color:  #d94261;\n",
       "            max-width:  80px;\n",
       "            font-size:  10pt;\n",
       "        }    #T_a72a7e88_58d0_11e8_b012_0242ac110002row20_col16 {\n",
       "            background-color:  #d94261;\n",
       "            max-width:  80px;\n",
       "            font-size:  10pt;\n",
       "        }    #T_a72a7e88_58d0_11e8_b012_0242ac110002row20_col17 {\n",
       "            background-color:  #da4b68;\n",
       "            max-width:  80px;\n",
       "            font-size:  10pt;\n",
       "        }    #T_a72a7e88_58d0_11e8_b012_0242ac110002row20_col18 {\n",
       "            background-color:  #db4f6b;\n",
       "            max-width:  80px;\n",
       "            font-size:  10pt;\n",
       "        }    #T_a72a7e88_58d0_11e8_b012_0242ac110002row20_col19 {\n",
       "            background-color:  #d8415f;\n",
       "            max-width:  80px;\n",
       "            font-size:  10pt;\n",
       "        }    #T_a72a7e88_58d0_11e8_b012_0242ac110002row20_col20 {\n",
       "            background-color:  #4479bb;\n",
       "            max-width:  80px;\n",
       "            font-size:  10pt;\n",
       "        }</style>  \n",
       "<table id=\"T_a72a7e88_58d0_11e8_b012_0242ac110002\" ><caption>Hover to magify</caption> \n",
       "<thead>    <tr> \n",
       "        <th class=\"blank level0\" ></th> \n",
       "        <th class=\"col_heading level0 col0\" >ArrDelay</th> \n",
       "        <th class=\"col_heading level0 col1\" >ActualElapsedTime</th> \n",
       "        <th class=\"col_heading level0 col2\" >CRSArrTime</th> \n",
       "        <th class=\"col_heading level0 col3\" >ArrTime</th> \n",
       "        <th class=\"col_heading level0 col4\" >DepTime</th> \n",
       "        <th class=\"col_heading level0 col5\" >CRSDepTime</th> \n",
       "        <th class=\"col_heading level0 col6\" >DepDelay</th> \n",
       "        <th class=\"col_heading level0 col7\" >Cancelled</th> \n",
       "        <th class=\"col_heading level0 col8\" >Month</th> \n",
       "        <th class=\"col_heading level0 col9\" >DayofMonth</th> \n",
       "        <th class=\"col_heading level0 col10\" >DayOfWeek</th> \n",
       "        <th class=\"col_heading level0 col11\" >Distance</th> \n",
       "        <th class=\"col_heading level0 col12\" >FlightNum</th> \n",
       "        <th class=\"col_heading level0 col13\" >UniqueCarrier</th> \n",
       "        <th class=\"col_heading level0 col14\" >Origin</th> \n",
       "        <th class=\"col_heading level0 col15\" >Dest</th> \n",
       "        <th class=\"col_heading level0 col16\" >SecurityDelay</th> \n",
       "        <th class=\"col_heading level0 col17\" >NASDelay</th> \n",
       "        <th class=\"col_heading level0 col18\" >LateAircraftDelay</th> \n",
       "        <th class=\"col_heading level0 col19\" >WeatherDelay</th> \n",
       "        <th class=\"col_heading level0 col20\" >CarrierDelay</th> \n",
       "    </tr></thead> \n",
       "<tbody>    <tr> \n",
       "        <th id=\"T_a72a7e88_58d0_11e8_b012_0242ac110002level0_row0\" class=\"row_heading level0 row0\" >ArrDelay</th> \n",
       "        <td id=\"T_a72a7e88_58d0_11e8_b012_0242ac110002row0_col0\" class=\"data row0 col0\" >1</td> \n",
       "        <td id=\"T_a72a7e88_58d0_11e8_b012_0242ac110002row0_col1\" class=\"data row0 col1\" >-0.22</td> \n",
       "        <td id=\"T_a72a7e88_58d0_11e8_b012_0242ac110002row0_col2\" class=\"data row0 col2\" >0.036</td> \n",
       "        <td id=\"T_a72a7e88_58d0_11e8_b012_0242ac110002row0_col3\" class=\"data row0 col3\" >-0.37</td> \n",
       "        <td id=\"T_a72a7e88_58d0_11e8_b012_0242ac110002row0_col4\" class=\"data row0 col4\" >-0.3</td> \n",
       "        <td id=\"T_a72a7e88_58d0_11e8_b012_0242ac110002row0_col5\" class=\"data row0 col5\" >0.037</td> \n",
       "        <td id=\"T_a72a7e88_58d0_11e8_b012_0242ac110002row0_col6\" class=\"data row0 col6\" >0.17</td> \n",
       "        <td id=\"T_a72a7e88_58d0_11e8_b012_0242ac110002row0_col7\" class=\"data row0 col7\" >0.92</td> \n",
       "        <td id=\"T_a72a7e88_58d0_11e8_b012_0242ac110002row0_col8\" class=\"data row0 col8\" >-0.034</td> \n",
       "        <td id=\"T_a72a7e88_58d0_11e8_b012_0242ac110002row0_col9\" class=\"data row0 col9\" >-0.0073</td> \n",
       "        <td id=\"T_a72a7e88_58d0_11e8_b012_0242ac110002row0_col10\" class=\"data row0 col10\" >-0.0033</td> \n",
       "        <td id=\"T_a72a7e88_58d0_11e8_b012_0242ac110002row0_col11\" class=\"data row0 col11\" >-0.026</td> \n",
       "        <td id=\"T_a72a7e88_58d0_11e8_b012_0242ac110002row0_col12\" class=\"data row0 col12\" >0.042</td> \n",
       "        <td id=\"T_a72a7e88_58d0_11e8_b012_0242ac110002row0_col13\" class=\"data row0 col13\" >-0.014</td> \n",
       "        <td id=\"T_a72a7e88_58d0_11e8_b012_0242ac110002row0_col14\" class=\"data row0 col14\" >-0.0061</td> \n",
       "        <td id=\"T_a72a7e88_58d0_11e8_b012_0242ac110002row0_col15\" class=\"data row0 col15\" >-0.0049</td> \n",
       "        <td id=\"T_a72a7e88_58d0_11e8_b012_0242ac110002row0_col16\" class=\"data row0 col16\" >0.0021</td> \n",
       "        <td id=\"T_a72a7e88_58d0_11e8_b012_0242ac110002row0_col17\" class=\"data row0 col17\" >0.066</td> \n",
       "        <td id=\"T_a72a7e88_58d0_11e8_b012_0242ac110002row0_col18\" class=\"data row0 col18\" >0.084</td> \n",
       "        <td id=\"T_a72a7e88_58d0_11e8_b012_0242ac110002row0_col19\" class=\"data row0 col19\" >0.043</td> \n",
       "        <td id=\"T_a72a7e88_58d0_11e8_b012_0242ac110002row0_col20\" class=\"data row0 col20\" >0.083</td> \n",
       "    </tr>    <tr> \n",
       "        <th id=\"T_a72a7e88_58d0_11e8_b012_0242ac110002level0_row1\" class=\"row_heading level0 row1\" >ActualElapsedTime</th> \n",
       "        <td id=\"T_a72a7e88_58d0_11e8_b012_0242ac110002row1_col0\" class=\"data row1 col0\" >-0.22</td> \n",
       "        <td id=\"T_a72a7e88_58d0_11e8_b012_0242ac110002row1_col1\" class=\"data row1 col1\" >1</td> \n",
       "        <td id=\"T_a72a7e88_58d0_11e8_b012_0242ac110002row1_col2\" class=\"data row1 col2\" >0.046</td> \n",
       "        <td id=\"T_a72a7e88_58d0_11e8_b012_0242ac110002row1_col3\" class=\"data row1 col3\" >0.13</td> \n",
       "        <td id=\"T_a72a7e88_58d0_11e8_b012_0242ac110002row1_col4\" class=\"data row1 col4\" >0.066</td> \n",
       "        <td id=\"T_a72a7e88_58d0_11e8_b012_0242ac110002row1_col5\" class=\"data row1 col5\" >-0.02</td> \n",
       "        <td id=\"T_a72a7e88_58d0_11e8_b012_0242ac110002row1_col6\" class=\"data row1 col6\" >0.044</td> \n",
       "        <td id=\"T_a72a7e88_58d0_11e8_b012_0242ac110002row1_col7\" class=\"data row1 col7\" >-0.23</td> \n",
       "        <td id=\"T_a72a7e88_58d0_11e8_b012_0242ac110002row1_col8\" class=\"data row1 col8\" >-0.0071</td> \n",
       "        <td id=\"T_a72a7e88_58d0_11e8_b012_0242ac110002row1_col9\" class=\"data row1 col9\" >0.0025</td> \n",
       "        <td id=\"T_a72a7e88_58d0_11e8_b012_0242ac110002row1_col10\" class=\"data row1 col10\" >0.014</td> \n",
       "        <td id=\"T_a72a7e88_58d0_11e8_b012_0242ac110002row1_col11\" class=\"data row1 col11\" >0.93</td> \n",
       "        <td id=\"T_a72a7e88_58d0_11e8_b012_0242ac110002row1_col12\" class=\"data row1 col12\" >-0.32</td> \n",
       "        <td id=\"T_a72a7e88_58d0_11e8_b012_0242ac110002row1_col13\" class=\"data row1 col13\" >-0.19</td> \n",
       "        <td id=\"T_a72a7e88_58d0_11e8_b012_0242ac110002row1_col14\" class=\"data row1 col14\" >0.036</td> \n",
       "        <td id=\"T_a72a7e88_58d0_11e8_b012_0242ac110002row1_col15\" class=\"data row1 col15\" >0.065</td> \n",
       "        <td id=\"T_a72a7e88_58d0_11e8_b012_0242ac110002row1_col16\" class=\"data row1 col16\" >0.0052</td> \n",
       "        <td id=\"T_a72a7e88_58d0_11e8_b012_0242ac110002row1_col17\" class=\"data row1 col17\" >0.15</td> \n",
       "        <td id=\"T_a72a7e88_58d0_11e8_b012_0242ac110002row1_col18\" class=\"data row1 col18\" >0.021</td> \n",
       "        <td id=\"T_a72a7e88_58d0_11e8_b012_0242ac110002row1_col19\" class=\"data row1 col19\" >0.013</td> \n",
       "        <td id=\"T_a72a7e88_58d0_11e8_b012_0242ac110002row1_col20\" class=\"data row1 col20\" >0.031</td> \n",
       "    </tr>    <tr> \n",
       "        <th id=\"T_a72a7e88_58d0_11e8_b012_0242ac110002level0_row2\" class=\"row_heading level0 row2\" >CRSArrTime</th> \n",
       "        <td id=\"T_a72a7e88_58d0_11e8_b012_0242ac110002row2_col0\" class=\"data row2 col0\" >0.036</td> \n",
       "        <td id=\"T_a72a7e88_58d0_11e8_b012_0242ac110002row2_col1\" class=\"data row2 col1\" >0.046</td> \n",
       "        <td id=\"T_a72a7e88_58d0_11e8_b012_0242ac110002row2_col2\" class=\"data row2 col2\" >1</td> \n",
       "        <td id=\"T_a72a7e88_58d0_11e8_b012_0242ac110002row2_col3\" class=\"data row2 col3\" >0.78</td> \n",
       "        <td id=\"T_a72a7e88_58d0_11e8_b012_0242ac110002row2_col4\" class=\"data row2 col4\" >0.73</td> \n",
       "        <td id=\"T_a72a7e88_58d0_11e8_b012_0242ac110002row2_col5\" class=\"data row2 col5\" >0.79</td> \n",
       "        <td id=\"T_a72a7e88_58d0_11e8_b012_0242ac110002row2_col6\" class=\"data row2 col6\" >0.13</td> \n",
       "        <td id=\"T_a72a7e88_58d0_11e8_b012_0242ac110002row2_col7\" class=\"data row2 col7\" >0.013</td> \n",
       "        <td id=\"T_a72a7e88_58d0_11e8_b012_0242ac110002row2_col8\" class=\"data row2 col8\" >0.00025</td> \n",
       "        <td id=\"T_a72a7e88_58d0_11e8_b012_0242ac110002row2_col9\" class=\"data row2 col9\" >-0.0014</td> \n",
       "        <td id=\"T_a72a7e88_58d0_11e8_b012_0242ac110002row2_col10\" class=\"data row2 col10\" >0.0052</td> \n",
       "        <td id=\"T_a72a7e88_58d0_11e8_b012_0242ac110002row2_col11\" class=\"data row2 col11\" >0.046</td> \n",
       "        <td id=\"T_a72a7e88_58d0_11e8_b012_0242ac110002row2_col12\" class=\"data row2 col12\" >-0.028</td> \n",
       "        <td id=\"T_a72a7e88_58d0_11e8_b012_0242ac110002row2_col13\" class=\"data row2 col13\" >-0.017</td> \n",
       "        <td id=\"T_a72a7e88_58d0_11e8_b012_0242ac110002row2_col14\" class=\"data row2 col14\" >-0.006</td> \n",
       "        <td id=\"T_a72a7e88_58d0_11e8_b012_0242ac110002row2_col15\" class=\"data row2 col15\" >0.016</td> \n",
       "        <td id=\"T_a72a7e88_58d0_11e8_b012_0242ac110002row2_col16\" class=\"data row2 col16\" >0.00055</td> \n",
       "        <td id=\"T_a72a7e88_58d0_11e8_b012_0242ac110002row2_col17\" class=\"data row2 col17\" >0.052</td> \n",
       "        <td id=\"T_a72a7e88_58d0_11e8_b012_0242ac110002row2_col18\" class=\"data row2 col18\" >0.12</td> \n",
       "        <td id=\"T_a72a7e88_58d0_11e8_b012_0242ac110002row2_col19\" class=\"data row2 col19\" >0.021</td> \n",
       "        <td id=\"T_a72a7e88_58d0_11e8_b012_0242ac110002row2_col20\" class=\"data row2 col20\" >0.02</td> \n",
       "    </tr>    <tr> \n",
       "        <th id=\"T_a72a7e88_58d0_11e8_b012_0242ac110002level0_row3\" class=\"row_heading level0 row3\" >ArrTime</th> \n",
       "        <td id=\"T_a72a7e88_58d0_11e8_b012_0242ac110002row3_col0\" class=\"data row3 col0\" >-0.37</td> \n",
       "        <td id=\"T_a72a7e88_58d0_11e8_b012_0242ac110002row3_col1\" class=\"data row3 col1\" >0.13</td> \n",
       "        <td id=\"T_a72a7e88_58d0_11e8_b012_0242ac110002row3_col2\" class=\"data row3 col2\" >0.78</td> \n",
       "        <td id=\"T_a72a7e88_58d0_11e8_b012_0242ac110002row3_col3\" class=\"data row3 col3\" >1</td> \n",
       "        <td id=\"T_a72a7e88_58d0_11e8_b012_0242ac110002row3_col4\" class=\"data row3 col4\" >0.74</td> \n",
       "        <td id=\"T_a72a7e88_58d0_11e8_b012_0242ac110002row3_col5\" class=\"data row3 col5\" >0.63</td> \n",
       "        <td id=\"T_a72a7e88_58d0_11e8_b012_0242ac110002row3_col6\" class=\"data row3 col6\" >0.07</td> \n",
       "        <td id=\"T_a72a7e88_58d0_11e8_b012_0242ac110002row3_col7\" class=\"data row3 col7\" >-0.38</td> \n",
       "        <td id=\"T_a72a7e88_58d0_11e8_b012_0242ac110002row3_col8\" class=\"data row3 col8\" >0.012</td> \n",
       "        <td id=\"T_a72a7e88_58d0_11e8_b012_0242ac110002row3_col9\" class=\"data row3 col9\" >0.0019</td> \n",
       "        <td id=\"T_a72a7e88_58d0_11e8_b012_0242ac110002row3_col10\" class=\"data row3 col10\" >0.0052</td> \n",
       "        <td id=\"T_a72a7e88_58d0_11e8_b012_0242ac110002row3_col11\" class=\"data row3 col11\" >0.038</td> \n",
       "        <td id=\"T_a72a7e88_58d0_11e8_b012_0242ac110002row3_col12\" class=\"data row3 col12\" >-0.032</td> \n",
       "        <td id=\"T_a72a7e88_58d0_11e8_b012_0242ac110002row3_col13\" class=\"data row3 col13\" >-0.0061</td> \n",
       "        <td id=\"T_a72a7e88_58d0_11e8_b012_0242ac110002row3_col14\" class=\"data row3 col14\" >-0.0028</td> \n",
       "        <td id=\"T_a72a7e88_58d0_11e8_b012_0242ac110002row3_col15\" class=\"data row3 col15\" >0.013</td> \n",
       "        <td id=\"T_a72a7e88_58d0_11e8_b012_0242ac110002row3_col16\" class=\"data row3 col16\" >0.0023</td> \n",
       "        <td id=\"T_a72a7e88_58d0_11e8_b012_0242ac110002row3_col17\" class=\"data row3 col17\" >0.067</td> \n",
       "        <td id=\"T_a72a7e88_58d0_11e8_b012_0242ac110002row3_col18\" class=\"data row3 col18\" >0.053</td> \n",
       "        <td id=\"T_a72a7e88_58d0_11e8_b012_0242ac110002row3_col19\" class=\"data row3 col19\" >0.0087</td> \n",
       "        <td id=\"T_a72a7e88_58d0_11e8_b012_0242ac110002row3_col20\" class=\"data row3 col20\" >0.018</td> \n",
       "    </tr>    <tr> \n",
       "        <th id=\"T_a72a7e88_58d0_11e8_b012_0242ac110002level0_row4\" class=\"row_heading level0 row4\" >DepTime</th> \n",
       "        <td id=\"T_a72a7e88_58d0_11e8_b012_0242ac110002row4_col0\" class=\"data row4 col0\" >-0.3</td> \n",
       "        <td id=\"T_a72a7e88_58d0_11e8_b012_0242ac110002row4_col1\" class=\"data row4 col1\" >0.066</td> \n",
       "        <td id=\"T_a72a7e88_58d0_11e8_b012_0242ac110002row4_col2\" class=\"data row4 col2\" >0.73</td> \n",
       "        <td id=\"T_a72a7e88_58d0_11e8_b012_0242ac110002row4_col3\" class=\"data row4 col3\" >0.74</td> \n",
       "        <td id=\"T_a72a7e88_58d0_11e8_b012_0242ac110002row4_col4\" class=\"data row4 col4\" >1</td> \n",
       "        <td id=\"T_a72a7e88_58d0_11e8_b012_0242ac110002row4_col5\" class=\"data row4 col5\" >0.89</td> \n",
       "        <td id=\"T_a72a7e88_58d0_11e8_b012_0242ac110002row4_col6\" class=\"data row4 col6\" >0.19</td> \n",
       "        <td id=\"T_a72a7e88_58d0_11e8_b012_0242ac110002row4_col7\" class=\"data row4 col7\" >-0.36</td> \n",
       "        <td id=\"T_a72a7e88_58d0_11e8_b012_0242ac110002row4_col8\" class=\"data row4 col8\" >0.0016</td> \n",
       "        <td id=\"T_a72a7e88_58d0_11e8_b012_0242ac110002row4_col9\" class=\"data row4 col9\" >0.0017</td> \n",
       "        <td id=\"T_a72a7e88_58d0_11e8_b012_0242ac110002row4_col10\" class=\"data row4 col10\" >0.0074</td> \n",
       "        <td id=\"T_a72a7e88_58d0_11e8_b012_0242ac110002row4_col11\" class=\"data row4 col11\" >-0.0023</td> \n",
       "        <td id=\"T_a72a7e88_58d0_11e8_b012_0242ac110002row4_col12\" class=\"data row4 col12\" >-0.021</td> \n",
       "        <td id=\"T_a72a7e88_58d0_11e8_b012_0242ac110002row4_col13\" class=\"data row4 col13\" >0.014</td> \n",
       "        <td id=\"T_a72a7e88_58d0_11e8_b012_0242ac110002row4_col14\" class=\"data row4 col14\" >-0.032</td> \n",
       "        <td id=\"T_a72a7e88_58d0_11e8_b012_0242ac110002row4_col15\" class=\"data row4 col15\" >0.028</td> \n",
       "        <td id=\"T_a72a7e88_58d0_11e8_b012_0242ac110002row4_col16\" class=\"data row4 col16\" >0.0033</td> \n",
       "        <td id=\"T_a72a7e88_58d0_11e8_b012_0242ac110002row4_col17\" class=\"data row4 col17\" >0.081</td> \n",
       "        <td id=\"T_a72a7e88_58d0_11e8_b012_0242ac110002row4_col18\" class=\"data row4 col18\" >0.17</td> \n",
       "        <td id=\"T_a72a7e88_58d0_11e8_b012_0242ac110002row4_col19\" class=\"data row4 col19\" >0.037</td> \n",
       "        <td id=\"T_a72a7e88_58d0_11e8_b012_0242ac110002row4_col20\" class=\"data row4 col20\" >0.067</td> \n",
       "    </tr>    <tr> \n",
       "        <th id=\"T_a72a7e88_58d0_11e8_b012_0242ac110002level0_row5\" class=\"row_heading level0 row5\" >CRSDepTime</th> \n",
       "        <td id=\"T_a72a7e88_58d0_11e8_b012_0242ac110002row5_col0\" class=\"data row5 col0\" >0.037</td> \n",
       "        <td id=\"T_a72a7e88_58d0_11e8_b012_0242ac110002row5_col1\" class=\"data row5 col1\" >-0.02</td> \n",
       "        <td id=\"T_a72a7e88_58d0_11e8_b012_0242ac110002row5_col2\" class=\"data row5 col2\" >0.79</td> \n",
       "        <td id=\"T_a72a7e88_58d0_11e8_b012_0242ac110002row5_col3\" class=\"data row5 col3\" >0.63</td> \n",
       "        <td id=\"T_a72a7e88_58d0_11e8_b012_0242ac110002row5_col4\" class=\"data row5 col4\" >0.89</td> \n",
       "        <td id=\"T_a72a7e88_58d0_11e8_b012_0242ac110002row5_col5\" class=\"data row5 col5\" >1</td> \n",
       "        <td id=\"T_a72a7e88_58d0_11e8_b012_0242ac110002row5_col6\" class=\"data row5 col6\" >0.14</td> \n",
       "        <td id=\"T_a72a7e88_58d0_11e8_b012_0242ac110002row5_col7\" class=\"data row5 col7\" >0.016</td> \n",
       "        <td id=\"T_a72a7e88_58d0_11e8_b012_0242ac110002row5_col8\" class=\"data row5 col8\" >-0.0082</td> \n",
       "        <td id=\"T_a72a7e88_58d0_11e8_b012_0242ac110002row5_col9\" class=\"data row5 col9\" >-0.0014</td> \n",
       "        <td id=\"T_a72a7e88_58d0_11e8_b012_0242ac110002row5_col10\" class=\"data row5 col10\" >0.0053</td> \n",
       "        <td id=\"T_a72a7e88_58d0_11e8_b012_0242ac110002row5_col11\" class=\"data row5 col11\" >-0.013</td> \n",
       "        <td id=\"T_a72a7e88_58d0_11e8_b012_0242ac110002row5_col12\" class=\"data row5 col12\" >-0.011</td> \n",
       "        <td id=\"T_a72a7e88_58d0_11e8_b012_0242ac110002row5_col13\" class=\"data row5 col13\" >0.011</td> \n",
       "        <td id=\"T_a72a7e88_58d0_11e8_b012_0242ac110002row5_col14\" class=\"data row5 col14\" >-0.036</td> \n",
       "        <td id=\"T_a72a7e88_58d0_11e8_b012_0242ac110002row5_col15\" class=\"data row5 col15\" >0.028</td> \n",
       "        <td id=\"T_a72a7e88_58d0_11e8_b012_0242ac110002row5_col16\" class=\"data row5 col16\" >-0.00018</td> \n",
       "        <td id=\"T_a72a7e88_58d0_11e8_b012_0242ac110002row5_col17\" class=\"data row5 col17\" >0.037</td> \n",
       "        <td id=\"T_a72a7e88_58d0_11e8_b012_0242ac110002row5_col18\" class=\"data row5 col18\" >0.13</td> \n",
       "        <td id=\"T_a72a7e88_58d0_11e8_b012_0242ac110002row5_col19\" class=\"data row5 col19\" >0.021</td> \n",
       "        <td id=\"T_a72a7e88_58d0_11e8_b012_0242ac110002row5_col20\" class=\"data row5 col20\" >0.022</td> \n",
       "    </tr>    <tr> \n",
       "        <th id=\"T_a72a7e88_58d0_11e8_b012_0242ac110002level0_row6\" class=\"row_heading level0 row6\" >DepDelay</th> \n",
       "        <td id=\"T_a72a7e88_58d0_11e8_b012_0242ac110002row6_col0\" class=\"data row6 col0\" >0.17</td> \n",
       "        <td id=\"T_a72a7e88_58d0_11e8_b012_0242ac110002row6_col1\" class=\"data row6 col1\" >0.044</td> \n",
       "        <td id=\"T_a72a7e88_58d0_11e8_b012_0242ac110002row6_col2\" class=\"data row6 col2\" >0.13</td> \n",
       "        <td id=\"T_a72a7e88_58d0_11e8_b012_0242ac110002row6_col3\" class=\"data row6 col3\" >0.07</td> \n",
       "        <td id=\"T_a72a7e88_58d0_11e8_b012_0242ac110002row6_col4\" class=\"data row6 col4\" >0.19</td> \n",
       "        <td id=\"T_a72a7e88_58d0_11e8_b012_0242ac110002row6_col5\" class=\"data row6 col5\" >0.14</td> \n",
       "        <td id=\"T_a72a7e88_58d0_11e8_b012_0242ac110002row6_col6\" class=\"data row6 col6\" >1</td> \n",
       "        <td id=\"T_a72a7e88_58d0_11e8_b012_0242ac110002row6_col7\" class=\"data row6 col7\" >-0.014</td> \n",
       "        <td id=\"T_a72a7e88_58d0_11e8_b012_0242ac110002row6_col8\" class=\"data row6 col8\" >-0.029</td> \n",
       "        <td id=\"T_a72a7e88_58d0_11e8_b012_0242ac110002row6_col9\" class=\"data row6 col9\" >0.0034</td> \n",
       "        <td id=\"T_a72a7e88_58d0_11e8_b012_0242ac110002row6_col10\" class=\"data row6 col10\" >0.015</td> \n",
       "        <td id=\"T_a72a7e88_58d0_11e8_b012_0242ac110002row6_col11\" class=\"data row6 col11\" >0.027</td> \n",
       "        <td id=\"T_a72a7e88_58d0_11e8_b012_0242ac110002row6_col12\" class=\"data row6 col12\" >0.009</td> \n",
       "        <td id=\"T_a72a7e88_58d0_11e8_b012_0242ac110002row6_col13\" class=\"data row6 col13\" >-0.005</td> \n",
       "        <td id=\"T_a72a7e88_58d0_11e8_b012_0242ac110002row6_col14\" class=\"data row6 col14\" >-0.0067</td> \n",
       "        <td id=\"T_a72a7e88_58d0_11e8_b012_0242ac110002row6_col15\" class=\"data row6 col15\" >0.004</td> \n",
       "        <td id=\"T_a72a7e88_58d0_11e8_b012_0242ac110002row6_col16\" class=\"data row6 col16\" >0.025</td> \n",
       "        <td id=\"T_a72a7e88_58d0_11e8_b012_0242ac110002row6_col17\" class=\"data row6 col17\" >0.36</td> \n",
       "        <td id=\"T_a72a7e88_58d0_11e8_b012_0242ac110002row6_col18\" class=\"data row6 col18\" >0.64</td> \n",
       "        <td id=\"T_a72a7e88_58d0_11e8_b012_0242ac110002row6_col19\" class=\"data row6 col19\" >0.28</td> \n",
       "        <td id=\"T_a72a7e88_58d0_11e8_b012_0242ac110002row6_col20\" class=\"data row6 col20\" >0.6</td> \n",
       "    </tr>    <tr> \n",
       "        <th id=\"T_a72a7e88_58d0_11e8_b012_0242ac110002level0_row7\" class=\"row_heading level0 row7\" >Cancelled</th> \n",
       "        <td id=\"T_a72a7e88_58d0_11e8_b012_0242ac110002row7_col0\" class=\"data row7 col0\" >0.92</td> \n",
       "        <td id=\"T_a72a7e88_58d0_11e8_b012_0242ac110002row7_col1\" class=\"data row7 col1\" >-0.23</td> \n",
       "        <td id=\"T_a72a7e88_58d0_11e8_b012_0242ac110002row7_col2\" class=\"data row7 col2\" >0.013</td> \n",
       "        <td id=\"T_a72a7e88_58d0_11e8_b012_0242ac110002row7_col3\" class=\"data row7 col3\" >-0.38</td> \n",
       "        <td id=\"T_a72a7e88_58d0_11e8_b012_0242ac110002row7_col4\" class=\"data row7 col4\" >-0.36</td> \n",
       "        <td id=\"T_a72a7e88_58d0_11e8_b012_0242ac110002row7_col5\" class=\"data row7 col5\" >0.016</td> \n",
       "        <td id=\"T_a72a7e88_58d0_11e8_b012_0242ac110002row7_col6\" class=\"data row7 col6\" >-0.014</td> \n",
       "        <td id=\"T_a72a7e88_58d0_11e8_b012_0242ac110002row7_col7\" class=\"data row7 col7\" >1</td> \n",
       "        <td id=\"T_a72a7e88_58d0_11e8_b012_0242ac110002row7_col8\" class=\"data row7 col8\" >-0.028</td> \n",
       "        <td id=\"T_a72a7e88_58d0_11e8_b012_0242ac110002row7_col9\" class=\"data row7 col9\" >-0.0084</td> \n",
       "        <td id=\"T_a72a7e88_58d0_11e8_b012_0242ac110002row7_col10\" class=\"data row7 col10\" >-0.0063</td> \n",
       "        <td id=\"T_a72a7e88_58d0_11e8_b012_0242ac110002row7_col11\" class=\"data row7 col11\" >-0.037</td> \n",
       "        <td id=\"T_a72a7e88_58d0_11e8_b012_0242ac110002row7_col12\" class=\"data row7 col12\" >0.042</td> \n",
       "        <td id=\"T_a72a7e88_58d0_11e8_b012_0242ac110002row7_col13\" class=\"data row7 col13\" >-0.0076</td> \n",
       "        <td id=\"T_a72a7e88_58d0_11e8_b012_0242ac110002row7_col14\" class=\"data row7 col14\" >-0.0032</td> \n",
       "        <td id=\"T_a72a7e88_58d0_11e8_b012_0242ac110002row7_col15\" class=\"data row7 col15\" >-0.0046</td> \n",
       "        <td id=\"T_a72a7e88_58d0_11e8_b012_0242ac110002row7_col16\" class=\"data row7 col16\" >-0.0027</td> \n",
       "        <td id=\"T_a72a7e88_58d0_11e8_b012_0242ac110002row7_col17\" class=\"data row7 col17\" >-0.032</td> \n",
       "        <td id=\"T_a72a7e88_58d0_11e8_b012_0242ac110002row7_col18\" class=\"data row7 col18\" >-0.032</td> \n",
       "        <td id=\"T_a72a7e88_58d0_11e8_b012_0242ac110002row7_col19\" class=\"data row7 col19\" >-0.01</td> \n",
       "        <td id=\"T_a72a7e88_58d0_11e8_b012_0242ac110002row7_col20\" class=\"data row7 col20\" >-0.025</td> \n",
       "    </tr>    <tr> \n",
       "        <th id=\"T_a72a7e88_58d0_11e8_b012_0242ac110002level0_row8\" class=\"row_heading level0 row8\" >Month</th> \n",
       "        <td id=\"T_a72a7e88_58d0_11e8_b012_0242ac110002row8_col0\" class=\"data row8 col0\" >-0.034</td> \n",
       "        <td id=\"T_a72a7e88_58d0_11e8_b012_0242ac110002row8_col1\" class=\"data row8 col1\" >-0.0071</td> \n",
       "        <td id=\"T_a72a7e88_58d0_11e8_b012_0242ac110002row8_col2\" class=\"data row8 col2\" >0.00025</td> \n",
       "        <td id=\"T_a72a7e88_58d0_11e8_b012_0242ac110002row8_col3\" class=\"data row8 col3\" >0.012</td> \n",
       "        <td id=\"T_a72a7e88_58d0_11e8_b012_0242ac110002row8_col4\" class=\"data row8 col4\" >0.0016</td> \n",
       "        <td id=\"T_a72a7e88_58d0_11e8_b012_0242ac110002row8_col5\" class=\"data row8 col5\" >-0.0082</td> \n",
       "        <td id=\"T_a72a7e88_58d0_11e8_b012_0242ac110002row8_col6\" class=\"data row8 col6\" >-0.029</td> \n",
       "        <td id=\"T_a72a7e88_58d0_11e8_b012_0242ac110002row8_col7\" class=\"data row8 col7\" >-0.028</td> \n",
       "        <td id=\"T_a72a7e88_58d0_11e8_b012_0242ac110002row8_col8\" class=\"data row8 col8\" >1</td> \n",
       "        <td id=\"T_a72a7e88_58d0_11e8_b012_0242ac110002row8_col9\" class=\"data row8 col9\" >0.0018</td> \n",
       "        <td id=\"T_a72a7e88_58d0_11e8_b012_0242ac110002row8_col10\" class=\"data row8 col10\" >-0.0037</td> \n",
       "        <td id=\"T_a72a7e88_58d0_11e8_b012_0242ac110002row8_col11\" class=\"data row8 col11\" >-0.0041</td> \n",
       "        <td id=\"T_a72a7e88_58d0_11e8_b012_0242ac110002row8_col12\" class=\"data row8 col12\" >0.0025</td> \n",
       "        <td id=\"T_a72a7e88_58d0_11e8_b012_0242ac110002row8_col13\" class=\"data row8 col13\" >-0.0056</td> \n",
       "        <td id=\"T_a72a7e88_58d0_11e8_b012_0242ac110002row8_col14\" class=\"data row8 col14\" >-0.0082</td> \n",
       "        <td id=\"T_a72a7e88_58d0_11e8_b012_0242ac110002row8_col15\" class=\"data row8 col15\" >-0.0083</td> \n",
       "        <td id=\"T_a72a7e88_58d0_11e8_b012_0242ac110002row8_col16\" class=\"data row8 col16\" >-0.0032</td> \n",
       "        <td id=\"T_a72a7e88_58d0_11e8_b012_0242ac110002row8_col17\" class=\"data row8 col17\" >-0.015</td> \n",
       "        <td id=\"T_a72a7e88_58d0_11e8_b012_0242ac110002row8_col18\" class=\"data row8 col18\" >-0.019</td> \n",
       "        <td id=\"T_a72a7e88_58d0_11e8_b012_0242ac110002row8_col19\" class=\"data row8 col19\" >-0.0038</td> \n",
       "        <td id=\"T_a72a7e88_58d0_11e8_b012_0242ac110002row8_col20\" class=\"data row8 col20\" >-0.016</td> \n",
       "    </tr>    <tr> \n",
       "        <th id=\"T_a72a7e88_58d0_11e8_b012_0242ac110002level0_row9\" class=\"row_heading level0 row9\" >DayofMonth</th> \n",
       "        <td id=\"T_a72a7e88_58d0_11e8_b012_0242ac110002row9_col0\" class=\"data row9 col0\" >-0.0073</td> \n",
       "        <td id=\"T_a72a7e88_58d0_11e8_b012_0242ac110002row9_col1\" class=\"data row9 col1\" >0.0025</td> \n",
       "        <td id=\"T_a72a7e88_58d0_11e8_b012_0242ac110002row9_col2\" class=\"data row9 col2\" >-0.0014</td> \n",
       "        <td id=\"T_a72a7e88_58d0_11e8_b012_0242ac110002row9_col3\" class=\"data row9 col3\" >0.0019</td> \n",
       "        <td id=\"T_a72a7e88_58d0_11e8_b012_0242ac110002row9_col4\" class=\"data row9 col4\" >0.0017</td> \n",
       "        <td id=\"T_a72a7e88_58d0_11e8_b012_0242ac110002row9_col5\" class=\"data row9 col5\" >-0.0014</td> \n",
       "        <td id=\"T_a72a7e88_58d0_11e8_b012_0242ac110002row9_col6\" class=\"data row9 col6\" >0.0034</td> \n",
       "        <td id=\"T_a72a7e88_58d0_11e8_b012_0242ac110002row9_col7\" class=\"data row9 col7\" >-0.0084</td> \n",
       "        <td id=\"T_a72a7e88_58d0_11e8_b012_0242ac110002row9_col8\" class=\"data row9 col8\" >0.0018</td> \n",
       "        <td id=\"T_a72a7e88_58d0_11e8_b012_0242ac110002row9_col9\" class=\"data row9 col9\" >1</td> \n",
       "        <td id=\"T_a72a7e88_58d0_11e8_b012_0242ac110002row9_col10\" class=\"data row9 col10\" >0.0057</td> \n",
       "        <td id=\"T_a72a7e88_58d0_11e8_b012_0242ac110002row9_col11\" class=\"data row9 col11\" >0.0018</td> \n",
       "        <td id=\"T_a72a7e88_58d0_11e8_b012_0242ac110002row9_col12\" class=\"data row9 col12\" >-0.00068</td> \n",
       "        <td id=\"T_a72a7e88_58d0_11e8_b012_0242ac110002row9_col13\" class=\"data row9 col13\" >-0.0011</td> \n",
       "        <td id=\"T_a72a7e88_58d0_11e8_b012_0242ac110002row9_col14\" class=\"data row9 col14\" >7.6e-05</td> \n",
       "        <td id=\"T_a72a7e88_58d0_11e8_b012_0242ac110002row9_col15\" class=\"data row9 col15\" >8.8e-05</td> \n",
       "        <td id=\"T_a72a7e88_58d0_11e8_b012_0242ac110002row9_col16\" class=\"data row9 col16\" >-0.00019</td> \n",
       "        <td id=\"T_a72a7e88_58d0_11e8_b012_0242ac110002row9_col17\" class=\"data row9 col17\" >0.001</td> \n",
       "        <td id=\"T_a72a7e88_58d0_11e8_b012_0242ac110002row9_col18\" class=\"data row9 col18\" >0.0033</td> \n",
       "        <td id=\"T_a72a7e88_58d0_11e8_b012_0242ac110002row9_col19\" class=\"data row9 col19\" >0.00035</td> \n",
       "        <td id=\"T_a72a7e88_58d0_11e8_b012_0242ac110002row9_col20\" class=\"data row9 col20\" >-0.00043</td> \n",
       "    </tr>    <tr> \n",
       "        <th id=\"T_a72a7e88_58d0_11e8_b012_0242ac110002level0_row10\" class=\"row_heading level0 row10\" >DayOfWeek</th> \n",
       "        <td id=\"T_a72a7e88_58d0_11e8_b012_0242ac110002row10_col0\" class=\"data row10 col0\" >-0.0033</td> \n",
       "        <td id=\"T_a72a7e88_58d0_11e8_b012_0242ac110002row10_col1\" class=\"data row10 col1\" >0.014</td> \n",
       "        <td id=\"T_a72a7e88_58d0_11e8_b012_0242ac110002row10_col2\" class=\"data row10 col2\" >0.0052</td> \n",
       "        <td id=\"T_a72a7e88_58d0_11e8_b012_0242ac110002row10_col3\" class=\"data row10 col3\" >0.0052</td> \n",
       "        <td id=\"T_a72a7e88_58d0_11e8_b012_0242ac110002row10_col4\" class=\"data row10 col4\" >0.0074</td> \n",
       "        <td id=\"T_a72a7e88_58d0_11e8_b012_0242ac110002row10_col5\" class=\"data row10 col5\" >0.0053</td> \n",
       "        <td id=\"T_a72a7e88_58d0_11e8_b012_0242ac110002row10_col6\" class=\"data row10 col6\" >0.015</td> \n",
       "        <td id=\"T_a72a7e88_58d0_11e8_b012_0242ac110002row10_col7\" class=\"data row10 col7\" >-0.0063</td> \n",
       "        <td id=\"T_a72a7e88_58d0_11e8_b012_0242ac110002row10_col8\" class=\"data row10 col8\" >-0.0037</td> \n",
       "        <td id=\"T_a72a7e88_58d0_11e8_b012_0242ac110002row10_col9\" class=\"data row10 col9\" >0.0057</td> \n",
       "        <td id=\"T_a72a7e88_58d0_11e8_b012_0242ac110002row10_col10\" class=\"data row10 col10\" >1</td> \n",
       "        <td id=\"T_a72a7e88_58d0_11e8_b012_0242ac110002row10_col11\" class=\"data row10 col11\" >0.017</td> \n",
       "        <td id=\"T_a72a7e88_58d0_11e8_b012_0242ac110002row10_col12\" class=\"data row10 col12\" >-0.0013</td> \n",
       "        <td id=\"T_a72a7e88_58d0_11e8_b012_0242ac110002row10_col13\" class=\"data row10 col13\" >-0.0077</td> \n",
       "        <td id=\"T_a72a7e88_58d0_11e8_b012_0242ac110002row10_col14\" class=\"data row10 col14\" >0.0039</td> \n",
       "        <td id=\"T_a72a7e88_58d0_11e8_b012_0242ac110002row10_col15\" class=\"data row10 col15\" >0.004</td> \n",
       "        <td id=\"T_a72a7e88_58d0_11e8_b012_0242ac110002row10_col16\" class=\"data row10 col16\" >0.0025</td> \n",
       "        <td id=\"T_a72a7e88_58d0_11e8_b012_0242ac110002row10_col17\" class=\"data row10 col17\" >0.0015</td> \n",
       "        <td id=\"T_a72a7e88_58d0_11e8_b012_0242ac110002row10_col18\" class=\"data row10 col18\" >0.0095</td> \n",
       "        <td id=\"T_a72a7e88_58d0_11e8_b012_0242ac110002row10_col19\" class=\"data row10 col19\" >0.0044</td> \n",
       "        <td id=\"T_a72a7e88_58d0_11e8_b012_0242ac110002row10_col20\" class=\"data row10 col20\" >0.0089</td> \n",
       "    </tr>    <tr> \n",
       "        <th id=\"T_a72a7e88_58d0_11e8_b012_0242ac110002level0_row11\" class=\"row_heading level0 row11\" >Distance</th> \n",
       "        <td id=\"T_a72a7e88_58d0_11e8_b012_0242ac110002row11_col0\" class=\"data row11 col0\" >-0.026</td> \n",
       "        <td id=\"T_a72a7e88_58d0_11e8_b012_0242ac110002row11_col1\" class=\"data row11 col1\" >0.93</td> \n",
       "        <td id=\"T_a72a7e88_58d0_11e8_b012_0242ac110002row11_col2\" class=\"data row11 col2\" >0.046</td> \n",
       "        <td id=\"T_a72a7e88_58d0_11e8_b012_0242ac110002row11_col3\" class=\"data row11 col3\" >0.038</td> \n",
       "        <td id=\"T_a72a7e88_58d0_11e8_b012_0242ac110002row11_col4\" class=\"data row11 col4\" >-0.0023</td> \n",
       "        <td id=\"T_a72a7e88_58d0_11e8_b012_0242ac110002row11_col5\" class=\"data row11 col5\" >-0.013</td> \n",
       "        <td id=\"T_a72a7e88_58d0_11e8_b012_0242ac110002row11_col6\" class=\"data row11 col6\" >0.027</td> \n",
       "        <td id=\"T_a72a7e88_58d0_11e8_b012_0242ac110002row11_col7\" class=\"data row11 col7\" >-0.037</td> \n",
       "        <td id=\"T_a72a7e88_58d0_11e8_b012_0242ac110002row11_col8\" class=\"data row11 col8\" >-0.0041</td> \n",
       "        <td id=\"T_a72a7e88_58d0_11e8_b012_0242ac110002row11_col9\" class=\"data row11 col9\" >0.0018</td> \n",
       "        <td id=\"T_a72a7e88_58d0_11e8_b012_0242ac110002row11_col10\" class=\"data row11 col10\" >0.017</td> \n",
       "        <td id=\"T_a72a7e88_58d0_11e8_b012_0242ac110002row11_col11\" class=\"data row11 col11\" >1</td> \n",
       "        <td id=\"T_a72a7e88_58d0_11e8_b012_0242ac110002row11_col12\" class=\"data row11 col12\" >-0.35</td> \n",
       "        <td id=\"T_a72a7e88_58d0_11e8_b012_0242ac110002row11_col13\" class=\"data row11 col13\" >-0.18</td> \n",
       "        <td id=\"T_a72a7e88_58d0_11e8_b012_0242ac110002row11_col14\" class=\"data row11 col14\" >0.065</td> \n",
       "        <td id=\"T_a72a7e88_58d0_11e8_b012_0242ac110002row11_col15\" class=\"data row11 col15\" >0.066</td> \n",
       "        <td id=\"T_a72a7e88_58d0_11e8_b012_0242ac110002row11_col16\" class=\"data row11 col16\" >0.0033</td> \n",
       "        <td id=\"T_a72a7e88_58d0_11e8_b012_0242ac110002row11_col17\" class=\"data row11 col17\" >0.03</td> \n",
       "        <td id=\"T_a72a7e88_58d0_11e8_b012_0242ac110002row11_col18\" class=\"data row11 col18\" >0.0019</td> \n",
       "        <td id=\"T_a72a7e88_58d0_11e8_b012_0242ac110002row11_col19\" class=\"data row11 col19\" >-0.008</td> \n",
       "        <td id=\"T_a72a7e88_58d0_11e8_b012_0242ac110002row11_col20\" class=\"data row11 col20\" >0.016</td> \n",
       "    </tr>    <tr> \n",
       "        <th id=\"T_a72a7e88_58d0_11e8_b012_0242ac110002level0_row12\" class=\"row_heading level0 row12\" >FlightNum</th> \n",
       "        <td id=\"T_a72a7e88_58d0_11e8_b012_0242ac110002row12_col0\" class=\"data row12 col0\" >0.042</td> \n",
       "        <td id=\"T_a72a7e88_58d0_11e8_b012_0242ac110002row12_col1\" class=\"data row12 col1\" >-0.32</td> \n",
       "        <td id=\"T_a72a7e88_58d0_11e8_b012_0242ac110002row12_col2\" class=\"data row12 col2\" >-0.028</td> \n",
       "        <td id=\"T_a72a7e88_58d0_11e8_b012_0242ac110002row12_col3\" class=\"data row12 col3\" >-0.032</td> \n",
       "        <td id=\"T_a72a7e88_58d0_11e8_b012_0242ac110002row12_col4\" class=\"data row12 col4\" >-0.021</td> \n",
       "        <td id=\"T_a72a7e88_58d0_11e8_b012_0242ac110002row12_col5\" class=\"data row12 col5\" >-0.011</td> \n",
       "        <td id=\"T_a72a7e88_58d0_11e8_b012_0242ac110002row12_col6\" class=\"data row12 col6\" >0.009</td> \n",
       "        <td id=\"T_a72a7e88_58d0_11e8_b012_0242ac110002row12_col7\" class=\"data row12 col7\" >0.042</td> \n",
       "        <td id=\"T_a72a7e88_58d0_11e8_b012_0242ac110002row12_col8\" class=\"data row12 col8\" >0.0025</td> \n",
       "        <td id=\"T_a72a7e88_58d0_11e8_b012_0242ac110002row12_col9\" class=\"data row12 col9\" >-0.00068</td> \n",
       "        <td id=\"T_a72a7e88_58d0_11e8_b012_0242ac110002row12_col10\" class=\"data row12 col10\" >-0.0013</td> \n",
       "        <td id=\"T_a72a7e88_58d0_11e8_b012_0242ac110002row12_col11\" class=\"data row12 col11\" >-0.35</td> \n",
       "        <td id=\"T_a72a7e88_58d0_11e8_b012_0242ac110002row12_col12\" class=\"data row12 col12\" >1</td> \n",
       "        <td id=\"T_a72a7e88_58d0_11e8_b012_0242ac110002row12_col13\" class=\"data row12 col13\" >0.13</td> \n",
       "        <td id=\"T_a72a7e88_58d0_11e8_b012_0242ac110002row12_col14\" class=\"data row12 col14\" >-0.024</td> \n",
       "        <td id=\"T_a72a7e88_58d0_11e8_b012_0242ac110002row12_col15\" class=\"data row12 col15\" >-0.024</td> \n",
       "        <td id=\"T_a72a7e88_58d0_11e8_b012_0242ac110002row12_col16\" class=\"data row12 col16\" >-0.00041</td> \n",
       "        <td id=\"T_a72a7e88_58d0_11e8_b012_0242ac110002row12_col17\" class=\"data row12 col17\" >0.0038</td> \n",
       "        <td id=\"T_a72a7e88_58d0_11e8_b012_0242ac110002row12_col18\" class=\"data row12 col18\" >-0.013</td> \n",
       "        <td id=\"T_a72a7e88_58d0_11e8_b012_0242ac110002row12_col19\" class=\"data row12 col19\" >0.031</td> \n",
       "        <td id=\"T_a72a7e88_58d0_11e8_b012_0242ac110002row12_col20\" class=\"data row12 col20\" >0.027</td> \n",
       "    </tr>    <tr> \n",
       "        <th id=\"T_a72a7e88_58d0_11e8_b012_0242ac110002level0_row13\" class=\"row_heading level0 row13\" >UniqueCarrier</th> \n",
       "        <td id=\"T_a72a7e88_58d0_11e8_b012_0242ac110002row13_col0\" class=\"data row13 col0\" >-0.014</td> \n",
       "        <td id=\"T_a72a7e88_58d0_11e8_b012_0242ac110002row13_col1\" class=\"data row13 col1\" >-0.19</td> \n",
       "        <td id=\"T_a72a7e88_58d0_11e8_b012_0242ac110002row13_col2\" class=\"data row13 col2\" >-0.017</td> \n",
       "        <td id=\"T_a72a7e88_58d0_11e8_b012_0242ac110002row13_col3\" class=\"data row13 col3\" >-0.0061</td> \n",
       "        <td id=\"T_a72a7e88_58d0_11e8_b012_0242ac110002row13_col4\" class=\"data row13 col4\" >0.014</td> \n",
       "        <td id=\"T_a72a7e88_58d0_11e8_b012_0242ac110002row13_col5\" class=\"data row13 col5\" >0.011</td> \n",
       "        <td id=\"T_a72a7e88_58d0_11e8_b012_0242ac110002row13_col6\" class=\"data row13 col6\" >-0.005</td> \n",
       "        <td id=\"T_a72a7e88_58d0_11e8_b012_0242ac110002row13_col7\" class=\"data row13 col7\" >-0.0076</td> \n",
       "        <td id=\"T_a72a7e88_58d0_11e8_b012_0242ac110002row13_col8\" class=\"data row13 col8\" >-0.0056</td> \n",
       "        <td id=\"T_a72a7e88_58d0_11e8_b012_0242ac110002row13_col9\" class=\"data row13 col9\" >-0.0011</td> \n",
       "        <td id=\"T_a72a7e88_58d0_11e8_b012_0242ac110002row13_col10\" class=\"data row13 col10\" >-0.0077</td> \n",
       "        <td id=\"T_a72a7e88_58d0_11e8_b012_0242ac110002row13_col11\" class=\"data row13 col11\" >-0.18</td> \n",
       "        <td id=\"T_a72a7e88_58d0_11e8_b012_0242ac110002row13_col12\" class=\"data row13 col12\" >0.13</td> \n",
       "        <td id=\"T_a72a7e88_58d0_11e8_b012_0242ac110002row13_col13\" class=\"data row13 col13\" >1</td> \n",
       "        <td id=\"T_a72a7e88_58d0_11e8_b012_0242ac110002row13_col14\" class=\"data row13 col14\" >0.096</td> \n",
       "        <td id=\"T_a72a7e88_58d0_11e8_b012_0242ac110002row13_col15\" class=\"data row13 col15\" >0.096</td> \n",
       "        <td id=\"T_a72a7e88_58d0_11e8_b012_0242ac110002row13_col16\" class=\"data row13 col16\" >0.0047</td> \n",
       "        <td id=\"T_a72a7e88_58d0_11e8_b012_0242ac110002row13_col17\" class=\"data row13 col17\" >-0.036</td> \n",
       "        <td id=\"T_a72a7e88_58d0_11e8_b012_0242ac110002row13_col18\" class=\"data row13 col18\" >0.0062</td> \n",
       "        <td id=\"T_a72a7e88_58d0_11e8_b012_0242ac110002row13_col19\" class=\"data row13 col19\" >-0.0034</td> \n",
       "        <td id=\"T_a72a7e88_58d0_11e8_b012_0242ac110002row13_col20\" class=\"data row13 col20\" >-0.015</td> \n",
       "    </tr>    <tr> \n",
       "        <th id=\"T_a72a7e88_58d0_11e8_b012_0242ac110002level0_row14\" class=\"row_heading level0 row14\" >Origin</th> \n",
       "        <td id=\"T_a72a7e88_58d0_11e8_b012_0242ac110002row14_col0\" class=\"data row14 col0\" >-0.0061</td> \n",
       "        <td id=\"T_a72a7e88_58d0_11e8_b012_0242ac110002row14_col1\" class=\"data row14 col1\" >0.036</td> \n",
       "        <td id=\"T_a72a7e88_58d0_11e8_b012_0242ac110002row14_col2\" class=\"data row14 col2\" >-0.006</td> \n",
       "        <td id=\"T_a72a7e88_58d0_11e8_b012_0242ac110002row14_col3\" class=\"data row14 col3\" >-0.0028</td> \n",
       "        <td id=\"T_a72a7e88_58d0_11e8_b012_0242ac110002row14_col4\" class=\"data row14 col4\" >-0.032</td> \n",
       "        <td id=\"T_a72a7e88_58d0_11e8_b012_0242ac110002row14_col5\" class=\"data row14 col5\" >-0.036</td> \n",
       "        <td id=\"T_a72a7e88_58d0_11e8_b012_0242ac110002row14_col6\" class=\"data row14 col6\" >-0.0067</td> \n",
       "        <td id=\"T_a72a7e88_58d0_11e8_b012_0242ac110002row14_col7\" class=\"data row14 col7\" >-0.0032</td> \n",
       "        <td id=\"T_a72a7e88_58d0_11e8_b012_0242ac110002row14_col8\" class=\"data row14 col8\" >-0.0082</td> \n",
       "        <td id=\"T_a72a7e88_58d0_11e8_b012_0242ac110002row14_col9\" class=\"data row14 col9\" >7.6e-05</td> \n",
       "        <td id=\"T_a72a7e88_58d0_11e8_b012_0242ac110002row14_col10\" class=\"data row14 col10\" >0.0039</td> \n",
       "        <td id=\"T_a72a7e88_58d0_11e8_b012_0242ac110002row14_col11\" class=\"data row14 col11\" >0.065</td> \n",
       "        <td id=\"T_a72a7e88_58d0_11e8_b012_0242ac110002row14_col12\" class=\"data row14 col12\" >-0.024</td> \n",
       "        <td id=\"T_a72a7e88_58d0_11e8_b012_0242ac110002row14_col13\" class=\"data row14 col13\" >0.096</td> \n",
       "        <td id=\"T_a72a7e88_58d0_11e8_b012_0242ac110002row14_col14\" class=\"data row14 col14\" >1</td> \n",
       "        <td id=\"T_a72a7e88_58d0_11e8_b012_0242ac110002row14_col15\" class=\"data row14 col15\" >0.021</td> \n",
       "        <td id=\"T_a72a7e88_58d0_11e8_b012_0242ac110002row14_col16\" class=\"data row14 col16\" >0.0013</td> \n",
       "        <td id=\"T_a72a7e88_58d0_11e8_b012_0242ac110002row14_col17\" class=\"data row14 col17\" >-0.017</td> \n",
       "        <td id=\"T_a72a7e88_58d0_11e8_b012_0242ac110002row14_col18\" class=\"data row14 col18\" >0.0099</td> \n",
       "        <td id=\"T_a72a7e88_58d0_11e8_b012_0242ac110002row14_col19\" class=\"data row14 col19\" >-0.0091</td> \n",
       "        <td id=\"T_a72a7e88_58d0_11e8_b012_0242ac110002row14_col20\" class=\"data row14 col20\" >-0.012</td> \n",
       "    </tr>    <tr> \n",
       "        <th id=\"T_a72a7e88_58d0_11e8_b012_0242ac110002level0_row15\" class=\"row_heading level0 row15\" >Dest</th> \n",
       "        <td id=\"T_a72a7e88_58d0_11e8_b012_0242ac110002row15_col0\" class=\"data row15 col0\" >-0.0049</td> \n",
       "        <td id=\"T_a72a7e88_58d0_11e8_b012_0242ac110002row15_col1\" class=\"data row15 col1\" >0.065</td> \n",
       "        <td id=\"T_a72a7e88_58d0_11e8_b012_0242ac110002row15_col2\" class=\"data row15 col2\" >0.016</td> \n",
       "        <td id=\"T_a72a7e88_58d0_11e8_b012_0242ac110002row15_col3\" class=\"data row15 col3\" >0.013</td> \n",
       "        <td id=\"T_a72a7e88_58d0_11e8_b012_0242ac110002row15_col4\" class=\"data row15 col4\" >0.028</td> \n",
       "        <td id=\"T_a72a7e88_58d0_11e8_b012_0242ac110002row15_col5\" class=\"data row15 col5\" >0.028</td> \n",
       "        <td id=\"T_a72a7e88_58d0_11e8_b012_0242ac110002row15_col6\" class=\"data row15 col6\" >0.004</td> \n",
       "        <td id=\"T_a72a7e88_58d0_11e8_b012_0242ac110002row15_col7\" class=\"data row15 col7\" >-0.0046</td> \n",
       "        <td id=\"T_a72a7e88_58d0_11e8_b012_0242ac110002row15_col8\" class=\"data row15 col8\" >-0.0083</td> \n",
       "        <td id=\"T_a72a7e88_58d0_11e8_b012_0242ac110002row15_col9\" class=\"data row15 col9\" >8.8e-05</td> \n",
       "        <td id=\"T_a72a7e88_58d0_11e8_b012_0242ac110002row15_col10\" class=\"data row15 col10\" >0.004</td> \n",
       "        <td id=\"T_a72a7e88_58d0_11e8_b012_0242ac110002row15_col11\" class=\"data row15 col11\" >0.066</td> \n",
       "        <td id=\"T_a72a7e88_58d0_11e8_b012_0242ac110002row15_col12\" class=\"data row15 col12\" >-0.024</td> \n",
       "        <td id=\"T_a72a7e88_58d0_11e8_b012_0242ac110002row15_col13\" class=\"data row15 col13\" >0.096</td> \n",
       "        <td id=\"T_a72a7e88_58d0_11e8_b012_0242ac110002row15_col14\" class=\"data row15 col14\" >0.021</td> \n",
       "        <td id=\"T_a72a7e88_58d0_11e8_b012_0242ac110002row15_col15\" class=\"data row15 col15\" >1</td> \n",
       "        <td id=\"T_a72a7e88_58d0_11e8_b012_0242ac110002row15_col16\" class=\"data row15 col16\" >0.0012</td> \n",
       "        <td id=\"T_a72a7e88_58d0_11e8_b012_0242ac110002row15_col17\" class=\"data row15 col17\" >0.00034</td> \n",
       "        <td id=\"T_a72a7e88_58d0_11e8_b012_0242ac110002row15_col18\" class=\"data row15 col18\" >0.0035</td> \n",
       "        <td id=\"T_a72a7e88_58d0_11e8_b012_0242ac110002row15_col19\" class=\"data row15 col19\" >-0.009</td> \n",
       "        <td id=\"T_a72a7e88_58d0_11e8_b012_0242ac110002row15_col20\" class=\"data row15 col20\" >-0.00058</td> \n",
       "    </tr>    <tr> \n",
       "        <th id=\"T_a72a7e88_58d0_11e8_b012_0242ac110002level0_row16\" class=\"row_heading level0 row16\" >SecurityDelay</th> \n",
       "        <td id=\"T_a72a7e88_58d0_11e8_b012_0242ac110002row16_col0\" class=\"data row16 col0\" >0.0021</td> \n",
       "        <td id=\"T_a72a7e88_58d0_11e8_b012_0242ac110002row16_col1\" class=\"data row16 col1\" >0.0052</td> \n",
       "        <td id=\"T_a72a7e88_58d0_11e8_b012_0242ac110002row16_col2\" class=\"data row16 col2\" >0.00055</td> \n",
       "        <td id=\"T_a72a7e88_58d0_11e8_b012_0242ac110002row16_col3\" class=\"data row16 col3\" >0.0023</td> \n",
       "        <td id=\"T_a72a7e88_58d0_11e8_b012_0242ac110002row16_col4\" class=\"data row16 col4\" >0.0033</td> \n",
       "        <td id=\"T_a72a7e88_58d0_11e8_b012_0242ac110002row16_col5\" class=\"data row16 col5\" >-0.00018</td> \n",
       "        <td id=\"T_a72a7e88_58d0_11e8_b012_0242ac110002row16_col6\" class=\"data row16 col6\" >0.025</td> \n",
       "        <td id=\"T_a72a7e88_58d0_11e8_b012_0242ac110002row16_col7\" class=\"data row16 col7\" >-0.0027</td> \n",
       "        <td id=\"T_a72a7e88_58d0_11e8_b012_0242ac110002row16_col8\" class=\"data row16 col8\" >-0.0032</td> \n",
       "        <td id=\"T_a72a7e88_58d0_11e8_b012_0242ac110002row16_col9\" class=\"data row16 col9\" >-0.00019</td> \n",
       "        <td id=\"T_a72a7e88_58d0_11e8_b012_0242ac110002row16_col10\" class=\"data row16 col10\" >0.0025</td> \n",
       "        <td id=\"T_a72a7e88_58d0_11e8_b012_0242ac110002row16_col11\" class=\"data row16 col11\" >0.0033</td> \n",
       "        <td id=\"T_a72a7e88_58d0_11e8_b012_0242ac110002row16_col12\" class=\"data row16 col12\" >-0.00041</td> \n",
       "        <td id=\"T_a72a7e88_58d0_11e8_b012_0242ac110002row16_col13\" class=\"data row16 col13\" >0.0047</td> \n",
       "        <td id=\"T_a72a7e88_58d0_11e8_b012_0242ac110002row16_col14\" class=\"data row16 col14\" >0.0013</td> \n",
       "        <td id=\"T_a72a7e88_58d0_11e8_b012_0242ac110002row16_col15\" class=\"data row16 col15\" >0.0012</td> \n",
       "        <td id=\"T_a72a7e88_58d0_11e8_b012_0242ac110002row16_col16\" class=\"data row16 col16\" >1</td> \n",
       "        <td id=\"T_a72a7e88_58d0_11e8_b012_0242ac110002row16_col17\" class=\"data row16 col17\" >0.0027</td> \n",
       "        <td id=\"T_a72a7e88_58d0_11e8_b012_0242ac110002row16_col18\" class=\"data row16 col18\" >0.0024</td> \n",
       "        <td id=\"T_a72a7e88_58d0_11e8_b012_0242ac110002row16_col19\" class=\"data row16 col19\" >-0.0012</td> \n",
       "        <td id=\"T_a72a7e88_58d0_11e8_b012_0242ac110002row16_col20\" class=\"data row16 col20\" >-0.0023</td> \n",
       "    </tr>    <tr> \n",
       "        <th id=\"T_a72a7e88_58d0_11e8_b012_0242ac110002level0_row17\" class=\"row_heading level0 row17\" >NASDelay</th> \n",
       "        <td id=\"T_a72a7e88_58d0_11e8_b012_0242ac110002row17_col0\" class=\"data row17 col0\" >0.066</td> \n",
       "        <td id=\"T_a72a7e88_58d0_11e8_b012_0242ac110002row17_col1\" class=\"data row17 col1\" >0.15</td> \n",
       "        <td id=\"T_a72a7e88_58d0_11e8_b012_0242ac110002row17_col2\" class=\"data row17 col2\" >0.052</td> \n",
       "        <td id=\"T_a72a7e88_58d0_11e8_b012_0242ac110002row17_col3\" class=\"data row17 col3\" >0.067</td> \n",
       "        <td id=\"T_a72a7e88_58d0_11e8_b012_0242ac110002row17_col4\" class=\"data row17 col4\" >0.081</td> \n",
       "        <td id=\"T_a72a7e88_58d0_11e8_b012_0242ac110002row17_col5\" class=\"data row17 col5\" >0.037</td> \n",
       "        <td id=\"T_a72a7e88_58d0_11e8_b012_0242ac110002row17_col6\" class=\"data row17 col6\" >0.36</td> \n",
       "        <td id=\"T_a72a7e88_58d0_11e8_b012_0242ac110002row17_col7\" class=\"data row17 col7\" >-0.032</td> \n",
       "        <td id=\"T_a72a7e88_58d0_11e8_b012_0242ac110002row17_col8\" class=\"data row17 col8\" >-0.015</td> \n",
       "        <td id=\"T_a72a7e88_58d0_11e8_b012_0242ac110002row17_col9\" class=\"data row17 col9\" >0.001</td> \n",
       "        <td id=\"T_a72a7e88_58d0_11e8_b012_0242ac110002row17_col10\" class=\"data row17 col10\" >0.0015</td> \n",
       "        <td id=\"T_a72a7e88_58d0_11e8_b012_0242ac110002row17_col11\" class=\"data row17 col11\" >0.03</td> \n",
       "        <td id=\"T_a72a7e88_58d0_11e8_b012_0242ac110002row17_col12\" class=\"data row17 col12\" >0.0038</td> \n",
       "        <td id=\"T_a72a7e88_58d0_11e8_b012_0242ac110002row17_col13\" class=\"data row17 col13\" >-0.036</td> \n",
       "        <td id=\"T_a72a7e88_58d0_11e8_b012_0242ac110002row17_col14\" class=\"data row17 col14\" >-0.017</td> \n",
       "        <td id=\"T_a72a7e88_58d0_11e8_b012_0242ac110002row17_col15\" class=\"data row17 col15\" >0.00034</td> \n",
       "        <td id=\"T_a72a7e88_58d0_11e8_b012_0242ac110002row17_col16\" class=\"data row17 col16\" >0.0027</td> \n",
       "        <td id=\"T_a72a7e88_58d0_11e8_b012_0242ac110002row17_col17\" class=\"data row17 col17\" >1</td> \n",
       "        <td id=\"T_a72a7e88_58d0_11e8_b012_0242ac110002row17_col18\" class=\"data row17 col18\" >0.062</td> \n",
       "        <td id=\"T_a72a7e88_58d0_11e8_b012_0242ac110002row17_col19\" class=\"data row17 col19\" >0.047</td> \n",
       "        <td id=\"T_a72a7e88_58d0_11e8_b012_0242ac110002row17_col20\" class=\"data row17 col20\" >0.022</td> \n",
       "    </tr>    <tr> \n",
       "        <th id=\"T_a72a7e88_58d0_11e8_b012_0242ac110002level0_row18\" class=\"row_heading level0 row18\" >LateAircraftDelay</th> \n",
       "        <td id=\"T_a72a7e88_58d0_11e8_b012_0242ac110002row18_col0\" class=\"data row18 col0\" >0.084</td> \n",
       "        <td id=\"T_a72a7e88_58d0_11e8_b012_0242ac110002row18_col1\" class=\"data row18 col1\" >0.021</td> \n",
       "        <td id=\"T_a72a7e88_58d0_11e8_b012_0242ac110002row18_col2\" class=\"data row18 col2\" >0.12</td> \n",
       "        <td id=\"T_a72a7e88_58d0_11e8_b012_0242ac110002row18_col3\" class=\"data row18 col3\" >0.053</td> \n",
       "        <td id=\"T_a72a7e88_58d0_11e8_b012_0242ac110002row18_col4\" class=\"data row18 col4\" >0.17</td> \n",
       "        <td id=\"T_a72a7e88_58d0_11e8_b012_0242ac110002row18_col5\" class=\"data row18 col5\" >0.13</td> \n",
       "        <td id=\"T_a72a7e88_58d0_11e8_b012_0242ac110002row18_col6\" class=\"data row18 col6\" >0.64</td> \n",
       "        <td id=\"T_a72a7e88_58d0_11e8_b012_0242ac110002row18_col7\" class=\"data row18 col7\" >-0.032</td> \n",
       "        <td id=\"T_a72a7e88_58d0_11e8_b012_0242ac110002row18_col8\" class=\"data row18 col8\" >-0.019</td> \n",
       "        <td id=\"T_a72a7e88_58d0_11e8_b012_0242ac110002row18_col9\" class=\"data row18 col9\" >0.0033</td> \n",
       "        <td id=\"T_a72a7e88_58d0_11e8_b012_0242ac110002row18_col10\" class=\"data row18 col10\" >0.0095</td> \n",
       "        <td id=\"T_a72a7e88_58d0_11e8_b012_0242ac110002row18_col11\" class=\"data row18 col11\" >0.0019</td> \n",
       "        <td id=\"T_a72a7e88_58d0_11e8_b012_0242ac110002row18_col12\" class=\"data row18 col12\" >-0.013</td> \n",
       "        <td id=\"T_a72a7e88_58d0_11e8_b012_0242ac110002row18_col13\" class=\"data row18 col13\" >0.0062</td> \n",
       "        <td id=\"T_a72a7e88_58d0_11e8_b012_0242ac110002row18_col14\" class=\"data row18 col14\" >0.0099</td> \n",
       "        <td id=\"T_a72a7e88_58d0_11e8_b012_0242ac110002row18_col15\" class=\"data row18 col15\" >0.0035</td> \n",
       "        <td id=\"T_a72a7e88_58d0_11e8_b012_0242ac110002row18_col16\" class=\"data row18 col16\" >0.0024</td> \n",
       "        <td id=\"T_a72a7e88_58d0_11e8_b012_0242ac110002row18_col17\" class=\"data row18 col17\" >0.062</td> \n",
       "        <td id=\"T_a72a7e88_58d0_11e8_b012_0242ac110002row18_col18\" class=\"data row18 col18\" >1</td> \n",
       "        <td id=\"T_a72a7e88_58d0_11e8_b012_0242ac110002row18_col19\" class=\"data row18 col19\" >0.026</td> \n",
       "        <td id=\"T_a72a7e88_58d0_11e8_b012_0242ac110002row18_col20\" class=\"data row18 col20\" >0.032</td> \n",
       "    </tr>    <tr> \n",
       "        <th id=\"T_a72a7e88_58d0_11e8_b012_0242ac110002level0_row19\" class=\"row_heading level0 row19\" >WeatherDelay</th> \n",
       "        <td id=\"T_a72a7e88_58d0_11e8_b012_0242ac110002row19_col0\" class=\"data row19 col0\" >0.043</td> \n",
       "        <td id=\"T_a72a7e88_58d0_11e8_b012_0242ac110002row19_col1\" class=\"data row19 col1\" >0.013</td> \n",
       "        <td id=\"T_a72a7e88_58d0_11e8_b012_0242ac110002row19_col2\" class=\"data row19 col2\" >0.021</td> \n",
       "        <td id=\"T_a72a7e88_58d0_11e8_b012_0242ac110002row19_col3\" class=\"data row19 col3\" >0.0087</td> \n",
       "        <td id=\"T_a72a7e88_58d0_11e8_b012_0242ac110002row19_col4\" class=\"data row19 col4\" >0.037</td> \n",
       "        <td id=\"T_a72a7e88_58d0_11e8_b012_0242ac110002row19_col5\" class=\"data row19 col5\" >0.021</td> \n",
       "        <td id=\"T_a72a7e88_58d0_11e8_b012_0242ac110002row19_col6\" class=\"data row19 col6\" >0.28</td> \n",
       "        <td id=\"T_a72a7e88_58d0_11e8_b012_0242ac110002row19_col7\" class=\"data row19 col7\" >-0.01</td> \n",
       "        <td id=\"T_a72a7e88_58d0_11e8_b012_0242ac110002row19_col8\" class=\"data row19 col8\" >-0.0038</td> \n",
       "        <td id=\"T_a72a7e88_58d0_11e8_b012_0242ac110002row19_col9\" class=\"data row19 col9\" >0.00035</td> \n",
       "        <td id=\"T_a72a7e88_58d0_11e8_b012_0242ac110002row19_col10\" class=\"data row19 col10\" >0.0044</td> \n",
       "        <td id=\"T_a72a7e88_58d0_11e8_b012_0242ac110002row19_col11\" class=\"data row19 col11\" >-0.008</td> \n",
       "        <td id=\"T_a72a7e88_58d0_11e8_b012_0242ac110002row19_col12\" class=\"data row19 col12\" >0.031</td> \n",
       "        <td id=\"T_a72a7e88_58d0_11e8_b012_0242ac110002row19_col13\" class=\"data row19 col13\" >-0.0034</td> \n",
       "        <td id=\"T_a72a7e88_58d0_11e8_b012_0242ac110002row19_col14\" class=\"data row19 col14\" >-0.0091</td> \n",
       "        <td id=\"T_a72a7e88_58d0_11e8_b012_0242ac110002row19_col15\" class=\"data row19 col15\" >-0.009</td> \n",
       "        <td id=\"T_a72a7e88_58d0_11e8_b012_0242ac110002row19_col16\" class=\"data row19 col16\" >-0.0012</td> \n",
       "        <td id=\"T_a72a7e88_58d0_11e8_b012_0242ac110002row19_col17\" class=\"data row19 col17\" >0.047</td> \n",
       "        <td id=\"T_a72a7e88_58d0_11e8_b012_0242ac110002row19_col18\" class=\"data row19 col18\" >0.026</td> \n",
       "        <td id=\"T_a72a7e88_58d0_11e8_b012_0242ac110002row19_col19\" class=\"data row19 col19\" >1</td> \n",
       "        <td id=\"T_a72a7e88_58d0_11e8_b012_0242ac110002row19_col20\" class=\"data row19 col20\" >-0.0061</td> \n",
       "    </tr>    <tr> \n",
       "        <th id=\"T_a72a7e88_58d0_11e8_b012_0242ac110002level0_row20\" class=\"row_heading level0 row20\" >CarrierDelay</th> \n",
       "        <td id=\"T_a72a7e88_58d0_11e8_b012_0242ac110002row20_col0\" class=\"data row20 col0\" >0.083</td> \n",
       "        <td id=\"T_a72a7e88_58d0_11e8_b012_0242ac110002row20_col1\" class=\"data row20 col1\" >0.031</td> \n",
       "        <td id=\"T_a72a7e88_58d0_11e8_b012_0242ac110002row20_col2\" class=\"data row20 col2\" >0.02</td> \n",
       "        <td id=\"T_a72a7e88_58d0_11e8_b012_0242ac110002row20_col3\" class=\"data row20 col3\" >0.018</td> \n",
       "        <td id=\"T_a72a7e88_58d0_11e8_b012_0242ac110002row20_col4\" class=\"data row20 col4\" >0.067</td> \n",
       "        <td id=\"T_a72a7e88_58d0_11e8_b012_0242ac110002row20_col5\" class=\"data row20 col5\" >0.022</td> \n",
       "        <td id=\"T_a72a7e88_58d0_11e8_b012_0242ac110002row20_col6\" class=\"data row20 col6\" >0.6</td> \n",
       "        <td id=\"T_a72a7e88_58d0_11e8_b012_0242ac110002row20_col7\" class=\"data row20 col7\" >-0.025</td> \n",
       "        <td id=\"T_a72a7e88_58d0_11e8_b012_0242ac110002row20_col8\" class=\"data row20 col8\" >-0.016</td> \n",
       "        <td id=\"T_a72a7e88_58d0_11e8_b012_0242ac110002row20_col9\" class=\"data row20 col9\" >-0.00043</td> \n",
       "        <td id=\"T_a72a7e88_58d0_11e8_b012_0242ac110002row20_col10\" class=\"data row20 col10\" >0.0089</td> \n",
       "        <td id=\"T_a72a7e88_58d0_11e8_b012_0242ac110002row20_col11\" class=\"data row20 col11\" >0.016</td> \n",
       "        <td id=\"T_a72a7e88_58d0_11e8_b012_0242ac110002row20_col12\" class=\"data row20 col12\" >0.027</td> \n",
       "        <td id=\"T_a72a7e88_58d0_11e8_b012_0242ac110002row20_col13\" class=\"data row20 col13\" >-0.015</td> \n",
       "        <td id=\"T_a72a7e88_58d0_11e8_b012_0242ac110002row20_col14\" class=\"data row20 col14\" >-0.012</td> \n",
       "        <td id=\"T_a72a7e88_58d0_11e8_b012_0242ac110002row20_col15\" class=\"data row20 col15\" >-0.00058</td> \n",
       "        <td id=\"T_a72a7e88_58d0_11e8_b012_0242ac110002row20_col16\" class=\"data row20 col16\" >-0.0023</td> \n",
       "        <td id=\"T_a72a7e88_58d0_11e8_b012_0242ac110002row20_col17\" class=\"data row20 col17\" >0.022</td> \n",
       "        <td id=\"T_a72a7e88_58d0_11e8_b012_0242ac110002row20_col18\" class=\"data row20 col18\" >0.032</td> \n",
       "        <td id=\"T_a72a7e88_58d0_11e8_b012_0242ac110002row20_col19\" class=\"data row20 col19\" >-0.0061</td> \n",
       "        <td id=\"T_a72a7e88_58d0_11e8_b012_0242ac110002row20_col20\" class=\"data row20 col20\" >1</td> \n",
       "    </tr></tbody> \n",
       "</table> "
      ],
      "text/plain": [
       "<pandas.io.formats.style.Styler at 0x7f4fc0bd5e80>"
      ]
     },
     "execution_count": 22,
     "metadata": {
      "tags": []
     },
     "output_type": "execute_result"
    }
   ],
   "source": [
    "cmap = cmap=sns.diverging_palette(5, 250, as_cmap=True)\n",
    "corr=data.corr()\n",
    "def magnify():\n",
    "    return [dict(selector=\"th\",\n",
    "                 props=[(\"font-size\", \"7pt\")]),\n",
    "            dict(selector=\"td\",\n",
    "                 props=[('padding', \"0em 0em\")]),\n",
    "            dict(selector=\"th:hover\",\n",
    "                 props=[(\"font-size\", \"12pt\")]),\n",
    "            dict(selector=\"tr:hover td:hover\",\n",
    "                 props=[('max-width', '200px'),\n",
    "                        ('font-size', '12pt')])\n",
    "]\n",
    "\n",
    "corr.style.background_gradient(cmap, axis=1)\\\n",
    "    .set_properties(**{'max-width': '80px', 'font-size': '10pt'})\\\n",
    "    .set_caption(\"Hover to magify\")\\\n",
    "    .set_precision(2)\\\n",
    "    .set_table_styles(magnify())"
   ]
  },
  {
   "cell_type": "markdown",
   "metadata": {
    "colab_type": "text",
    "id": "P510-lsD3Y32"
   },
   "source": [
    "-------------------------------------------------"
   ]
  },
  {
   "cell_type": "markdown",
   "metadata": {
    "colab_type": "text",
    "id": "WDPnEr5B3zjj"
   },
   "source": [
    "# Applying Models"
   ]
  },
  {
   "cell_type": "code",
   "execution_count": 0,
   "metadata": {
    "colab": {
     "autoexec": {
      "startup": false,
      "wait_interval": 0
     }
    },
    "colab_type": "code",
    "id": "tCRaYl1Y4aZb"
   },
   "outputs": [],
   "source": [
    "from sklearn.pipeline import Pipeline\n",
    "from sklearn.metrics import classification_report\n",
    "from sklearn.linear_model import LogisticRegression\n",
    "from sklearn import tree\n",
    "from sklearn.feature_selection import SelectKBest, chi2, RFE\n",
    "from sklearn.ensemble import RandomForestClassifier\n",
    "from sklearn.model_selection import GridSearchCV\n",
    "from sklearn import svm\n",
    "from sklearn.model_selection import train_test_split\n",
    "from sklearn.naive_bayes import MultinomialNB"
   ]
  },
  {
   "cell_type": "code",
   "execution_count": 0,
   "metadata": {
    "colab": {
     "autoexec": {
      "startup": false,
      "wait_interval": 0
     }
    },
    "colab_type": "code",
    "id": "_vIpn4Y1dJXf"
   },
   "outputs": [],
   "source": [
    "feature_columns = ['ArrDelay','ActualElapsedTime','CRSArrTime','ArrTime','DepTime','CRSDepTime','DepDelay','Cancelled','Month','DayofMonth','DayOfWeek','Distance','FlightNum','UniqueCarrier','Origin','Dest','SecurityDelay','NASDelay','LateAircraftDelay','WeatherDelay','CarrierDelay']\n",
    "X = data[feature_columns]\n",
    "y = data.Late_or_AintLate"
   ]
  },
  {
   "cell_type": "code",
   "execution_count": 0,
   "metadata": {
    "colab": {
     "autoexec": {
      "startup": false,
      "wait_interval": 0
     }
    },
    "colab_type": "code",
    "id": "AHNGg7ID6Akg"
   },
   "outputs": [],
   "source": [
    "X_train, X_test, y_train, y_test = train_test_split(X, y, random_state = 42)"
   ]
  },
  {
   "cell_type": "code",
   "execution_count": 17,
   "metadata": {
    "colab": {
     "autoexec": {
      "startup": false,
      "wait_interval": 0
     },
     "base_uri": "https://localhost:8080/",
     "height": 34
    },
    "colab_type": "code",
    "executionInfo": {
     "elapsed": 694,
     "status": "ok",
     "timestamp": 1526461984819,
     "user": {
      "displayName": "Trinh Phuc",
      "photoUrl": "https://lh3.googleusercontent.com/a/default-user=s128",
      "userId": "117763058204935570065"
     },
     "user_tz": -420
    },
    "id": "3GwHbPcW6es8",
    "outputId": "c5612246-4909-4806-e9db-139f7bb0f9c0"
   },
   "outputs": [
    {
     "name": "stdout",
     "output_type": "stream",
     "text": [
      "(5257296, 21) (5257296,)\n"
     ]
    }
   ],
   "source": [
    "print(X_train.shape,y_train.shape)"
   ]
  },
  {
   "cell_type": "code",
   "execution_count": 18,
   "metadata": {
    "colab": {
     "autoexec": {
      "startup": false,
      "wait_interval": 0
     },
     "base_uri": "https://localhost:8080/",
     "height": 34
    },
    "colab_type": "code",
    "executionInfo": {
     "elapsed": 721,
     "status": "ok",
     "timestamp": 1526461985664,
     "user": {
      "displayName": "Trinh Phuc",
      "photoUrl": "https://lh3.googleusercontent.com/a/default-user=s128",
      "userId": "117763058204935570065"
     },
     "user_tz": -420
    },
    "id": "OF1dvq2Z6qkI",
    "outputId": "65472904-7a9e-4aea-f868-d69348bd3e66"
   },
   "outputs": [
    {
     "name": "stdout",
     "output_type": "stream",
     "text": [
      "(1752432, 21) (1752432,)\n"
     ]
    }
   ],
   "source": [
    "print(X_test.shape,y_test.shape)"
   ]
  },
  {
   "cell_type": "markdown",
   "metadata": {
    "colab_type": "text",
    "id": "S_RtBdbXZOOB"
   },
   "source": [
    "# Scale Data by using MinMaxScaler"
   ]
  },
  {
   "cell_type": "code",
   "execution_count": 0,
   "metadata": {
    "colab": {
     "autoexec": {
      "startup": false,
      "wait_interval": 0
     }
    },
    "colab_type": "code",
    "id": "llEHNr_wMCNP"
   },
   "outputs": [],
   "source": [
    "from sklearn.preprocessing import MinMaxScaler\n",
    "scaler = MinMaxScaler()\n",
    "X_scaled = scaler.fit_transform(X_train)\n",
    "X_test_scaled = scaler.fit_transform(X_test)"
   ]
  },
  {
   "cell_type": "markdown",
   "metadata": {
    "colab_type": "text",
    "id": "6Ch9tdVzZUo1"
   },
   "source": [
    "# Naive-Bayes - SelectKBest"
   ]
  },
  {
   "cell_type": "code",
   "execution_count": 20,
   "metadata": {
    "colab": {
     "autoexec": {
      "startup": false,
      "wait_interval": 0
     },
     "base_uri": "https://localhost:8080/",
     "height": 71
    },
    "colab_type": "code",
    "executionInfo": {
     "elapsed": 4159,
     "status": "ok",
     "timestamp": 1526462000138,
     "user": {
      "displayName": "Trinh Phuc",
      "photoUrl": "https://lh3.googleusercontent.com/a/default-user=s128",
      "userId": "117763058204935570065"
     },
     "user_tz": -420
    },
    "id": "VpNIYVrPw7pX",
    "outputId": "b1ab266b-1082-4128-d177-fdfe89eebb88"
   },
   "outputs": [
    {
     "data": {
      "text/plain": [
       "Pipeline(memory=None,\n",
       "     steps=[('k_best', SelectKBest(k='all', score_func=<function chi2 at 0x7fd195417e18>)), ('nb_clf', MultinomialNB(alpha=1.0, class_prior=None, fit_prior=True))])"
      ]
     },
     "execution_count": 20,
     "metadata": {
      "tags": []
     },
     "output_type": "execute_result"
    }
   ],
   "source": [
    "clf = MultinomialNB()\n",
    "pp_naivebayes_clf = Pipeline([('k_best', SelectKBest(score_func=chi2, k='all')),('nb_clf', clf)])\n",
    "pp_naivebayes_clf.fit(X_scaled, y_train)"
   ]
  },
  {
   "cell_type": "code",
   "execution_count": 21,
   "metadata": {
    "colab": {
     "autoexec": {
      "startup": false,
      "wait_interval": 0
     },
     "base_uri": "https://localhost:8080/",
     "height": 136
    },
    "colab_type": "code",
    "executionInfo": {
     "elapsed": 1430,
     "status": "ok",
     "timestamp": 1526462066566,
     "user": {
      "displayName": "Trinh Phuc",
      "photoUrl": "https://lh3.googleusercontent.com/a/default-user=s128",
      "userId": "117763058204935570065"
     },
     "user_tz": -420
    },
    "id": "RBmnxUEF_yEk",
    "outputId": "853d37da-de62-4b5f-d47b-11077ca6dfb7"
   },
   "outputs": [
    {
     "name": "stdout",
     "output_type": "stream",
     "text": [
      "             precision    recall  f1-score   support\n",
      "\n",
      "          0       0.87      1.00      0.93   1488291\n",
      "          1       1.00      0.13      0.23    264141\n",
      "\n",
      "avg / total       0.89      0.87      0.82   1752432\n",
      "\n"
     ]
    }
   ],
   "source": [
    "y_pred = pp_naivebayes_clf.predict(X_test_scaled)\n",
    "print(classification_report(y_test, y_pred))"
   ]
  },
  {
   "cell_type": "markdown",
   "metadata": {
    "colab_type": "text",
    "id": "fq0Ie_2ra2Iw"
   },
   "source": [
    "<strong>Comment: </strong> In general, because of class imbalance, "
   ]
  },
  {
   "cell_type": "markdown",
   "metadata": {
    "colab_type": "text",
    "id": "L1QSaiyEZewL"
   },
   "source": [
    "# Naive-Bayes - RFE"
   ]
  },
  {
   "cell_type": "code",
   "execution_count": 22,
   "metadata": {
    "colab": {
     "autoexec": {
      "startup": false,
      "wait_interval": 0
     },
     "base_uri": "https://localhost:8080/",
     "height": 136
    },
    "colab_type": "code",
    "executionInfo": {
     "elapsed": 4395,
     "status": "ok",
     "timestamp": 1526462167038,
     "user": {
      "displayName": "Trinh Phuc",
      "photoUrl": "https://lh3.googleusercontent.com/a/default-user=s128",
      "userId": "117763058204935570065"
     },
     "user_tz": -420
    },
    "id": "Fuu9T7PZw7r7",
    "outputId": "f6470bda-7dbc-4b75-cf69-b61b728e64eb"
   },
   "outputs": [
    {
     "name": "stdout",
     "output_type": "stream",
     "text": [
      "             precision    recall  f1-score   support\n",
      "\n",
      "          0       0.87      1.00      0.93   1488291\n",
      "          1       1.00      0.13      0.23    264141\n",
      "\n",
      "avg / total       0.89      0.87      0.82   1752432\n",
      "\n"
     ]
    }
   ],
   "source": [
    "pp_naivebayes_clf = Pipeline([('rfe', RFE(clf, 200)),\n",
    "                           ('nb_clf', clf)])\n",
    "pp_naivebayes_clf.fit(X_scaled, y_train)\n",
    "y_pred = pp_naivebayes_clf.predict(X_test_scaled)\n",
    "print(classification_report(y_test, y_pred))"
   ]
  },
  {
   "cell_type": "markdown",
   "metadata": {
    "colab_type": "text",
    "id": "3uJx6RrVZjCH"
   },
   "source": [
    "<strong>Comment: </strong> In general, because of class imbalance, "
   ]
  },
  {
   "cell_type": "markdown",
   "metadata": {
    "colab_type": "text",
    "id": "XZY8aDUbZhtY"
   },
   "source": [
    "# Logistic Regression - SelectKBest"
   ]
  },
  {
   "cell_type": "code",
   "execution_count": 24,
   "metadata": {
    "colab": {
     "autoexec": {
      "startup": false,
      "wait_interval": 0
     },
     "base_uri": "https://localhost:8080/",
     "height": 136
    },
    "colab_type": "code",
    "executionInfo": {
     "elapsed": 87079,
     "status": "ok",
     "timestamp": 1526462387640,
     "user": {
      "displayName": "Trinh Phuc",
      "photoUrl": "https://lh3.googleusercontent.com/a/default-user=s128",
      "userId": "117763058204935570065"
     },
     "user_tz": -420
    },
    "id": "8xky1AnlPJUF",
    "outputId": "d10c9e1a-fed9-44d1-c335-a4fc0d1bf891"
   },
   "outputs": [
    {
     "name": "stdout",
     "output_type": "stream",
     "text": [
      "             precision    recall  f1-score   support\n",
      "\n",
      "          0       0.87      1.00      0.93   1488291\n",
      "          1       1.00      0.15      0.27    264141\n",
      "\n",
      "avg / total       0.89      0.87      0.83   1752432\n",
      "\n"
     ]
    }
   ],
   "source": [
    "pp_log_clf = Pipeline([('k_best', SelectKBest(score_func=chi2,k='all')),\n",
    "                           ('log_clf', LogisticRegression())])\n",
    "pp_log_clf.fit(X_scaled, y_train)\n",
    "y_pred = pp_log_clf.predict(X_test_scaled)\n",
    "print(classification_report(y_test, y_pred))"
   ]
  },
  {
   "cell_type": "markdown",
   "metadata": {
    "colab_type": "text",
    "id": "eWXHFVO3bT1l"
   },
   "source": [
    "<strong>Comment: </strong> In general, because of class imbalance, "
   ]
  },
  {
   "cell_type": "markdown",
   "metadata": {
    "colab_type": "text",
    "id": "uTWRvIEAZ8-S"
   },
   "source": [
    "# Logistic Regression - RFE"
   ]
  },
  {
   "cell_type": "code",
   "execution_count": 25,
   "metadata": {
    "colab": {
     "autoexec": {
      "startup": false,
      "wait_interval": 0
     },
     "base_uri": "https://localhost:8080/",
     "height": 136
    },
    "colab_type": "code",
    "executionInfo": {
     "elapsed": 168206,
     "status": "ok",
     "timestamp": 1526462625539,
     "user": {
      "displayName": "Trinh Phuc",
      "photoUrl": "https://lh3.googleusercontent.com/a/default-user=s128",
      "userId": "117763058204935570065"
     },
     "user_tz": -420
    },
    "id": "u89_qeYbPJXG",
    "outputId": "9d02f06c-3123-4c05-96ab-1f9499698ecf"
   },
   "outputs": [
    {
     "name": "stdout",
     "output_type": "stream",
     "text": [
      "             precision    recall  f1-score   support\n",
      "\n",
      "          0       0.87      1.00      0.93   1488291\n",
      "          1       1.00      0.15      0.27    264141\n",
      "\n",
      "avg / total       0.89      0.87      0.83   1752432\n",
      "\n"
     ]
    }
   ],
   "source": [
    "pp_log_clf = Pipeline([('rfe', RFE(LogisticRegression(), 200)),\n",
    "                           ('log_clf', LogisticRegression())])\n",
    "pp_log_clf.fit(X_scaled, y_train)\n",
    "y_pred = pp_log_clf.predict(X_test_scaled)\n",
    "print(classification_report(y_test, y_pred))"
   ]
  },
  {
   "cell_type": "markdown",
   "metadata": {
    "colab_type": "text",
    "id": "Q5yIaTlYbVNl"
   },
   "source": [
    "<strong>Comment: </strong> In general, because of class imbalance, "
   ]
  },
  {
   "cell_type": "markdown",
   "metadata": {
    "colab_type": "text",
    "id": "VyrW6tjRZnhD"
   },
   "source": [
    "# Decision Tree - SelectKBest"
   ]
  },
  {
   "cell_type": "code",
   "execution_count": 26,
   "metadata": {
    "colab": {
     "autoexec": {
      "startup": false,
      "wait_interval": 0
     },
     "base_uri": "https://localhost:8080/",
     "height": 136
    },
    "colab_type": "code",
    "executionInfo": {
     "elapsed": 13533,
     "status": "ok",
     "timestamp": 1526462702612,
     "user": {
      "displayName": "Trinh Phuc",
      "photoUrl": "https://lh3.googleusercontent.com/a/default-user=s128",
      "userId": "117763058204935570065"
     },
     "user_tz": -420
    },
    "id": "GcsId1c8Q4zp",
    "outputId": "dfe624a6-f7f1-474e-b52e-52af729c579e"
   },
   "outputs": [
    {
     "name": "stdout",
     "output_type": "stream",
     "text": [
      "             precision    recall  f1-score   support\n",
      "\n",
      "          0       0.87      1.00      0.93   1488291\n",
      "          1       1.00      0.15      0.26    264141\n",
      "\n",
      "avg / total       0.89      0.87      0.83   1752432\n",
      "\n"
     ]
    }
   ],
   "source": [
    "pp_tree_clf = Pipeline([('k_best', SelectKBest(score_func=chi2, k='all')),\n",
    "                           ('tree_clf', tree.DecisionTreeClassifier(max_depth=4))])\n",
    "pp_tree_clf.fit(X_scaled, y_train)\n",
    "y_pred = pp_tree_clf.predict(X_test_scaled)\n",
    "print(classification_report(y_test, y_pred))"
   ]
  },
  {
   "cell_type": "markdown",
   "metadata": {
    "colab_type": "text",
    "id": "wClpEgojbX59"
   },
   "source": [
    "<strong>Comment: </strong> In general, because of class imbalance, "
   ]
  },
  {
   "cell_type": "markdown",
   "metadata": {
    "colab_type": "text",
    "id": "t3y4qMPbaAQ2"
   },
   "source": [
    "# Decision Tree - RFE"
   ]
  },
  {
   "cell_type": "code",
   "execution_count": 27,
   "metadata": {
    "colab": {
     "autoexec": {
      "startup": false,
      "wait_interval": 0
     },
     "base_uri": "https://localhost:8080/",
     "height": 136
    },
    "colab_type": "code",
    "executionInfo": {
     "elapsed": 95422,
     "status": "ok",
     "timestamp": 1526462882605,
     "user": {
      "displayName": "Trinh Phuc",
      "photoUrl": "https://lh3.googleusercontent.com/a/default-user=s128",
      "userId": "117763058204935570065"
     },
     "user_tz": -420
    },
    "id": "kgbinkSUQ44w",
    "outputId": "35523eb6-678a-43f7-83c2-3314ba99f6e7"
   },
   "outputs": [
    {
     "name": "stdout",
     "output_type": "stream",
     "text": [
      "             precision    recall  f1-score   support\n",
      "\n",
      "          0       0.87      1.00      0.93   1488291\n",
      "          1       1.00      0.15      0.26    264141\n",
      "\n",
      "avg / total       0.89      0.87      0.83   1752432\n",
      "\n"
     ]
    }
   ],
   "source": [
    "pp_tree_clf = Pipeline([('rfe', RFE(LogisticRegression(), 200)),\n",
    "                           ('log_clf', tree.DecisionTreeClassifier(max_depth=4))])\n",
    "pp_tree_clf.fit(X_scaled, y_train)\n",
    "y_pred = pp_tree_clf.predict(X_test_scaled)\n",
    "print(classification_report(y_test, y_pred))"
   ]
  },
  {
   "cell_type": "markdown",
   "metadata": {
    "colab_type": "text",
    "id": "EXbUHRI5bZec"
   },
   "source": [
    "<strong>Comment: </strong> In general, because of class imbalance, "
   ]
  },
  {
   "cell_type": "markdown",
   "metadata": {
    "colab_type": "text",
    "id": "29jYMMLLaD8l"
   },
   "source": [
    "# Random Forest- SelectKBest"
   ]
  },
  {
   "cell_type": "code",
   "execution_count": 28,
   "metadata": {
    "colab": {
     "autoexec": {
      "startup": false,
      "wait_interval": 0
     },
     "base_uri": "https://localhost:8080/",
     "height": 136
    },
    "colab_type": "code",
    "executionInfo": {
     "elapsed": 112400,
     "status": "ok",
     "timestamp": 1526463009962,
     "user": {
      "displayName": "Trinh Phuc",
      "photoUrl": "https://lh3.googleusercontent.com/a/default-user=s128",
      "userId": "117763058204935570065"
     },
     "user_tz": -420
    },
    "id": "dPwyYFbYRMRT",
    "outputId": "fd523e28-764f-4276-9462-ce28f196fe44"
   },
   "outputs": [
    {
     "name": "stdout",
     "output_type": "stream",
     "text": [
      "             precision    recall  f1-score   support\n",
      "\n",
      "          0       0.87      1.00      0.93   1488291\n",
      "          1       1.00      0.15      0.27    264141\n",
      "\n",
      "avg / total       0.89      0.87      0.83   1752432\n",
      "\n"
     ]
    }
   ],
   "source": [
    "pp_ranforest_clf = Pipeline([('k_best', SelectKBest(score_func=chi2, k='all')),\n",
    "                           ('forest_clf',RandomForestClassifier(max_depth=4))])\n",
    "pp_ranforest_clf.fit(X_scaled, y_train)\n",
    "y_pred = pp_ranforest_clf.predict(X_test_scaled)\n",
    "print(classification_report(y_test, y_pred))"
   ]
  },
  {
   "cell_type": "markdown",
   "metadata": {
    "colab_type": "text",
    "id": "MwNSgde2ba4T"
   },
   "source": [
    "<strong>Comment: </strong> In general, because of class imbalance, "
   ]
  },
  {
   "cell_type": "markdown",
   "metadata": {
    "colab_type": "text",
    "id": "t5EGi99EaHK1"
   },
   "source": [
    "# Random Forest- RFE"
   ]
  },
  {
   "cell_type": "code",
   "execution_count": 29,
   "metadata": {
    "colab": {
     "autoexec": {
      "startup": false,
      "wait_interval": 0
     },
     "base_uri": "https://localhost:8080/",
     "height": 136
    },
    "colab_type": "code",
    "executionInfo": {
     "elapsed": 2336882,
     "status": "ok",
     "timestamp": 1526465350399,
     "user": {
      "displayName": "Trinh Phuc",
      "photoUrl": "https://lh3.googleusercontent.com/a/default-user=s128",
      "userId": "117763058204935570065"
     },
     "user_tz": -420
    },
    "id": "KQ30ODEERghQ",
    "outputId": "d8052317-5b0d-4872-ef74-77ec64db40e4"
   },
   "outputs": [
    {
     "name": "stdout",
     "output_type": "stream",
     "text": [
      "             precision    recall  f1-score   support\n",
      "\n",
      "          0       0.87      1.00      0.93   1488291\n",
      "          1       1.00      0.15      0.26    264141\n",
      "\n",
      "avg / total       0.89      0.87      0.83   1752432\n",
      "\n"
     ]
    }
   ],
   "source": [
    "pp_ranforest_clf = Pipeline([('rfe', RFE(LogisticRegression(), 200)),\n",
    "                           ('forest_clf',RandomForestClassifier(n_estimators=200, max_depth=4))])\n",
    "pp_ranforest_clf.fit(X_scaled, y_train)\n",
    "y_pred = pp_ranforest_clf.predict(X_test_scaled)\n",
    "print(classification_report(y_test, y_pred))"
   ]
  },
  {
   "cell_type": "markdown",
   "metadata": {
    "colab_type": "text",
    "id": "JjCrgNY5aKKu"
   },
   "source": [
    "<strong>Comment: </strong> In general, because of class imbalance, "
   ]
  },
  {
   "cell_type": "markdown",
   "metadata": {
    "colab_type": "text",
    "id": "KG4v5ooPaKtG"
   },
   "source": [
    "------------------------------------------"
   ]
  },
  {
   "cell_type": "code",
   "execution_count": 29,
   "metadata": {
    "colab": {
     "autoexec": {
      "startup": false,
      "wait_interval": 0
     },
     "base_uri": "https://localhost:8080/",
     "height": 347
    },
    "colab_type": "code",
    "executionInfo": {
     "elapsed": 111692,
     "status": "ok",
     "timestamp": 1526461032937,
     "user": {
      "displayName": "Trinh Phuc",
      "photoUrl": "https://lh3.googleusercontent.com/a/default-user=s128",
      "userId": "117763058204935570065"
     },
     "user_tz": -420
    },
    "id": "7h00S5ZTpFVt",
    "outputId": "1b703154-1745-4170-e4bd-2ed775fca9e4"
   },
   "outputs": [
    {
     "data": {
      "text/plain": [
       "Late_or_AintLate\n",
       "aint late    5953631\n",
       "late         1056097\n",
       "dtype: int64"
      ]
     },
     "execution_count": 29,
     "metadata": {
      "tags": []
     },
     "output_type": "execute_result"
    },
    {
     "data": {
      "image/png": "[encoded data removed]",
      "text/plain": [
       "<matplotlib.figure.Figure at 0x7f72244d0a20>"
      ]
     },
     "metadata": {
      "tags": []
     },
     "output_type": "display_data"
    }
   ],
   "source": [
    "sns.countplot(x=\"Late_or_AintLate\", data=data, palette=\"Paired\");\n",
    "data.groupby('Late_or_AintLate').size()"
   ]
  },
  {
   "cell_type": "markdown",
   "metadata": {
    "colab_type": "text",
    "id": "xkte0gzeXsSY"
   },
   "source": [
    "# Class Balanced"
   ]
  },
  {
   "cell_type": "code",
   "execution_count": 0,
   "metadata": {
    "colab": {
     "autoexec": {
      "startup": false,
      "wait_interval": 0
     }
    },
    "colab_type": "code",
    "id": "DdtrcAH5ceZQ"
   },
   "outputs": [],
   "source": [
    "from sklearn.pipeline import Pipeline\n",
    "from sklearn.metrics import classification_report\n",
    "from sklearn.linear_model import LogisticRegression\n",
    "from sklearn import tree\n",
    "from sklearn.feature_selection import SelectKBest, chi2, RFE\n",
    "from sklearn.ensemble import RandomForestClassifier\n",
    "from sklearn.model_selection import GridSearchCV\n",
    "from sklearn import svm\n",
    "from sklearn.model_selection import train_test_split\n",
    "from sklearn.naive_bayes import MultinomialNB"
   ]
  },
  {
   "cell_type": "code",
   "execution_count": 19,
   "metadata": {
    "colab": {
     "autoexec": {
      "startup": false,
      "wait_interval": 0
     },
     "base_uri": "https://localhost:8080/",
     "height": 68
    },
    "colab_type": "code",
    "executionInfo": {
     "elapsed": 746,
     "status": "ok",
     "timestamp": 1526465948856,
     "user": {
      "displayName": "Trinh Phuc",
      "photoUrl": "https://lh3.googleusercontent.com/a/default-user=s128",
      "userId": "117763058204935570065"
     },
     "user_tz": -420
    },
    "id": "a0sstVGmdc4x",
    "outputId": "b04c6648-a825-4582-bea5-0aeff2bf25e8"
   },
   "outputs": [
    {
     "data": {
      "text/plain": [
       "0    5953631\n",
       "1    1056097\n",
       "Name: Late_or_AintLate, dtype: int64"
      ]
     },
     "execution_count": 19,
     "metadata": {
      "tags": []
     },
     "output_type": "execute_result"
    }
   ],
   "source": [
    "data.Late_or_AintLate.value_counts()"
   ]
  },
  {
   "cell_type": "code",
   "execution_count": 0,
   "metadata": {
    "colab": {
     "autoexec": {
      "startup": false,
      "wait_interval": 0
     }
    },
    "colab_type": "code",
    "id": "CIKF7YZ8Q42v"
   },
   "outputs": [],
   "source": [
    "overall_pos = data[data['Late_or_AintLate']==0].sample(n=1056097,random_state=100)\n",
    "overall_nev = data[data['Late_or_AintLate']==1]\n",
    "new_data = overall_pos.append(overall_nev)"
   ]
  },
  {
   "cell_type": "code",
   "execution_count": 23,
   "metadata": {
    "colab": {
     "autoexec": {
      "startup": false,
      "wait_interval": 0
     },
     "base_uri": "https://localhost:8080/",
     "height": 347
    },
    "colab_type": "code",
    "executionInfo": {
     "elapsed": 26499,
     "status": "ok",
     "timestamp": 1526466189634,
     "user": {
      "displayName": "Trinh Phuc",
      "photoUrl": "https://lh3.googleusercontent.com/a/default-user=s128",
      "userId": "117763058204935570065"
     },
     "user_tz": -420
    },
    "id": "ckNjVq0mRgkD",
    "outputId": "7f14187f-7f04-4e22-84ec-acdc1e5c8432"
   },
   "outputs": [
    {
     "data": {
      "text/plain": [
       "Late_or_AintLate\n",
       "0    1056097\n",
       "1    1056097\n",
       "dtype: int64"
      ]
     },
     "execution_count": 23,
     "metadata": {
      "tags": []
     },
     "output_type": "execute_result"
    },
    {
     "data": {
      "image/png": "[encoded data removed]",
      "text/plain": [
       "<matplotlib.figure.Figure at 0x7f6fb724ff98>"
      ]
     },
     "metadata": {
      "tags": []
     },
     "output_type": "display_data"
    }
   ],
   "source": [
    "sns.countplot(x=\"Late_or_AintLate\", data=new_data, palette=\"Paired\");\n",
    "new_data.groupby('Late_or_AintLate').size()"
   ]
  },
  {
   "cell_type": "code",
   "execution_count": 24,
   "metadata": {
    "colab": {
     "autoexec": {
      "startup": false,
      "wait_interval": 0
     },
     "base_uri": "https://localhost:8080/",
     "height": 265
    },
    "colab_type": "code",
    "executionInfo": {
     "elapsed": 811,
     "status": "ok",
     "timestamp": 1526466196191,
     "user": {
      "displayName": "Trinh Phuc",
      "photoUrl": "https://lh3.googleusercontent.com/a/default-user=s128",
      "userId": "117763058204935570065"
     },
     "user_tz": -420
    },
    "id": "Yxf72X8UX6iS",
    "outputId": "ceb3d4cc-0096-4ad0-8644-6c4f62c62cc5"
   },
   "outputs": [
    {
     "data": {
      "image/png": "[encoded data removed]",
      "text/plain": [
       "<matplotlib.figure.Figure at 0x7f6fb719cac8>"
      ]
     },
     "metadata": {
      "tags": []
     },
     "output_type": "display_data"
    }
   ],
   "source": [
    "count={'float64':0,'int64':0,'object':0}\n",
    "for i, j in new_data.dtypes.items():\n",
    "  count[str(j)]=count[str(j)]+1\n",
    "plt.bar(range(len(count)), list(count.values()), align='center', color='red')\n",
    "plt.xticks(range(len(count)), list(count.keys()))\n",
    "plt.show()"
   ]
  },
  {
   "cell_type": "code",
   "execution_count": 0,
   "metadata": {
    "colab": {
     "autoexec": {
      "startup": false,
      "wait_interval": 0
     }
    },
    "colab_type": "code",
    "id": "6O4ISzM9YAN2"
   },
   "outputs": [],
   "source": [
    "feature_columns = ['ArrDelay','ActualElapsedTime','CRSArrTime','ArrTime','DepTime','CRSDepTime','DepDelay','Cancelled','Month','DayofMonth','DayOfWeek','Distance','FlightNum','UniqueCarrier','Origin','Dest','SecurityDelay','NASDelay','LateAircraftDelay','WeatherDelay','CarrierDelay']\n",
    "X = new_data[feature_columns]\n",
    "y = new_data.Late_or_AintLate"
   ]
  },
  {
   "cell_type": "code",
   "execution_count": 0,
   "metadata": {
    "colab": {
     "autoexec": {
      "startup": false,
      "wait_interval": 0
     }
    },
    "colab_type": "code",
    "id": "dr9uLGz5YATE"
   },
   "outputs": [],
   "source": [
    "X_train, X_test, y_train, y_test = train_test_split(X, y, random_state = 42)"
   ]
  },
  {
   "cell_type": "markdown",
   "metadata": {
    "colab_type": "text",
    "id": "1OCnZWO7gKc8"
   },
   "source": [
    "# Scale Data by using MinMaxScaler"
   ]
  },
  {
   "cell_type": "code",
   "execution_count": 0,
   "metadata": {
    "colab": {
     "autoexec": {
      "startup": false,
      "wait_interval": 0
     }
    },
    "colab_type": "code",
    "id": "qN5QbZ3EYAQt"
   },
   "outputs": [],
   "source": [
    "from sklearn.preprocessing import MinMaxScaler\n",
    "scaler = MinMaxScaler()\n",
    "X_scaled = scaler.fit_transform(X_train)\n",
    "X_test_scaled = scaler.fit_transform(X_test)"
   ]
  },
  {
   "cell_type": "markdown",
   "metadata": {
    "colab_type": "text",
    "id": "6jBV9C7ggM_q"
   },
   "source": [
    "# Naive-Bayes - SelectKBest"
   ]
  },
  {
   "cell_type": "code",
   "execution_count": 28,
   "metadata": {
    "colab": {
     "autoexec": {
      "startup": false,
      "wait_interval": 0
     },
     "base_uri": "https://localhost:8080/",
     "height": 136
    },
    "colab_type": "code",
    "executionInfo": {
     "elapsed": 2200,
     "status": "ok",
     "timestamp": 1526466228087,
     "user": {
      "displayName": "Trinh Phuc",
      "photoUrl": "https://lh3.googleusercontent.com/a/default-user=s128",
      "userId": "117763058204935570065"
     },
     "user_tz": -420
    },
    "id": "-ZgtGGb0YPcF",
    "outputId": "2285f0ba-ce3a-4264-8fbf-b4636598faf6"
   },
   "outputs": [
    {
     "name": "stdout",
     "output_type": "stream",
     "text": [
      "             precision    recall  f1-score   support\n",
      "\n",
      "          0       0.65      1.00      0.79    264084\n",
      "          1       1.00      0.46      0.63    263965\n",
      "\n",
      "avg / total       0.82      0.73      0.71    528049\n",
      "\n"
     ]
    }
   ],
   "source": [
    "clf = MultinomialNB()\n",
    "pp_naivebayes_clf = Pipeline([('k_best', SelectKBest(score_func=chi2, k='all')),('nb_clf', clf)])\n",
    "pp_naivebayes_clf.fit(X_scaled, y_train)\n",
    "y_pred = pp_naivebayes_clf.predict(X_test_scaled)\n",
    "print(classification_report(y_test, y_pred))"
   ]
  },
  {
   "cell_type": "markdown",
   "metadata": {
    "colab_type": "text",
    "id": "3UoENqZ8gQCm"
   },
   "source": [
    "<strong>Comment: </strong> "
   ]
  },
  {
   "cell_type": "markdown",
   "metadata": {
    "colab_type": "text",
    "id": "o74-uz_lgQaq"
   },
   "source": [
    "# Naive-Bayes - RFE"
   ]
  },
  {
   "cell_type": "code",
   "execution_count": 29,
   "metadata": {
    "colab": {
     "autoexec": {
      "startup": false,
      "wait_interval": 0
     },
     "base_uri": "https://localhost:8080/",
     "height": 136
    },
    "colab_type": "code",
    "executionInfo": {
     "elapsed": 1957,
     "status": "ok",
     "timestamp": 1526466234774,
     "user": {
      "displayName": "Trinh Phuc",
      "photoUrl": "https://lh3.googleusercontent.com/a/default-user=s128",
      "userId": "117763058204935570065"
     },
     "user_tz": -420
    },
    "id": "dNrnVRCHYPe3",
    "outputId": "caa12d41-50b6-469e-d132-7604c4cccbff"
   },
   "outputs": [
    {
     "name": "stdout",
     "output_type": "stream",
     "text": [
      "             precision    recall  f1-score   support\n",
      "\n",
      "          0       0.65      1.00      0.79    264084\n",
      "          1       1.00      0.46      0.63    263965\n",
      "\n",
      "avg / total       0.82      0.73      0.71    528049\n",
      "\n"
     ]
    }
   ],
   "source": [
    "pp_naivebayes_clf = Pipeline([('rfe', RFE(clf, 200)),\n",
    "                           ('nb_clf', clf)])\n",
    "pp_naivebayes_clf.fit(X_scaled, y_train)\n",
    "y_pred = pp_naivebayes_clf.predict(X_test_scaled)\n",
    "print(classification_report(y_test, y_pred))"
   ]
  },
  {
   "cell_type": "markdown",
   "metadata": {
    "colab_type": "text",
    "id": "1SKMtSCkgTqe"
   },
   "source": [
    "<strong>Comment: </strong> "
   ]
  },
  {
   "cell_type": "markdown",
   "metadata": {
    "colab_type": "text",
    "id": "9wRaLh9kgTwV"
   },
   "source": [
    "# Logistic Regression - SelectKBest"
   ]
  },
  {
   "cell_type": "code",
   "execution_count": 30,
   "metadata": {
    "colab": {
     "autoexec": {
      "startup": false,
      "wait_interval": 0
     },
     "base_uri": "https://localhost:8080/",
     "height": 136
    },
    "colab_type": "code",
    "executionInfo": {
     "elapsed": 41535,
     "status": "ok",
     "timestamp": 1526466298839,
     "user": {
      "displayName": "Trinh Phuc",
      "photoUrl": "https://lh3.googleusercontent.com/a/default-user=s128",
      "userId": "117763058204935570065"
     },
     "user_tz": -420
    },
    "id": "-v7sNv5KeojI",
    "outputId": "6a4c0d42-2fb9-4b8f-8c29-397931aed620"
   },
   "outputs": [
    {
     "name": "stdout",
     "output_type": "stream",
     "text": [
      "             precision    recall  f1-score   support\n",
      "\n",
      "          0       0.72      1.00      0.84    264084\n",
      "          1       1.00      0.62      0.77    263965\n",
      "\n",
      "avg / total       0.86      0.81      0.80    528049\n",
      "\n"
     ]
    }
   ],
   "source": [
    "pp_log_clf = Pipeline([('k_best', SelectKBest(score_func=chi2,k='all')),\n",
    "                           ('log_clf', LogisticRegression())])\n",
    "pp_log_clf.fit(X_scaled, y_train)\n",
    "y_pred = pp_log_clf.predict(X_test_scaled)\n",
    "print(classification_report(y_test, y_pred))"
   ]
  },
  {
   "cell_type": "markdown",
   "metadata": {
    "colab_type": "text",
    "id": "JWF8I5eUrwrz"
   },
   "source": [
    "<strong>Comment: </strong> "
   ]
  },
  {
   "cell_type": "markdown",
   "metadata": {
    "colab_type": "text",
    "id": "oiyUtnK5gaUF"
   },
   "source": [
    "# Logistic Regression - RFE"
   ]
  },
  {
   "cell_type": "code",
   "execution_count": 31,
   "metadata": {
    "colab": {
     "autoexec": {
      "startup": false,
      "wait_interval": 0
     },
     "base_uri": "https://localhost:8080/",
     "height": 136
    },
    "colab_type": "code",
    "executionInfo": {
     "elapsed": 80930,
     "status": "ok",
     "timestamp": 1526466407903,
     "user": {
      "displayName": "Trinh Phuc",
      "photoUrl": "https://lh3.googleusercontent.com/a/default-user=s128",
      "userId": "117763058204935570065"
     },
     "user_tz": -420
    },
    "id": "wzvRyUMJeomJ",
    "outputId": "f5b6a35d-2d7e-4e33-ffc8-76210c93b982"
   },
   "outputs": [
    {
     "name": "stdout",
     "output_type": "stream",
     "text": [
      "             precision    recall  f1-score   support\n",
      "\n",
      "          0       0.72      1.00      0.84    264084\n",
      "          1       1.00      0.62      0.77    263965\n",
      "\n",
      "avg / total       0.86      0.81      0.80    528049\n",
      "\n"
     ]
    }
   ],
   "source": [
    "pp_log_clf = Pipeline([('rfe', RFE(LogisticRegression(), 200)),\n",
    "                           ('log_clf', LogisticRegression())])\n",
    "pp_log_clf.fit(X_scaled, y_train)\n",
    "y_pred = pp_log_clf.predict(X_test_scaled)\n",
    "print(classification_report(y_test, y_pred))"
   ]
  },
  {
   "cell_type": "markdown",
   "metadata": {
    "colab_type": "text",
    "id": "uDpyDG2Xge6g"
   },
   "source": [
    "<strong>Comment: </strong> "
   ]
  },
  {
   "cell_type": "markdown",
   "metadata": {
    "colab_type": "text",
    "id": "Ns6_7DVXge94"
   },
   "source": [
    "# Decision Treee - SelectkBest"
   ]
  },
  {
   "cell_type": "code",
   "execution_count": 32,
   "metadata": {
    "colab": {
     "autoexec": {
      "startup": false,
      "wait_interval": 0
     },
     "base_uri": "https://localhost:8080/",
     "height": 136
    },
    "colab_type": "code",
    "executionInfo": {
     "elapsed": 4355,
     "status": "ok",
     "timestamp": 1526466415306,
     "user": {
      "displayName": "Trinh Phuc",
      "photoUrl": "https://lh3.googleusercontent.com/a/default-user=s128",
      "userId": "117763058204935570065"
     },
     "user_tz": -420
    },
    "id": "20S3WTKjeog7",
    "outputId": "8f8f94b9-1948-4a67-92b4-7b5f5d0c1b85"
   },
   "outputs": [
    {
     "name": "stdout",
     "output_type": "stream",
     "text": [
      "             precision    recall  f1-score   support\n",
      "\n",
      "          0       0.63      1.00      0.77    264084\n",
      "          1       1.00      0.40      0.58    263965\n",
      "\n",
      "avg / total       0.81      0.70      0.67    528049\n",
      "\n"
     ]
    }
   ],
   "source": [
    "pp_tree_clf = Pipeline([('k_best', SelectKBest(score_func=chi2, k='all')),\n",
    "                           ('tree_clf', tree.DecisionTreeClassifier(max_depth=4))])\n",
    "pp_tree_clf.fit(X_scaled, y_train)\n",
    "y_pred = pp_tree_clf.predict(X_test_scaled)\n",
    "print(classification_report(y_test, y_pred))"
   ]
  },
  {
   "cell_type": "markdown",
   "metadata": {
    "colab_type": "text",
    "id": "TD-nKKAwrzj0"
   },
   "source": [
    "<strong>Comment: </strong> "
   ]
  },
  {
   "cell_type": "markdown",
   "metadata": {
    "colab_type": "text",
    "id": "wn-ddNVZgf44"
   },
   "source": [
    "# Decision Treee - SelectkBest"
   ]
  },
  {
   "cell_type": "code",
   "execution_count": 33,
   "metadata": {
    "colab": {
     "autoexec": {
      "startup": false,
      "wait_interval": 0
     },
     "base_uri": "https://localhost:8080/",
     "height": 136
    },
    "colab_type": "code",
    "executionInfo": {
     "elapsed": 43728,
     "status": "ok",
     "timestamp": 1526466467038,
     "user": {
      "displayName": "Trinh Phuc",
      "photoUrl": "https://lh3.googleusercontent.com/a/default-user=s128",
      "userId": "117763058204935570065"
     },
     "user_tz": -420
    },
    "id": "j6DHZt1Ieoef",
    "outputId": "a4b57848-c548-4cb8-f998-23e7f4af1be6"
   },
   "outputs": [
    {
     "name": "stdout",
     "output_type": "stream",
     "text": [
      "             precision    recall  f1-score   support\n",
      "\n",
      "          0       0.63      1.00      0.77    264084\n",
      "          1       1.00      0.40      0.58    263965\n",
      "\n",
      "avg / total       0.81      0.70      0.67    528049\n",
      "\n"
     ]
    }
   ],
   "source": [
    "pp_tree_clf = Pipeline([('rfe', RFE(LogisticRegression(), 200)),\n",
    "                           ('log_clf', tree.DecisionTreeClassifier(max_depth=4))])\n",
    "pp_tree_clf.fit(X_scaled, y_train)\n",
    "y_pred = pp_tree_clf.predict(X_test_scaled)\n",
    "print(classification_report(y_test, y_pred))"
   ]
  },
  {
   "cell_type": "markdown",
   "metadata": {
    "colab_type": "text",
    "id": "KfFukslor0qY"
   },
   "source": [
    "<strong>Comment: </strong> "
   ]
  },
  {
   "cell_type": "markdown",
   "metadata": {
    "colab_type": "text",
    "id": "n05eYPTCqKSX"
   },
   "source": [
    "# Random Forest- SelectKBest"
   ]
  },
  {
   "cell_type": "code",
   "execution_count": 34,
   "metadata": {
    "colab": {
     "autoexec": {
      "startup": false,
      "wait_interval": 0
     },
     "base_uri": "https://localhost:8080/",
     "height": 136
    },
    "colab_type": "code",
    "executionInfo": {
     "elapsed": 27719,
     "status": "ok",
     "timestamp": 1526466500419,
     "user": {
      "displayName": "Trinh Phuc",
      "photoUrl": "https://lh3.googleusercontent.com/a/default-user=s128",
      "userId": "117763058204935570065"
     },
     "user_tz": -420
    },
    "id": "DtrjeQubfIkI",
    "outputId": "865e2c02-76e7-4963-920f-e258203af32e"
   },
   "outputs": [
    {
     "name": "stdout",
     "output_type": "stream",
     "text": [
      "             precision    recall  f1-score   support\n",
      "\n",
      "          0       0.63      1.00      0.78    264084\n",
      "          1       1.00      0.42      0.60    263965\n",
      "\n",
      "avg / total       0.82      0.71      0.69    528049\n",
      "\n"
     ]
    }
   ],
   "source": [
    "pp_ranforest_clf = Pipeline([('k_best', SelectKBest(score_func=chi2, k='all')),\n",
    "                           ('forest_clf',RandomForestClassifier(max_depth=4))])\n",
    "pp_ranforest_clf.fit(X_scaled, y_train)\n",
    "y_pred = pp_ranforest_clf.predict(X_test_scaled)\n",
    "print(classification_report(y_test, y_pred))"
   ]
  },
  {
   "cell_type": "markdown",
   "metadata": {
    "colab_type": "text",
    "id": "dNvbkxq6r2jL"
   },
   "source": [
    "<strong>Comment: </strong> "
   ]
  },
  {
   "cell_type": "markdown",
   "metadata": {
    "colab_type": "text",
    "id": "WUef7a1Jgnys"
   },
   "source": [
    "# Random Forest- RFE"
   ]
  },
  {
   "cell_type": "code",
   "execution_count": 0,
   "metadata": {
    "colab": {
     "autoexec": {
      "startup": false,
      "wait_interval": 0
     }
    },
    "colab_type": "code",
    "id": "SxVotNrifIgk"
   },
   "outputs": [],
   "source": [
    "pp_ranforest_clf = Pipeline([('rfe', RFE(LogisticRegression(), 200)),\n",
    "                           ('forest_clf',RandomForestClassifier(n_estimators=200, max_depth=4))])\n",
    "pp_ranforest_clf.fit(X_scaled, y_train)\n",
    "y_pred = pp_ranforest_clf.predict(X_test_scaled)\n",
    "print(classification_report(y_test, y_pred))"
   ]
  },
  {
   "cell_type": "markdown",
   "metadata": {},
   "source": [
    "Vì không kịp thời gian nên em sẽ hoàn chỉnh bài trước ngày review ."
   ]
  },
  {
   "cell_type": "markdown",
   "metadata": {
    "colab_type": "text",
    "id": "rq-hg5hlr4-4"
   },
   "source": [
    "<strong>Comment: </strong> "
   ]
  }
 ],
 "metadata": {
  "accelerator": "GPU",
  "colab": {
   "collapsed_sections": [],
   "default_view": {},
   "name": "Airline Arrivals 2008 Assignment.ipynb",
   "provenance": [],
   "version": "0.3.2",
   "views": {}
  },
  "kernelspec": {
   "display_name": "Python 3",
   "language": "python",
   "name": "python3"
  },
  "language_info": {
   "codemirror_mode": {
    "name": "ipython",
    "version": 3
   },
   "file_extension": ".py",
   "mimetype": "text/x-python",
   "name": "python",
   "nbconvert_exporter": "python",
   "pygments_lexer": "ipython3",
   "version": "3.6.5"
  }
 },
 "nbformat": 4,
 "nbformat_minor": 1
}
