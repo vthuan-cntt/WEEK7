{
 "cells": [
  {
   "cell_type": "code",
   "execution_count": 1,
   "metadata": {
    "colab": {
     "base_uri": "https://localhost:8080/"
    },
    "id": "uNUv3prfDDbY",
    "outputId": "f8b533c5-73df-496f-d572-c82875c88a5b"
   },
   "outputs": [
    {
     "name": "stdout",
     "output_type": "stream",
     "text": [
      "Mounted at /content/drive\n"
     ]
    }
   ],
   "source": [
    "from google.colab import drive\n",
    "drive.mount('/content/drive')"
   ]
  },
  {
   "cell_type": "code",
   "execution_count": 1,
   "metadata": {
    "id": "Ts9eSA7FLpiX"
   },
   "outputs": [],
   "source": [
    "import pandas as pd\n",
    "import os, glob\n",
    "import seaborn as sns\n",
    "import matplotlib.pyplot as plt\n",
    "import numpy as np\n",
    "from sklearn import preprocessing\n",
    "from sklearn.preprocessing import LabelEncoder\n",
    "from sklearn.ensemble import GradientBoostingClassifier, RandomForestClassifier\n",
    "from sklearn.naive_bayes import GaussianNB\n",
    "from sklearn.pipeline import Pipeline\n",
    "from sklearn.feature_selection import SelectKBest, chi2, RFE\n",
    "from sklearn.metrics import confusion_matrix\n",
    "from sklearn.metrics import plot_confusion_matrix"
   ]
  },
  {
   "cell_type": "code",
   "execution_count": 2,
   "metadata": {
    "colab": {
     "base_uri": "https://localhost:8080/"
    },
    "id": "jbho2jN4JkTu",
    "outputId": "d3a1a21e-5677-448e-c6d5-fdfbced15791"
   },
   "outputs": [
    {
     "name": "stdout",
     "output_type": "stream",
     "text": [
      "(7009728, 29)\n"
     ]
    }
   ],
   "source": [
    "df = pd.read_csv(\"2008.csv\")\n",
    "print(df.shape)"
   ]
  },
  {
   "cell_type": "markdown",
   "metadata": {
    "id": "9tQoJIINMN0O"
   },
   "source": [
    "Dữ liệu gồm 7 triệu bản ghi và 29 thuộc tính.\n",
    "Một số bản ghi dữ liệu:"
   ]
  },
  {
   "cell_type": "code",
   "execution_count": null,
   "metadata": {
    "colab": {
     "base_uri": "https://localhost:8080/",
     "height": 224
    },
    "id": "AKBC1yY9LzHL",
    "outputId": "99f55f73-1fc6-4741-a042-4cb2f1c516d6"
   },
   "outputs": [
    {
     "data": {
      "text/html": [
       "<div>\n",
       "<style scoped>\n",
       "    .dataframe tbody tr th:only-of-type {\n",
       "        vertical-align: middle;\n",
       "    }\n",
       "\n",
       "    .dataframe tbody tr th {\n",
       "        vertical-align: top;\n",
       "    }\n",
       "\n",
       "    .dataframe thead th {\n",
       "        text-align: right;\n",
       "    }\n",
       "</style>\n",
       "<table border=\"1\" class=\"dataframe\">\n",
       "  <thead>\n",
       "    <tr style=\"text-align: right;\">\n",
       "      <th></th>\n",
       "      <th>Year</th>\n",
       "      <th>Month</th>\n",
       "      <th>DayofMonth</th>\n",
       "      <th>DayOfWeek</th>\n",
       "      <th>DepTime</th>\n",
       "      <th>CRSDepTime</th>\n",
       "      <th>ArrTime</th>\n",
       "      <th>CRSArrTime</th>\n",
       "      <th>UniqueCarrier</th>\n",
       "      <th>FlightNum</th>\n",
       "      <th>TailNum</th>\n",
       "      <th>ActualElapsedTime</th>\n",
       "      <th>CRSElapsedTime</th>\n",
       "      <th>AirTime</th>\n",
       "      <th>ArrDelay</th>\n",
       "      <th>DepDelay</th>\n",
       "      <th>Origin</th>\n",
       "      <th>Dest</th>\n",
       "      <th>Distance</th>\n",
       "      <th>TaxiIn</th>\n",
       "      <th>TaxiOut</th>\n",
       "      <th>Cancelled</th>\n",
       "      <th>CancellationCode</th>\n",
       "      <th>Diverted</th>\n",
       "      <th>CarrierDelay</th>\n",
       "      <th>WeatherDelay</th>\n",
       "      <th>NASDelay</th>\n",
       "      <th>SecurityDelay</th>\n",
       "      <th>LateAircraftDelay</th>\n",
       "    </tr>\n",
       "  </thead>\n",
       "  <tbody>\n",
       "    <tr>\n",
       "      <th>0</th>\n",
       "      <td>2008</td>\n",
       "      <td>1</td>\n",
       "      <td>3</td>\n",
       "      <td>4</td>\n",
       "      <td>2003.0</td>\n",
       "      <td>1955</td>\n",
       "      <td>2211.0</td>\n",
       "      <td>2225</td>\n",
       "      <td>WN</td>\n",
       "      <td>335</td>\n",
       "      <td>N712SW</td>\n",
       "      <td>128.0</td>\n",
       "      <td>150.0</td>\n",
       "      <td>116.0</td>\n",
       "      <td>-14.0</td>\n",
       "      <td>8.0</td>\n",
       "      <td>IAD</td>\n",
       "      <td>TPA</td>\n",
       "      <td>810</td>\n",
       "      <td>4.0</td>\n",
       "      <td>8.0</td>\n",
       "      <td>0</td>\n",
       "      <td>NaN</td>\n",
       "      <td>0</td>\n",
       "      <td>NaN</td>\n",
       "      <td>NaN</td>\n",
       "      <td>NaN</td>\n",
       "      <td>NaN</td>\n",
       "      <td>NaN</td>\n",
       "    </tr>\n",
       "    <tr>\n",
       "      <th>1</th>\n",
       "      <td>2008</td>\n",
       "      <td>1</td>\n",
       "      <td>3</td>\n",
       "      <td>4</td>\n",
       "      <td>754.0</td>\n",
       "      <td>735</td>\n",
       "      <td>1002.0</td>\n",
       "      <td>1000</td>\n",
       "      <td>WN</td>\n",
       "      <td>3231</td>\n",
       "      <td>N772SW</td>\n",
       "      <td>128.0</td>\n",
       "      <td>145.0</td>\n",
       "      <td>113.0</td>\n",
       "      <td>2.0</td>\n",
       "      <td>19.0</td>\n",
       "      <td>IAD</td>\n",
       "      <td>TPA</td>\n",
       "      <td>810</td>\n",
       "      <td>5.0</td>\n",
       "      <td>10.0</td>\n",
       "      <td>0</td>\n",
       "      <td>NaN</td>\n",
       "      <td>0</td>\n",
       "      <td>NaN</td>\n",
       "      <td>NaN</td>\n",
       "      <td>NaN</td>\n",
       "      <td>NaN</td>\n",
       "      <td>NaN</td>\n",
       "    </tr>\n",
       "    <tr>\n",
       "      <th>2</th>\n",
       "      <td>2008</td>\n",
       "      <td>1</td>\n",
       "      <td>3</td>\n",
       "      <td>4</td>\n",
       "      <td>628.0</td>\n",
       "      <td>620</td>\n",
       "      <td>804.0</td>\n",
       "      <td>750</td>\n",
       "      <td>WN</td>\n",
       "      <td>448</td>\n",
       "      <td>N428WN</td>\n",
       "      <td>96.0</td>\n",
       "      <td>90.0</td>\n",
       "      <td>76.0</td>\n",
       "      <td>14.0</td>\n",
       "      <td>8.0</td>\n",
       "      <td>IND</td>\n",
       "      <td>BWI</td>\n",
       "      <td>515</td>\n",
       "      <td>3.0</td>\n",
       "      <td>17.0</td>\n",
       "      <td>0</td>\n",
       "      <td>NaN</td>\n",
       "      <td>0</td>\n",
       "      <td>NaN</td>\n",
       "      <td>NaN</td>\n",
       "      <td>NaN</td>\n",
       "      <td>NaN</td>\n",
       "      <td>NaN</td>\n",
       "    </tr>\n",
       "    <tr>\n",
       "      <th>3</th>\n",
       "      <td>2008</td>\n",
       "      <td>1</td>\n",
       "      <td>3</td>\n",
       "      <td>4</td>\n",
       "      <td>926.0</td>\n",
       "      <td>930</td>\n",
       "      <td>1054.0</td>\n",
       "      <td>1100</td>\n",
       "      <td>WN</td>\n",
       "      <td>1746</td>\n",
       "      <td>N612SW</td>\n",
       "      <td>88.0</td>\n",
       "      <td>90.0</td>\n",
       "      <td>78.0</td>\n",
       "      <td>-6.0</td>\n",
       "      <td>-4.0</td>\n",
       "      <td>IND</td>\n",
       "      <td>BWI</td>\n",
       "      <td>515</td>\n",
       "      <td>3.0</td>\n",
       "      <td>7.0</td>\n",
       "      <td>0</td>\n",
       "      <td>NaN</td>\n",
       "      <td>0</td>\n",
       "      <td>NaN</td>\n",
       "      <td>NaN</td>\n",
       "      <td>NaN</td>\n",
       "      <td>NaN</td>\n",
       "      <td>NaN</td>\n",
       "    </tr>\n",
       "    <tr>\n",
       "      <th>4</th>\n",
       "      <td>2008</td>\n",
       "      <td>1</td>\n",
       "      <td>3</td>\n",
       "      <td>4</td>\n",
       "      <td>1829.0</td>\n",
       "      <td>1755</td>\n",
       "      <td>1959.0</td>\n",
       "      <td>1925</td>\n",
       "      <td>WN</td>\n",
       "      <td>3920</td>\n",
       "      <td>N464WN</td>\n",
       "      <td>90.0</td>\n",
       "      <td>90.0</td>\n",
       "      <td>77.0</td>\n",
       "      <td>34.0</td>\n",
       "      <td>34.0</td>\n",
       "      <td>IND</td>\n",
       "      <td>BWI</td>\n",
       "      <td>515</td>\n",
       "      <td>3.0</td>\n",
       "      <td>10.0</td>\n",
       "      <td>0</td>\n",
       "      <td>NaN</td>\n",
       "      <td>0</td>\n",
       "      <td>2.0</td>\n",
       "      <td>0.0</td>\n",
       "      <td>0.0</td>\n",
       "      <td>0.0</td>\n",
       "      <td>32.0</td>\n",
       "    </tr>\n",
       "  </tbody>\n",
       "</table>\n",
       "</div>"
      ],
      "text/plain": [
       "   Year  Month  DayofMonth  ...  NASDelay  SecurityDelay  LateAircraftDelay\n",
       "0  2008      1           3  ...       NaN            NaN                NaN\n",
       "1  2008      1           3  ...       NaN            NaN                NaN\n",
       "2  2008      1           3  ...       NaN            NaN                NaN\n",
       "3  2008      1           3  ...       NaN            NaN                NaN\n",
       "4  2008      1           3  ...       0.0            0.0               32.0\n",
       "\n",
       "[5 rows x 29 columns]"
      ]
     },
     "execution_count": 5,
     "metadata": {
      "tags": []
     },
     "output_type": "execute_result"
    }
   ],
   "source": [
    "df.head()"
   ]
  },
  {
   "cell_type": "markdown",
   "metadata": {
    "id": "-3U6JZ0PMMS5"
   },
   "source": [
    "Xem qua các kiểu dữ liệu của các thuộc tính"
   ]
  },
  {
   "cell_type": "code",
   "execution_count": null,
   "metadata": {
    "colab": {
     "base_uri": "https://localhost:8080/"
    },
    "id": "RnJFtHYjL-RB",
    "outputId": "568ac44a-63e6-43f1-d9f6-a66aa41bce4d"
   },
   "outputs": [
    {
     "name": "stdout",
     "output_type": "stream",
     "text": [
      "<class 'pandas.core.frame.DataFrame'>\n",
      "RangeIndex: 7009728 entries, 0 to 7009727\n",
      "Data columns (total 29 columns):\n",
      " #   Column             Dtype  \n",
      "---  ------             -----  \n",
      " 0   Year               int64  \n",
      " 1   Month              int64  \n",
      " 2   DayofMonth         int64  \n",
      " 3   DayOfWeek          int64  \n",
      " 4   DepTime            float64\n",
      " 5   CRSDepTime         int64  \n",
      " 6   ArrTime            float64\n",
      " 7   CRSArrTime         int64  \n",
      " 8   UniqueCarrier      object \n",
      " 9   FlightNum          int64  \n",
      " 10  TailNum            object \n",
      " 11  ActualElapsedTime  float64\n",
      " 12  CRSElapsedTime     float64\n",
      " 13  AirTime            float64\n",
      " 14  ArrDelay           float64\n",
      " 15  DepDelay           float64\n",
      " 16  Origin             object \n",
      " 17  Dest               object \n",
      " 18  Distance           int64  \n",
      " 19  TaxiIn             float64\n",
      " 20  TaxiOut            float64\n",
      " 21  Cancelled          int64  \n",
      " 22  CancellationCode   object \n",
      " 23  Diverted           int64  \n",
      " 24  CarrierDelay       float64\n",
      " 25  WeatherDelay       float64\n",
      " 26  NASDelay           float64\n",
      " 27  SecurityDelay      float64\n",
      " 28  LateAircraftDelay  float64\n",
      "dtypes: float64(14), int64(10), object(5)\n",
      "memory usage: 1.5+ GB\n"
     ]
    }
   ],
   "source": [
    "df.info()"
   ]
  },
  {
   "cell_type": "code",
   "execution_count": null,
   "metadata": {
    "colab": {
     "base_uri": "https://localhost:8080/"
    },
    "id": "E1755RM0MSKT",
    "outputId": "748a162a-6ea5-4bd0-8e42-5cff675b3156"
   },
   "outputs": [
    {
     "data": {
      "text/plain": [
       "float64    14\n",
       "int64      10\n",
       "object      5\n",
       "dtype: int64"
      ]
     },
     "execution_count": 7,
     "metadata": {
      "tags": []
     },
     "output_type": "execute_result"
    }
   ],
   "source": [
    "df.dtypes.value_counts()"
   ]
  },
  {
   "cell_type": "markdown",
   "metadata": {
    "id": "sS0XqeVDMWne"
   },
   "source": [
    "=> Dữ liệu gồm 5 thuộc tính kiểu categorical, 24 thuộc tính kiểu numerical"
   ]
  },
  {
   "cell_type": "markdown",
   "metadata": {
    "id": "cwnQwyVYMfD3"
   },
   "source": [
    "#### Kiểm tra dữ liệu bị thiếu"
   ]
  },
  {
   "cell_type": "code",
   "execution_count": null,
   "metadata": {
    "colab": {
     "base_uri": "https://localhost:8080/"
    },
    "id": "_lfiYdbwMVeU",
    "outputId": "c148c22f-f4b0-4379-f369-ad2a88765df9"
   },
   "outputs": [
    {
     "data": {
      "text/plain": [
       "Year                       0\n",
       "Month                      0\n",
       "DayofMonth                 0\n",
       "DayOfWeek                  0\n",
       "DepTime               136246\n",
       "CRSDepTime                 0\n",
       "ArrTime               151649\n",
       "CRSArrTime                 0\n",
       "UniqueCarrier              0\n",
       "FlightNum                  0\n",
       "TailNum                83365\n",
       "ActualElapsedTime     154699\n",
       "CRSElapsedTime           844\n",
       "AirTime               154699\n",
       "ArrDelay              154699\n",
       "DepDelay              136246\n",
       "Origin                     0\n",
       "Dest                       0\n",
       "Distance                   0\n",
       "TaxiIn                151649\n",
       "TaxiOut               137058\n",
       "Cancelled                  0\n",
       "CancellationCode     6872294\n",
       "Diverted                   0\n",
       "CarrierDelay         5484993\n",
       "WeatherDelay         5484993\n",
       "NASDelay             5484993\n",
       "SecurityDelay        5484993\n",
       "LateAircraftDelay    5484993\n",
       "dtype: int64"
      ]
     },
     "execution_count": 8,
     "metadata": {
      "tags": []
     },
     "output_type": "execute_result"
    }
   ],
   "source": [
    "df.isnull().sum()"
   ]
  },
  {
   "cell_type": "markdown",
   "metadata": {
    "id": "J21aRPGQMlyV"
   },
   "source": [
    "#### Xử lý dữ liệu:\n",
    "<br>\n",
    "- 6 thuộc tính thiếu khoảng 75% dữ liệu trở lên: \n",
    "<br>\n",
    "\n",
    "* `CancellationCode`: thiếu 98% dữ liệu\n",
    "* `CarrierDelay`: thiếu 78% dữ liệu\n",
    "* `WeatherDelay`: thiếu 78% dữ liệu\n",
    "* `NASDelay`: thiếu 78% dữ liệu\n",
    "* `SecurityDelay`: thiếu 78% dữ liệu\n",
    "* `LateAircraftDelay`: thiếu 78% dữ liệu\n",
    "\n",
    "&emsp;=> Xóa 6 thuộc tính trên"
   ]
  },
  {
   "cell_type": "code",
   "execution_count": 3,
   "metadata": {
    "id": "kswV6T-vMnWa"
   },
   "outputs": [],
   "source": [
    "df = df.drop(['CancellationCode','CarrierDelay','WeatherDelay', 'NASDelay','SecurityDelay','LateAircraftDelay'], axis=1)"
   ]
  },
  {
   "cell_type": "markdown",
   "metadata": {
    "id": "5bWjemmsMuYm"
   },
   "source": [
    "\\- Đối với các thuộc tính khác thiếu khoảng 2% dữ liệu \n",
    "\n",
    "&emsp;=> Xóa những dòng bị thiếu dữ liệu"
   ]
  },
  {
   "cell_type": "code",
   "execution_count": 4,
   "metadata": {
    "colab": {
     "base_uri": "https://localhost:8080/"
    },
    "id": "VSVkyWjzMvtr",
    "outputId": "475f2939-2b13-4994-9762-1ff0a863f9c0"
   },
   "outputs": [
    {
     "data": {
      "text/plain": [
       "(6855024, 23)"
      ]
     },
     "execution_count": 4,
     "metadata": {},
     "output_type": "execute_result"
    }
   ],
   "source": [
    "df = df.dropna()\n",
    "df.shape"
   ]
  },
  {
   "cell_type": "markdown",
   "metadata": {
    "id": "Jg5O0PNWM1f-"
   },
   "source": [
    "\\- Đối với thuộc tính `Cancelled` có kiểu dữ liệu nhị phân có ý nghĩa xác định chuyến bay có bị hủy hay không. Trong bài này, ta đi dự đoán một chuyến bay có hạ cánh trễ hay không, do đó chắc chắn chuyến bay đó không bị hủy nên ta có thể bỏ thuộc tính này\n",
    "<br>\n",
    "\\- Đối với thuộc tính `Year` có giá trị mặc định là 2008 nên ta cũng xóa thuộc tính này. \n",
    "<br>"
   ]
  },
  {
   "cell_type": "code",
   "execution_count": 5,
   "metadata": {
    "colab": {
     "base_uri": "https://localhost:8080/"
    },
    "id": "KV1ESay-M2np",
    "outputId": "5d02ff4a-8b97-4a55-ce27-018cfe4f2ef0"
   },
   "outputs": [
    {
     "data": {
      "text/plain": [
       "(6855024, 21)"
      ]
     },
     "execution_count": 5,
     "metadata": {},
     "output_type": "execute_result"
    }
   ],
   "source": [
    "df = df.drop(['Cancelled', 'Year'],axis=1)\n",
    "df.shape"
   ]
  },
  {
   "cell_type": "code",
   "execution_count": null,
   "metadata": {
    "colab": {
     "base_uri": "https://localhost:8080/",
     "height": 317
    },
    "id": "DX1q55seM3nI",
    "outputId": "d1b567dc-83c8-47e9-fa4d-24c65ef240b8"
   },
   "outputs": [
    {
     "data": {
      "text/html": [
       "<div>\n",
       "<style scoped>\n",
       "    .dataframe tbody tr th:only-of-type {\n",
       "        vertical-align: middle;\n",
       "    }\n",
       "\n",
       "    .dataframe tbody tr th {\n",
       "        vertical-align: top;\n",
       "    }\n",
       "\n",
       "    .dataframe thead th {\n",
       "        text-align: right;\n",
       "    }\n",
       "</style>\n",
       "<table border=\"1\" class=\"dataframe\">\n",
       "  <thead>\n",
       "    <tr style=\"text-align: right;\">\n",
       "      <th></th>\n",
       "      <th>Month</th>\n",
       "      <th>DayofMonth</th>\n",
       "      <th>DayOfWeek</th>\n",
       "      <th>DepTime</th>\n",
       "      <th>CRSDepTime</th>\n",
       "      <th>ArrTime</th>\n",
       "      <th>CRSArrTime</th>\n",
       "      <th>FlightNum</th>\n",
       "      <th>ActualElapsedTime</th>\n",
       "      <th>CRSElapsedTime</th>\n",
       "      <th>AirTime</th>\n",
       "      <th>ArrDelay</th>\n",
       "      <th>DepDelay</th>\n",
       "      <th>Distance</th>\n",
       "      <th>TaxiIn</th>\n",
       "      <th>TaxiOut</th>\n",
       "      <th>Diverted</th>\n",
       "    </tr>\n",
       "  </thead>\n",
       "  <tbody>\n",
       "    <tr>\n",
       "      <th>count</th>\n",
       "      <td>6.855024e+06</td>\n",
       "      <td>6.855024e+06</td>\n",
       "      <td>6.855024e+06</td>\n",
       "      <td>6.855024e+06</td>\n",
       "      <td>6.855024e+06</td>\n",
       "      <td>6.855024e+06</td>\n",
       "      <td>6.855024e+06</td>\n",
       "      <td>6.855024e+06</td>\n",
       "      <td>6.855024e+06</td>\n",
       "      <td>6.855024e+06</td>\n",
       "      <td>6.855024e+06</td>\n",
       "      <td>6.855024e+06</td>\n",
       "      <td>6.855024e+06</td>\n",
       "      <td>6.855024e+06</td>\n",
       "      <td>6.855024e+06</td>\n",
       "      <td>6.855024e+06</td>\n",
       "      <td>6855024.0</td>\n",
       "    </tr>\n",
       "    <tr>\n",
       "      <th>mean</th>\n",
       "      <td>6.388525e+00</td>\n",
       "      <td>1.573826e+01</td>\n",
       "      <td>3.925802e+00</td>\n",
       "      <td>1.333775e+03</td>\n",
       "      <td>1.325037e+03</td>\n",
       "      <td>1.481265e+03</td>\n",
       "      <td>1.493715e+03</td>\n",
       "      <td>2.212505e+03</td>\n",
       "      <td>1.273224e+02</td>\n",
       "      <td>1.290778e+02</td>\n",
       "      <td>1.040186e+02</td>\n",
       "      <td>8.168407e+00</td>\n",
       "      <td>9.923807e+00</td>\n",
       "      <td>7.287441e+02</td>\n",
       "      <td>6.860150e+00</td>\n",
       "      <td>1.644368e+01</td>\n",
       "      <td>0.0</td>\n",
       "    </tr>\n",
       "    <tr>\n",
       "      <th>std</th>\n",
       "      <td>3.398833e+00</td>\n",
       "      <td>8.801085e+00</td>\n",
       "      <td>1.988459e+00</td>\n",
       "      <td>4.780574e+02</td>\n",
       "      <td>4.643130e+02</td>\n",
       "      <td>5.051322e+02</td>\n",
       "      <td>4.826643e+02</td>\n",
       "      <td>1.956435e+03</td>\n",
       "      <td>7.018733e+01</td>\n",
       "      <td>6.953273e+01</td>\n",
       "      <td>6.743981e+01</td>\n",
       "      <td>3.850179e+01</td>\n",
       "      <td>3.520373e+01</td>\n",
       "      <td>5.632449e+02</td>\n",
       "      <td>4.931225e+00</td>\n",
       "      <td>1.131062e+01</td>\n",
       "      <td>0.0</td>\n",
       "    </tr>\n",
       "    <tr>\n",
       "      <th>min</th>\n",
       "      <td>1.000000e+00</td>\n",
       "      <td>1.000000e+00</td>\n",
       "      <td>1.000000e+00</td>\n",
       "      <td>1.000000e+00</td>\n",
       "      <td>0.000000e+00</td>\n",
       "      <td>1.000000e+00</td>\n",
       "      <td>0.000000e+00</td>\n",
       "      <td>1.000000e+00</td>\n",
       "      <td>1.200000e+01</td>\n",
       "      <td>-1.410000e+02</td>\n",
       "      <td>0.000000e+00</td>\n",
       "      <td>-5.190000e+02</td>\n",
       "      <td>-5.340000e+02</td>\n",
       "      <td>1.100000e+01</td>\n",
       "      <td>0.000000e+00</td>\n",
       "      <td>0.000000e+00</td>\n",
       "      <td>0.0</td>\n",
       "    </tr>\n",
       "    <tr>\n",
       "      <th>25%</th>\n",
       "      <td>3.000000e+00</td>\n",
       "      <td>8.000000e+00</td>\n",
       "      <td>2.000000e+00</td>\n",
       "      <td>9.280000e+02</td>\n",
       "      <td>9.250000e+02</td>\n",
       "      <td>1.107000e+03</td>\n",
       "      <td>1.115000e+03</td>\n",
       "      <td>6.180000e+02</td>\n",
       "      <td>7.700000e+01</td>\n",
       "      <td>8.000000e+01</td>\n",
       "      <td>5.500000e+01</td>\n",
       "      <td>-1.000000e+01</td>\n",
       "      <td>-4.000000e+00</td>\n",
       "      <td>3.260000e+02</td>\n",
       "      <td>4.000000e+00</td>\n",
       "      <td>1.000000e+01</td>\n",
       "      <td>0.0</td>\n",
       "    </tr>\n",
       "    <tr>\n",
       "      <th>50%</th>\n",
       "      <td>6.000000e+00</td>\n",
       "      <td>1.600000e+01</td>\n",
       "      <td>4.000000e+00</td>\n",
       "      <td>1.325000e+03</td>\n",
       "      <td>1.317000e+03</td>\n",
       "      <td>1.512000e+03</td>\n",
       "      <td>1.515000e+03</td>\n",
       "      <td>1.563000e+03</td>\n",
       "      <td>1.100000e+02</td>\n",
       "      <td>1.110000e+02</td>\n",
       "      <td>8.600000e+01</td>\n",
       "      <td>-2.000000e+00</td>\n",
       "      <td>-1.000000e+00</td>\n",
       "      <td>5.810000e+02</td>\n",
       "      <td>6.000000e+00</td>\n",
       "      <td>1.400000e+01</td>\n",
       "      <td>0.0</td>\n",
       "    </tr>\n",
       "    <tr>\n",
       "      <th>75%</th>\n",
       "      <td>9.000000e+00</td>\n",
       "      <td>2.300000e+01</td>\n",
       "      <td>6.000000e+00</td>\n",
       "      <td>1.728000e+03</td>\n",
       "      <td>1.715000e+03</td>\n",
       "      <td>1.909000e+03</td>\n",
       "      <td>1.905000e+03</td>\n",
       "      <td>3.494000e+03</td>\n",
       "      <td>1.570000e+02</td>\n",
       "      <td>1.590000e+02</td>\n",
       "      <td>1.320000e+02</td>\n",
       "      <td>1.200000e+01</td>\n",
       "      <td>8.000000e+00</td>\n",
       "      <td>9.540000e+02</td>\n",
       "      <td>8.000000e+00</td>\n",
       "      <td>1.900000e+01</td>\n",
       "      <td>0.0</td>\n",
       "    </tr>\n",
       "    <tr>\n",
       "      <th>max</th>\n",
       "      <td>1.200000e+01</td>\n",
       "      <td>3.100000e+01</td>\n",
       "      <td>7.000000e+00</td>\n",
       "      <td>2.400000e+03</td>\n",
       "      <td>2.359000e+03</td>\n",
       "      <td>2.400000e+03</td>\n",
       "      <td>2.359000e+03</td>\n",
       "      <td>9.741000e+03</td>\n",
       "      <td>1.379000e+03</td>\n",
       "      <td>6.600000e+02</td>\n",
       "      <td>1.350000e+03</td>\n",
       "      <td>2.461000e+03</td>\n",
       "      <td>2.467000e+03</td>\n",
       "      <td>4.962000e+03</td>\n",
       "      <td>3.080000e+02</td>\n",
       "      <td>4.290000e+02</td>\n",
       "      <td>0.0</td>\n",
       "    </tr>\n",
       "  </tbody>\n",
       "</table>\n",
       "</div>"
      ],
      "text/plain": [
       "              Month    DayofMonth  ...       TaxiOut   Diverted\n",
       "count  6.855024e+06  6.855024e+06  ...  6.855024e+06  6855024.0\n",
       "mean   6.388525e+00  1.573826e+01  ...  1.644368e+01        0.0\n",
       "std    3.398833e+00  8.801085e+00  ...  1.131062e+01        0.0\n",
       "min    1.000000e+00  1.000000e+00  ...  0.000000e+00        0.0\n",
       "25%    3.000000e+00  8.000000e+00  ...  1.000000e+01        0.0\n",
       "50%    6.000000e+00  1.600000e+01  ...  1.400000e+01        0.0\n",
       "75%    9.000000e+00  2.300000e+01  ...  1.900000e+01        0.0\n",
       "max    1.200000e+01  3.100000e+01  ...  4.290000e+02        0.0\n",
       "\n",
       "[8 rows x 17 columns]"
      ]
     },
     "execution_count": 12,
     "metadata": {
      "tags": []
     },
     "output_type": "execute_result"
    }
   ],
   "source": [
    "df.describe()"
   ]
  },
  {
   "cell_type": "markdown",
   "metadata": {
    "id": "zSRbWm8bM7SO"
   },
   "source": [
    "=> Sau khi xử lý dữ liệu thiếu, dữ liệu mang toàn bộ giá trị 0 ở thuộc tính Diverted. Do đó t xóa thuộc tính này."
   ]
  },
  {
   "cell_type": "code",
   "execution_count": 6,
   "metadata": {
    "colab": {
     "base_uri": "https://localhost:8080/"
    },
    "id": "8w7BG17PM5so",
    "outputId": "7dc50467-491d-4587-a793-900a8303c146"
   },
   "outputs": [
    {
     "data": {
      "text/plain": [
       "(6855024, 20)"
      ]
     },
     "execution_count": 6,
     "metadata": {},
     "output_type": "execute_result"
    }
   ],
   "source": [
    "df = df.drop(['Diverted'],axis=1)\n",
    "df.shape"
   ]
  },
  {
   "cell_type": "code",
   "execution_count": null,
   "metadata": {
    "colab": {
     "base_uri": "https://localhost:8080/",
     "height": 894
    },
    "id": "vqvt0LlgM9Hf",
    "outputId": "70b686d4-28f1-4b22-9d9f-174077c830c6"
   },
   "outputs": [
    {
     "data": {
      "image/png": "[encoded data removed]",
      "text/plain": [
       "<Figure size 1152x1008 with 2 Axes>"
      ]
     },
     "metadata": {
      "needs_background": "light",
      "tags": []
     },
     "output_type": "display_data"
    }
   ],
   "source": [
    "data = df\n",
    "\n",
    "fig, ax = plt.subplots(figsize=(16,14)) \n",
    "mask = np.zeros_like(data.corr())\n",
    "mask[np.triu_indices_from(mask)] = 1\n",
    "sns.heatmap(data.corr(), mask= mask, ax= ax, annot= True)\n",
    "plt.show()"
   ]
  },
  {
   "cell_type": "code",
   "execution_count": null,
   "metadata": {
    "colab": {
     "base_uri": "https://localhost:8080/",
     "height": 565
    },
    "id": "W4zeYp3xM_IK",
    "outputId": "9960873a-5bfc-4963-e0bb-c20525246059"
   },
   "outputs": [
    {
     "data": {
      "text/html": [
       "<div>\n",
       "<style scoped>\n",
       "    .dataframe tbody tr th:only-of-type {\n",
       "        vertical-align: middle;\n",
       "    }\n",
       "\n",
       "    .dataframe tbody tr th {\n",
       "        vertical-align: top;\n",
       "    }\n",
       "\n",
       "    .dataframe thead th {\n",
       "        text-align: right;\n",
       "    }\n",
       "</style>\n",
       "<table border=\"1\" class=\"dataframe\">\n",
       "  <thead>\n",
       "    <tr style=\"text-align: right;\">\n",
       "      <th></th>\n",
       "      <th>Month</th>\n",
       "      <th>DayofMonth</th>\n",
       "      <th>DayOfWeek</th>\n",
       "      <th>DepTime</th>\n",
       "      <th>CRSDepTime</th>\n",
       "      <th>ArrTime</th>\n",
       "      <th>CRSArrTime</th>\n",
       "      <th>FlightNum</th>\n",
       "      <th>ActualElapsedTime</th>\n",
       "      <th>CRSElapsedTime</th>\n",
       "      <th>AirTime</th>\n",
       "      <th>ArrDelay</th>\n",
       "      <th>DepDelay</th>\n",
       "      <th>Distance</th>\n",
       "      <th>TaxiIn</th>\n",
       "      <th>TaxiOut</th>\n",
       "    </tr>\n",
       "  </thead>\n",
       "  <tbody>\n",
       "    <tr>\n",
       "      <th>Month</th>\n",
       "      <td>1.000000</td>\n",
       "      <td>-0.000402</td>\n",
       "      <td>-0.005350</td>\n",
       "      <td>-0.010320</td>\n",
       "      <td>-0.008425</td>\n",
       "      <td>-0.000376</td>\n",
       "      <td>0.000353</td>\n",
       "      <td>0.005307</td>\n",
       "      <td>-0.014061</td>\n",
       "      <td>-0.006346</td>\n",
       "      <td>-0.012413</td>\n",
       "      <td>-0.042058</td>\n",
       "      <td>-0.030498</td>\n",
       "      <td>-0.005558</td>\n",
       "      <td>0.006904</td>\n",
       "      <td>-0.016249</td>\n",
       "    </tr>\n",
       "    <tr>\n",
       "      <th>DayofMonth</th>\n",
       "      <td>-0.000402</td>\n",
       "      <td>1.000000</td>\n",
       "      <td>0.004762</td>\n",
       "      <td>-0.001555</td>\n",
       "      <td>-0.001745</td>\n",
       "      <td>-0.001505</td>\n",
       "      <td>-0.001744</td>\n",
       "      <td>-0.000284</td>\n",
       "      <td>0.000598</td>\n",
       "      <td>0.001384</td>\n",
       "      <td>0.000950</td>\n",
       "      <td>0.001605</td>\n",
       "      <td>0.003297</td>\n",
       "      <td>0.001363</td>\n",
       "      <td>-0.002934</td>\n",
       "      <td>-0.000675</td>\n",
       "    </tr>\n",
       "    <tr>\n",
       "      <th>DayOfWeek</th>\n",
       "      <td>-0.005350</td>\n",
       "      <td>0.004762</td>\n",
       "      <td>1.000000</td>\n",
       "      <td>0.005660</td>\n",
       "      <td>0.005666</td>\n",
       "      <td>0.003376</td>\n",
       "      <td>0.005569</td>\n",
       "      <td>-0.001438</td>\n",
       "      <td>0.012929</td>\n",
       "      <td>0.015013</td>\n",
       "      <td>0.013915</td>\n",
       "      <td>0.010557</td>\n",
       "      <td>0.015424</td>\n",
       "      <td>0.016730</td>\n",
       "      <td>0.010243</td>\n",
       "      <td>-0.007206</td>\n",
       "    </tr>\n",
       "    <tr>\n",
       "      <th>DepTime</th>\n",
       "      <td>-0.010320</td>\n",
       "      <td>-0.001555</td>\n",
       "      <td>0.005660</td>\n",
       "      <td>1.000000</td>\n",
       "      <td>0.968550</td>\n",
       "      <td>0.713081</td>\n",
       "      <td>0.791431</td>\n",
       "      <td>-0.006074</td>\n",
       "      <td>-0.017070</td>\n",
       "      <td>-0.013684</td>\n",
       "      <td>-0.023170</td>\n",
       "      <td>0.178274</td>\n",
       "      <td>0.201981</td>\n",
       "      <td>-0.016523</td>\n",
       "      <td>-0.042255</td>\n",
       "      <td>0.050649</td>\n",
       "    </tr>\n",
       "    <tr>\n",
       "      <th>CRSDepTime</th>\n",
       "      <td>-0.008425</td>\n",
       "      <td>-0.001745</td>\n",
       "      <td>0.005666</td>\n",
       "      <td>0.968550</td>\n",
       "      <td>1.000000</td>\n",
       "      <td>0.697293</td>\n",
       "      <td>0.790820</td>\n",
       "      <td>-0.012512</td>\n",
       "      <td>-0.017184</td>\n",
       "      <td>-0.011775</td>\n",
       "      <td>-0.021086</td>\n",
       "      <td>0.116894</td>\n",
       "      <td>0.138850</td>\n",
       "      <td>-0.012189</td>\n",
       "      <td>-0.047563</td>\n",
       "      <td>0.039827</td>\n",
       "    </tr>\n",
       "    <tr>\n",
       "      <th>ArrTime</th>\n",
       "      <td>-0.000376</td>\n",
       "      <td>-0.001505</td>\n",
       "      <td>0.003376</td>\n",
       "      <td>0.713081</td>\n",
       "      <td>0.697293</td>\n",
       "      <td>1.000000</td>\n",
       "      <td>0.862455</td>\n",
       "      <td>-0.017674</td>\n",
       "      <td>0.037625</td>\n",
       "      <td>0.038654</td>\n",
       "      <td>0.030320</td>\n",
       "      <td>0.066020</td>\n",
       "      <td>0.073539</td>\n",
       "      <td>0.029023</td>\n",
       "      <td>0.007131</td>\n",
       "      <td>0.049582</td>\n",
       "    </tr>\n",
       "    <tr>\n",
       "      <th>CRSArrTime</th>\n",
       "      <td>0.000353</td>\n",
       "      <td>-0.001744</td>\n",
       "      <td>0.005569</td>\n",
       "      <td>0.791431</td>\n",
       "      <td>0.790820</td>\n",
       "      <td>0.862455</td>\n",
       "      <td>1.000000</td>\n",
       "      <td>-0.029613</td>\n",
       "      <td>0.051469</td>\n",
       "      <td>0.056582</td>\n",
       "      <td>0.044016</td>\n",
       "      <td>0.113087</td>\n",
       "      <td>0.132824</td>\n",
       "      <td>0.046195</td>\n",
       "      <td>-0.006540</td>\n",
       "      <td>0.059792</td>\n",
       "    </tr>\n",
       "    <tr>\n",
       "      <th>FlightNum</th>\n",
       "      <td>0.005307</td>\n",
       "      <td>-0.000284</td>\n",
       "      <td>-0.001438</td>\n",
       "      <td>-0.006074</td>\n",
       "      <td>-0.012512</td>\n",
       "      <td>-0.017674</td>\n",
       "      <td>-0.029613</td>\n",
       "      <td>1.000000</td>\n",
       "      <td>-0.319347</td>\n",
       "      <td>-0.326568</td>\n",
       "      <td>-0.334444</td>\n",
       "      <td>0.016601</td>\n",
       "      <td>0.009832</td>\n",
       "      <td>-0.348495</td>\n",
       "      <td>-0.009481</td>\n",
       "      <td>0.016576</td>\n",
       "    </tr>\n",
       "    <tr>\n",
       "      <th>ActualElapsedTime</th>\n",
       "      <td>-0.014061</td>\n",
       "      <td>0.000598</td>\n",
       "      <td>0.012929</td>\n",
       "      <td>-0.017070</td>\n",
       "      <td>-0.017184</td>\n",
       "      <td>0.037625</td>\n",
       "      <td>0.051469</td>\n",
       "      <td>-0.319347</td>\n",
       "      <td>1.000000</td>\n",
       "      <td>0.979875</td>\n",
       "      <td>0.984241</td>\n",
       "      <td>0.093926</td>\n",
       "      <td>0.044380</td>\n",
       "      <td>0.964521</td>\n",
       "      <td>0.158444</td>\n",
       "      <td>0.267801</td>\n",
       "    </tr>\n",
       "    <tr>\n",
       "      <th>CRSElapsedTime</th>\n",
       "      <td>-0.006346</td>\n",
       "      <td>0.001384</td>\n",
       "      <td>0.015013</td>\n",
       "      <td>-0.013684</td>\n",
       "      <td>-0.011775</td>\n",
       "      <td>0.038654</td>\n",
       "      <td>0.056582</td>\n",
       "      <td>-0.326568</td>\n",
       "      <td>0.979875</td>\n",
       "      <td>1.000000</td>\n",
       "      <td>0.988173</td>\n",
       "      <td>0.012642</td>\n",
       "      <td>0.035357</td>\n",
       "      <td>0.983176</td>\n",
       "      <td>0.104174</td>\n",
       "      <td>0.143128</td>\n",
       "    </tr>\n",
       "    <tr>\n",
       "      <th>AirTime</th>\n",
       "      <td>-0.012413</td>\n",
       "      <td>0.000950</td>\n",
       "      <td>0.013915</td>\n",
       "      <td>-0.023170</td>\n",
       "      <td>-0.021086</td>\n",
       "      <td>0.030320</td>\n",
       "      <td>0.044016</td>\n",
       "      <td>-0.334444</td>\n",
       "      <td>0.984241</td>\n",
       "      <td>0.988173</td>\n",
       "      <td>1.000000</td>\n",
       "      <td>0.034733</td>\n",
       "      <td>0.027453</td>\n",
       "      <td>0.982876</td>\n",
       "      <td>0.085023</td>\n",
       "      <td>0.108052</td>\n",
       "    </tr>\n",
       "    <tr>\n",
       "      <th>ArrDelay</th>\n",
       "      <td>-0.042058</td>\n",
       "      <td>0.001605</td>\n",
       "      <td>0.010557</td>\n",
       "      <td>0.178274</td>\n",
       "      <td>0.116894</td>\n",
       "      <td>0.066020</td>\n",
       "      <td>0.113087</td>\n",
       "      <td>0.016601</td>\n",
       "      <td>0.093926</td>\n",
       "      <td>0.012642</td>\n",
       "      <td>0.034733</td>\n",
       "      <td>1.000000</td>\n",
       "      <td>0.931390</td>\n",
       "      <td>0.006552</td>\n",
       "      <td>0.123065</td>\n",
       "      <td>0.322100</td>\n",
       "    </tr>\n",
       "    <tr>\n",
       "      <th>DepDelay</th>\n",
       "      <td>-0.030498</td>\n",
       "      <td>0.003297</td>\n",
       "      <td>0.015424</td>\n",
       "      <td>0.201981</td>\n",
       "      <td>0.138850</td>\n",
       "      <td>0.073539</td>\n",
       "      <td>0.132824</td>\n",
       "      <td>0.009832</td>\n",
       "      <td>0.044380</td>\n",
       "      <td>0.035357</td>\n",
       "      <td>0.027453</td>\n",
       "      <td>0.931390</td>\n",
       "      <td>1.000000</td>\n",
       "      <td>0.026076</td>\n",
       "      <td>0.024455</td>\n",
       "      <td>0.101047</td>\n",
       "    </tr>\n",
       "    <tr>\n",
       "      <th>Distance</th>\n",
       "      <td>-0.005558</td>\n",
       "      <td>0.001363</td>\n",
       "      <td>0.016730</td>\n",
       "      <td>-0.016523</td>\n",
       "      <td>-0.012189</td>\n",
       "      <td>0.029023</td>\n",
       "      <td>0.046195</td>\n",
       "      <td>-0.348495</td>\n",
       "      <td>0.964521</td>\n",
       "      <td>0.983176</td>\n",
       "      <td>0.982876</td>\n",
       "      <td>0.006552</td>\n",
       "      <td>0.026076</td>\n",
       "      <td>1.000000</td>\n",
       "      <td>0.077073</td>\n",
       "      <td>0.091253</td>\n",
       "    </tr>\n",
       "    <tr>\n",
       "      <th>TaxiIn</th>\n",
       "      <td>0.006904</td>\n",
       "      <td>-0.002934</td>\n",
       "      <td>0.010243</td>\n",
       "      <td>-0.042255</td>\n",
       "      <td>-0.047563</td>\n",
       "      <td>0.007131</td>\n",
       "      <td>-0.006540</td>\n",
       "      <td>-0.009481</td>\n",
       "      <td>0.158444</td>\n",
       "      <td>0.104174</td>\n",
       "      <td>0.085023</td>\n",
       "      <td>0.123065</td>\n",
       "      <td>0.024455</td>\n",
       "      <td>0.077073</td>\n",
       "      <td>1.000000</td>\n",
       "      <td>0.040280</td>\n",
       "    </tr>\n",
       "    <tr>\n",
       "      <th>TaxiOut</th>\n",
       "      <td>-0.016249</td>\n",
       "      <td>-0.000675</td>\n",
       "      <td>-0.007206</td>\n",
       "      <td>0.050649</td>\n",
       "      <td>0.039827</td>\n",
       "      <td>0.049582</td>\n",
       "      <td>0.059792</td>\n",
       "      <td>0.016576</td>\n",
       "      <td>0.267801</td>\n",
       "      <td>0.143128</td>\n",
       "      <td>0.108052</td>\n",
       "      <td>0.322100</td>\n",
       "      <td>0.101047</td>\n",
       "      <td>0.091253</td>\n",
       "      <td>0.040280</td>\n",
       "      <td>1.000000</td>\n",
       "    </tr>\n",
       "  </tbody>\n",
       "</table>\n",
       "</div>"
      ],
      "text/plain": [
       "                      Month  DayofMonth  ...    TaxiIn   TaxiOut\n",
       "Month              1.000000   -0.000402  ...  0.006904 -0.016249\n",
       "DayofMonth        -0.000402    1.000000  ... -0.002934 -0.000675\n",
       "DayOfWeek         -0.005350    0.004762  ...  0.010243 -0.007206\n",
       "DepTime           -0.010320   -0.001555  ... -0.042255  0.050649\n",
       "CRSDepTime        -0.008425   -0.001745  ... -0.047563  0.039827\n",
       "ArrTime           -0.000376   -0.001505  ...  0.007131  0.049582\n",
       "CRSArrTime         0.000353   -0.001744  ... -0.006540  0.059792\n",
       "FlightNum          0.005307   -0.000284  ... -0.009481  0.016576\n",
       "ActualElapsedTime -0.014061    0.000598  ...  0.158444  0.267801\n",
       "CRSElapsedTime    -0.006346    0.001384  ...  0.104174  0.143128\n",
       "AirTime           -0.012413    0.000950  ...  0.085023  0.108052\n",
       "ArrDelay          -0.042058    0.001605  ...  0.123065  0.322100\n",
       "DepDelay          -0.030498    0.003297  ...  0.024455  0.101047\n",
       "Distance          -0.005558    0.001363  ...  0.077073  0.091253\n",
       "TaxiIn             0.006904   -0.002934  ...  1.000000  0.040280\n",
       "TaxiOut           -0.016249   -0.000675  ...  0.040280  1.000000\n",
       "\n",
       "[16 rows x 16 columns]"
      ]
     },
     "execution_count": 15,
     "metadata": {
      "tags": []
     },
     "output_type": "execute_result"
    }
   ],
   "source": [
    "data.corr()"
   ]
  },
  {
   "cell_type": "code",
   "execution_count": 7,
   "metadata": {
    "id": "l481r5VDNBiB"
   },
   "outputs": [],
   "source": [
    "# Xóa feature DepDelay tương quan mạnh với biến target\n",
    "df = df.drop(['DepDelay'], axis=1)"
   ]
  },
  {
   "cell_type": "code",
   "execution_count": 9,
   "metadata": {
    "id": "ooipnhz1NOeb"
   },
   "outputs": [],
   "source": [
    "data = df\n",
    "corr_mtx = data.corr().abs()\n",
    "avg_corr = corr_mtx.mean(axis=1)"
   ]
  },
  {
   "cell_type": "code",
   "execution_count": 10,
   "metadata": {
    "colab": {
     "base_uri": "https://localhost:8080/"
    },
    "id": "b1F5T9M_NSUG",
    "outputId": "f1f4dde6-01ec-4032-b3b0-f80c0799a5d7"
   },
   "outputs": [
    {
     "name": "stdout",
     "output_type": "stream",
     "text": [
      "[[3 4]\n",
      " [8 9]\n",
      " [8 10]\n",
      " [8 12]\n",
      " [9 10]\n",
      " [9 12]\n",
      " [10 12]]\n"
     ]
    }
   ],
   "source": [
    "up = corr_mtx.where(np.triu(np.ones(corr_mtx.shape),k=1).astype(np.bool))\n",
    "\n",
    "lst = np.empty((0,2),dtype='object')\n",
    "for row in range(len(up)-1):\n",
    "    col_idx = row + 1\n",
    "    \n",
    "    for col in range(col_idx, len(up)):\n",
    "        if corr_mtx.iloc[row,col] > 0.9:\n",
    "            lst = np.append(lst, np.array([[row,col]]),axis=0)\n",
    " \n",
    "print(lst)"
   ]
  },
  {
   "cell_type": "code",
   "execution_count": 11,
   "metadata": {
    "colab": {
     "base_uri": "https://localhost:8080/"
    },
    "id": "cp9ON0p0NWOn",
    "outputId": "a2359a79-3b58-432e-a72c-5109d3edf5c2"
   },
   "outputs": [
    {
     "name": "stdout",
     "output_type": "stream",
     "text": [
      "0.1782743918046631 0.11689447363089882\n",
      "0.09392577284504985 0.012641789425111485\n",
      "0.09392577284504985 0.03473299945386927\n",
      "0.09392577284504985 0.00655151820680346\n",
      "0.012641789425111485 0.03473299945386927\n",
      "0.012641789425111485 0.00655151820680346\n",
      "0.03473299945386927 0.00655151820680346\n",
      "['CRSElapsedTime', 'AirTime', 'CRSDepTime', 'Distance']\n"
     ]
    }
   ],
   "source": [
    "target_col = corr_mtx.columns.get_loc(\"ArrDelay\")\n",
    "\n",
    "drop = list()\n",
    "\n",
    "for pair in lst:\n",
    "    print(corr_mtx.iloc[pair[0],target_col], corr_mtx.iloc[pair[1],target_col])\n",
    "    if corr_mtx.iloc[pair[0],target_col] < corr_mtx.iloc[pair[1],target_col]:\n",
    "        drop.append(pair[0])\n",
    "    else:\n",
    "        drop.append(pair[1])\n",
    "\n",
    "print(list(corr_mtx.columns[[item for item in set(drop)]]))"
   ]
  },
  {
   "cell_type": "code",
   "execution_count": 10,
   "metadata": {
    "colab": {
     "base_uri": "https://localhost:8080/"
    },
    "id": "j0cU5vrzNYvO",
    "outputId": "b0f15f3e-c857-4d8a-de6a-ec2677eb870a"
   },
   "outputs": [
    {
     "data": {
      "text/plain": [
       "(6855024, 15)"
      ]
     },
     "execution_count": 10,
     "metadata": {},
     "output_type": "execute_result"
    }
   ],
   "source": [
    "data = data.drop(['CRSElapsedTime', 'AirTime', 'CRSDepTime', 'Distance'], axis=1)\n",
    "data.shape"
   ]
  },
  {
   "cell_type": "code",
   "execution_count": null,
   "metadata": {
    "colab": {
     "base_uri": "https://localhost:8080/"
    },
    "id": "FjQaA_gJNbqt",
    "outputId": "70026ae5-9e85-458b-de4d-e2a2e8a72c20"
   },
   "outputs": [
    {
     "name": "stdout",
     "output_type": "stream",
     "text": [
      "WN    1186911\n",
      "AA     585485\n",
      "OO     553412\n",
      "MQ     471161\n",
      "US     446086\n",
      "DL     443934\n",
      "UA     437979\n",
      "XE     363414\n",
      "NW     344110\n",
      "CO     293855\n",
      "EV     274867\n",
      "FL     258713\n",
      "9E     254320\n",
      "YV     245131\n",
      "B6     192114\n",
      "OH     190692\n",
      "AS     148492\n",
      "F9      95384\n",
      "HA      61212\n",
      "AQ       7752\n",
      "Name: UniqueCarrier, dtype: int64\n",
      "N476HA    4701\n",
      "N477HA    4546\n",
      "N484HA    4504\n",
      "N475HA    4496\n",
      "N480HA    4416\n",
      "          ... \n",
      "N263MQ       1\n",
      "N78008       1\n",
      "N27015       1\n",
      "N298MQ       1\n",
      "N853NW       1\n",
      "Name: TailNum, Length: 5366, dtype: int64\n",
      "ATL    406744\n",
      "ORD    333331\n",
      "DFW    272435\n",
      "DEN    238102\n",
      "LAX    212371\n",
      "        ...  \n",
      "GST        83\n",
      "BJI        74\n",
      "INL        71\n",
      "TUP         9\n",
      "PIR         5\n",
      "Name: Dest, Length: 302, dtype: int64\n",
      "ATL    407701\n",
      "ORD    334529\n",
      "DFW    273374\n",
      "DEN    238191\n",
      "LAX    212294\n",
      "        ...  \n",
      "BJI        73\n",
      "INL        71\n",
      "TUP        10\n",
      "PIR         5\n",
      "PUB         2\n",
      "Name: Origin, Length: 303, dtype: int64\n"
     ]
    }
   ],
   "source": [
    "print(df.UniqueCarrier.value_counts())\n",
    "print(df.TailNum.value_counts())\n",
    "print(df.Dest.value_counts())\n",
    "print(df.Origin.value_counts())"
   ]
  },
  {
   "cell_type": "code",
   "execution_count": 11,
   "metadata": {
    "colab": {
     "base_uri": "https://localhost:8080/",
     "height": 439
    },
    "id": "aENSw5lxNo_z",
    "outputId": "50a2ddc4-28d7-49ff-9a47-642e1a31bf73"
   },
   "outputs": [
    {
     "data": {
      "text/html": [
       "<div>\n",
       "<style scoped>\n",
       "    .dataframe tbody tr th:only-of-type {\n",
       "        vertical-align: middle;\n",
       "    }\n",
       "\n",
       "    .dataframe tbody tr th {\n",
       "        vertical-align: top;\n",
       "    }\n",
       "\n",
       "    .dataframe thead th {\n",
       "        text-align: right;\n",
       "    }\n",
       "</style>\n",
       "<table border=\"1\" class=\"dataframe\">\n",
       "  <thead>\n",
       "    <tr style=\"text-align: right;\">\n",
       "      <th></th>\n",
       "      <th>Month</th>\n",
       "      <th>DayofMonth</th>\n",
       "      <th>DayOfWeek</th>\n",
       "      <th>DepTime</th>\n",
       "      <th>CRSDepTime</th>\n",
       "      <th>ArrTime</th>\n",
       "      <th>CRSArrTime</th>\n",
       "      <th>FlightNum</th>\n",
       "      <th>TailNum</th>\n",
       "      <th>ActualElapsedTime</th>\n",
       "      <th>...</th>\n",
       "      <th>UniqueCarrier_OH</th>\n",
       "      <th>UniqueCarrier_OO</th>\n",
       "      <th>UniqueCarrier_UA</th>\n",
       "      <th>UniqueCarrier_US</th>\n",
       "      <th>UniqueCarrier_WN</th>\n",
       "      <th>UniqueCarrier_XE</th>\n",
       "      <th>UniqueCarrier_YV</th>\n",
       "      <th>Origin_code</th>\n",
       "      <th>Dest_code</th>\n",
       "      <th>TailNum_code</th>\n",
       "    </tr>\n",
       "  </thead>\n",
       "  <tbody>\n",
       "    <tr>\n",
       "      <th>0</th>\n",
       "      <td>1</td>\n",
       "      <td>3</td>\n",
       "      <td>4</td>\n",
       "      <td>2003.0</td>\n",
       "      <td>1955</td>\n",
       "      <td>2211.0</td>\n",
       "      <td>2225</td>\n",
       "      <td>335</td>\n",
       "      <td>N712SW</td>\n",
       "      <td>128.0</td>\n",
       "      <td>...</td>\n",
       "      <td>0</td>\n",
       "      <td>0</td>\n",
       "      <td>0</td>\n",
       "      <td>0</td>\n",
       "      <td>1</td>\n",
       "      <td>0</td>\n",
       "      <td>0</td>\n",
       "      <td>135</td>\n",
       "      <td>284</td>\n",
       "      <td>3761</td>\n",
       "    </tr>\n",
       "    <tr>\n",
       "      <th>1</th>\n",
       "      <td>1</td>\n",
       "      <td>3</td>\n",
       "      <td>4</td>\n",
       "      <td>754.0</td>\n",
       "      <td>735</td>\n",
       "      <td>1002.0</td>\n",
       "      <td>1000</td>\n",
       "      <td>3231</td>\n",
       "      <td>N772SW</td>\n",
       "      <td>128.0</td>\n",
       "      <td>...</td>\n",
       "      <td>0</td>\n",
       "      <td>0</td>\n",
       "      <td>0</td>\n",
       "      <td>0</td>\n",
       "      <td>1</td>\n",
       "      <td>0</td>\n",
       "      <td>0</td>\n",
       "      <td>135</td>\n",
       "      <td>284</td>\n",
       "      <td>4121</td>\n",
       "    </tr>\n",
       "    <tr>\n",
       "      <th>2</th>\n",
       "      <td>1</td>\n",
       "      <td>3</td>\n",
       "      <td>4</td>\n",
       "      <td>628.0</td>\n",
       "      <td>620</td>\n",
       "      <td>804.0</td>\n",
       "      <td>750</td>\n",
       "      <td>448</td>\n",
       "      <td>N428WN</td>\n",
       "      <td>96.0</td>\n",
       "      <td>...</td>\n",
       "      <td>0</td>\n",
       "      <td>0</td>\n",
       "      <td>0</td>\n",
       "      <td>0</td>\n",
       "      <td>1</td>\n",
       "      <td>0</td>\n",
       "      <td>0</td>\n",
       "      <td>140</td>\n",
       "      <td>48</td>\n",
       "      <td>1953</td>\n",
       "    </tr>\n",
       "    <tr>\n",
       "      <th>3</th>\n",
       "      <td>1</td>\n",
       "      <td>3</td>\n",
       "      <td>4</td>\n",
       "      <td>926.0</td>\n",
       "      <td>930</td>\n",
       "      <td>1054.0</td>\n",
       "      <td>1100</td>\n",
       "      <td>1746</td>\n",
       "      <td>N612SW</td>\n",
       "      <td>88.0</td>\n",
       "      <td>...</td>\n",
       "      <td>0</td>\n",
       "      <td>0</td>\n",
       "      <td>0</td>\n",
       "      <td>0</td>\n",
       "      <td>1</td>\n",
       "      <td>0</td>\n",
       "      <td>0</td>\n",
       "      <td>140</td>\n",
       "      <td>48</td>\n",
       "      <td>3051</td>\n",
       "    </tr>\n",
       "    <tr>\n",
       "      <th>4</th>\n",
       "      <td>1</td>\n",
       "      <td>3</td>\n",
       "      <td>4</td>\n",
       "      <td>1829.0</td>\n",
       "      <td>1755</td>\n",
       "      <td>1959.0</td>\n",
       "      <td>1925</td>\n",
       "      <td>3920</td>\n",
       "      <td>N464WN</td>\n",
       "      <td>90.0</td>\n",
       "      <td>...</td>\n",
       "      <td>0</td>\n",
       "      <td>0</td>\n",
       "      <td>0</td>\n",
       "      <td>0</td>\n",
       "      <td>1</td>\n",
       "      <td>0</td>\n",
       "      <td>0</td>\n",
       "      <td>140</td>\n",
       "      <td>48</td>\n",
       "      <td>2134</td>\n",
       "    </tr>\n",
       "    <tr>\n",
       "      <th>...</th>\n",
       "      <td>...</td>\n",
       "      <td>...</td>\n",
       "      <td>...</td>\n",
       "      <td>...</td>\n",
       "      <td>...</td>\n",
       "      <td>...</td>\n",
       "      <td>...</td>\n",
       "      <td>...</td>\n",
       "      <td>...</td>\n",
       "      <td>...</td>\n",
       "      <td>...</td>\n",
       "      <td>...</td>\n",
       "      <td>...</td>\n",
       "      <td>...</td>\n",
       "      <td>...</td>\n",
       "      <td>...</td>\n",
       "      <td>...</td>\n",
       "      <td>...</td>\n",
       "      <td>...</td>\n",
       "      <td>...</td>\n",
       "      <td>...</td>\n",
       "    </tr>\n",
       "    <tr>\n",
       "      <th>7009723</th>\n",
       "      <td>12</td>\n",
       "      <td>13</td>\n",
       "      <td>6</td>\n",
       "      <td>1002.0</td>\n",
       "      <td>959</td>\n",
       "      <td>1204.0</td>\n",
       "      <td>1150</td>\n",
       "      <td>1636</td>\n",
       "      <td>N646DL</td>\n",
       "      <td>122.0</td>\n",
       "      <td>...</td>\n",
       "      <td>0</td>\n",
       "      <td>0</td>\n",
       "      <td>0</td>\n",
       "      <td>0</td>\n",
       "      <td>0</td>\n",
       "      <td>0</td>\n",
       "      <td>0</td>\n",
       "      <td>18</td>\n",
       "      <td>135</td>\n",
       "      <td>3298</td>\n",
       "    </tr>\n",
       "    <tr>\n",
       "      <th>7009724</th>\n",
       "      <td>12</td>\n",
       "      <td>13</td>\n",
       "      <td>6</td>\n",
       "      <td>834.0</td>\n",
       "      <td>835</td>\n",
       "      <td>1021.0</td>\n",
       "      <td>1023</td>\n",
       "      <td>1637</td>\n",
       "      <td>N908DL</td>\n",
       "      <td>167.0</td>\n",
       "      <td>...</td>\n",
       "      <td>0</td>\n",
       "      <td>0</td>\n",
       "      <td>0</td>\n",
       "      <td>0</td>\n",
       "      <td>0</td>\n",
       "      <td>0</td>\n",
       "      <td>0</td>\n",
       "      <td>18</td>\n",
       "      <td>249</td>\n",
       "      <td>4793</td>\n",
       "    </tr>\n",
       "    <tr>\n",
       "      <th>7009725</th>\n",
       "      <td>12</td>\n",
       "      <td>13</td>\n",
       "      <td>6</td>\n",
       "      <td>655.0</td>\n",
       "      <td>700</td>\n",
       "      <td>856.0</td>\n",
       "      <td>856</td>\n",
       "      <td>1638</td>\n",
       "      <td>N671DN</td>\n",
       "      <td>121.0</td>\n",
       "      <td>...</td>\n",
       "      <td>0</td>\n",
       "      <td>0</td>\n",
       "      <td>0</td>\n",
       "      <td>0</td>\n",
       "      <td>0</td>\n",
       "      <td>0</td>\n",
       "      <td>0</td>\n",
       "      <td>215</td>\n",
       "      <td>18</td>\n",
       "      <td>3499</td>\n",
       "    </tr>\n",
       "    <tr>\n",
       "      <th>7009726</th>\n",
       "      <td>12</td>\n",
       "      <td>13</td>\n",
       "      <td>6</td>\n",
       "      <td>1251.0</td>\n",
       "      <td>1240</td>\n",
       "      <td>1446.0</td>\n",
       "      <td>1437</td>\n",
       "      <td>1639</td>\n",
       "      <td>N646DL</td>\n",
       "      <td>115.0</td>\n",
       "      <td>...</td>\n",
       "      <td>0</td>\n",
       "      <td>0</td>\n",
       "      <td>0</td>\n",
       "      <td>0</td>\n",
       "      <td>0</td>\n",
       "      <td>0</td>\n",
       "      <td>0</td>\n",
       "      <td>135</td>\n",
       "      <td>18</td>\n",
       "      <td>3298</td>\n",
       "    </tr>\n",
       "    <tr>\n",
       "      <th>7009727</th>\n",
       "      <td>12</td>\n",
       "      <td>13</td>\n",
       "      <td>6</td>\n",
       "      <td>1110.0</td>\n",
       "      <td>1103</td>\n",
       "      <td>1413.0</td>\n",
       "      <td>1418</td>\n",
       "      <td>1641</td>\n",
       "      <td>N908DL</td>\n",
       "      <td>123.0</td>\n",
       "      <td>...</td>\n",
       "      <td>0</td>\n",
       "      <td>0</td>\n",
       "      <td>0</td>\n",
       "      <td>0</td>\n",
       "      <td>0</td>\n",
       "      <td>0</td>\n",
       "      <td>0</td>\n",
       "      <td>250</td>\n",
       "      <td>18</td>\n",
       "      <td>4793</td>\n",
       "    </tr>\n",
       "  </tbody>\n",
       "</table>\n",
       "<p>6855024 rows × 41 columns</p>\n",
       "</div>"
      ],
      "text/plain": [
       "         Month  DayofMonth  DayOfWeek  DepTime  CRSDepTime  ArrTime  \\\n",
       "0            1           3          4   2003.0        1955   2211.0   \n",
       "1            1           3          4    754.0         735   1002.0   \n",
       "2            1           3          4    628.0         620    804.0   \n",
       "3            1           3          4    926.0         930   1054.0   \n",
       "4            1           3          4   1829.0        1755   1959.0   \n",
       "...        ...         ...        ...      ...         ...      ...   \n",
       "7009723     12          13          6   1002.0         959   1204.0   \n",
       "7009724     12          13          6    834.0         835   1021.0   \n",
       "7009725     12          13          6    655.0         700    856.0   \n",
       "7009726     12          13          6   1251.0        1240   1446.0   \n",
       "7009727     12          13          6   1110.0        1103   1413.0   \n",
       "\n",
       "         CRSArrTime  FlightNum TailNum  ActualElapsedTime  ...  \\\n",
       "0              2225        335  N712SW              128.0  ...   \n",
       "1              1000       3231  N772SW              128.0  ...   \n",
       "2               750        448  N428WN               96.0  ...   \n",
       "3              1100       1746  N612SW               88.0  ...   \n",
       "4              1925       3920  N464WN               90.0  ...   \n",
       "...             ...        ...     ...                ...  ...   \n",
       "7009723        1150       1636  N646DL              122.0  ...   \n",
       "7009724        1023       1637  N908DL              167.0  ...   \n",
       "7009725         856       1638  N671DN              121.0  ...   \n",
       "7009726        1437       1639  N646DL              115.0  ...   \n",
       "7009727        1418       1641  N908DL              123.0  ...   \n",
       "\n",
       "         UniqueCarrier_OH  UniqueCarrier_OO  UniqueCarrier_UA  \\\n",
       "0                       0                 0                 0   \n",
       "1                       0                 0                 0   \n",
       "2                       0                 0                 0   \n",
       "3                       0                 0                 0   \n",
       "4                       0                 0                 0   \n",
       "...                   ...               ...               ...   \n",
       "7009723                 0                 0                 0   \n",
       "7009724                 0                 0                 0   \n",
       "7009725                 0                 0                 0   \n",
       "7009726                 0                 0                 0   \n",
       "7009727                 0                 0                 0   \n",
       "\n",
       "        UniqueCarrier_US UniqueCarrier_WN  UniqueCarrier_XE  UniqueCarrier_YV  \\\n",
       "0                      0                1                 0                 0   \n",
       "1                      0                1                 0                 0   \n",
       "2                      0                1                 0                 0   \n",
       "3                      0                1                 0                 0   \n",
       "4                      0                1                 0                 0   \n",
       "...                  ...              ...               ...               ...   \n",
       "7009723                0                0                 0                 0   \n",
       "7009724                0                0                 0                 0   \n",
       "7009725                0                0                 0                 0   \n",
       "7009726                0                0                 0                 0   \n",
       "7009727                0                0                 0                 0   \n",
       "\n",
       "         Origin_code  Dest_code  TailNum_code  \n",
       "0                135        284          3761  \n",
       "1                135        284          4121  \n",
       "2                140         48          1953  \n",
       "3                140         48          3051  \n",
       "4                140         48          2134  \n",
       "...              ...        ...           ...  \n",
       "7009723           18        135          3298  \n",
       "7009724           18        249          4793  \n",
       "7009725          215         18          3499  \n",
       "7009726          135         18          3298  \n",
       "7009727          250         18          4793  \n",
       "\n",
       "[6855024 rows x 41 columns]"
      ]
     },
     "execution_count": 11,
     "metadata": {},
     "output_type": "execute_result"
    }
   ],
   "source": [
    "df = pd.get_dummies(df, columns=['UniqueCarrier'])\n",
    "\n",
    "lb_make = LabelEncoder()\n",
    "df['Origin_code'] = lb_make.fit_transform(df['Origin'])\n",
    "df['Dest_code'] = lb_make.fit_transform(df['Dest'])\n",
    "df['TailNum_code'] =  lb_make.fit_transform(df['TailNum'])\n",
    "\n",
    "df"
   ]
  },
  {
   "cell_type": "code",
   "execution_count": 12,
   "metadata": {
    "id": "VaPwSaa_N4-A"
   },
   "outputs": [],
   "source": [
    "data = df.drop(['TailNum','Origin','Dest'],axis=1)"
   ]
  },
  {
   "cell_type": "code",
   "execution_count": 13,
   "metadata": {
    "colab": {
     "base_uri": "https://localhost:8080/"
    },
    "id": "ta9AyyfgN6Fg",
    "outputId": "cad79314-22d0-4cc2-b5d8-81b7a9f1db81"
   },
   "outputs": [
    {
     "data": {
      "text/plain": [
       "(6855024, 37)"
      ]
     },
     "execution_count": 13,
     "metadata": {},
     "output_type": "execute_result"
    }
   ],
   "source": [
    "target = data.ArrDelay.apply(lambda x: 0 if x < 30 else 1)\n",
    "data = data.drop(['ArrDelay'],axis=1)\n",
    "data.shape"
   ]
  },
  {
   "cell_type": "code",
   "execution_count": 14,
   "metadata": {
    "id": "AJiFQTN1OKJs"
   },
   "outputs": [],
   "source": [
    "min_max_scaler = preprocessing.MinMaxScaler()\n",
    "data = min_max_scaler.fit_transform(data)"
   ]
  },
  {
   "cell_type": "code",
   "execution_count": 15,
   "metadata": {
    "id": "L1gbyry5N-RC"
   },
   "outputs": [],
   "source": [
    "from sklearn.model_selection import train_test_split"
   ]
  },
  {
   "cell_type": "code",
   "execution_count": 16,
   "metadata": {
    "id": "HBMxLfiYOOnS"
   },
   "outputs": [],
   "source": [
    "X_naive_train, X_naive_test, Y_naive_train, Y_naive_test =train_test_split(data,target, test_size=0.3, random_state = 10)"
   ]
  },
  {
   "cell_type": "markdown",
   "metadata": {
    "id": "Q6jN3h9xCwnV"
   },
   "source": [
    "### Naive Bayes"
   ]
  },
  {
   "cell_type": "code",
   "execution_count": null,
   "metadata": {
    "colab": {
     "base_uri": "https://localhost:8080/",
     "height": 432
    },
    "id": "9BhdV-vkOQz6",
    "outputId": "7d890919-4469-4d62-f3bb-96401322cc08"
   },
   "outputs": [
    {
     "name": "stdout",
     "output_type": "stream",
     "text": [
      "              precision    recall  f1-score   support\n",
      "\n",
      "           0       0.91      0.75      0.83   1185495\n",
      "           1       0.25      0.53      0.34    185510\n",
      "\n",
      "    accuracy                           0.72   1371005\n",
      "   macro avg       0.58      0.64      0.58   1371005\n",
      "weighted avg       0.82      0.72      0.76   1371005\n",
      "\n"
     ]
    },
    {
     "data": {
      "image/png": "[encoded data removed]",
      "text/plain": [
       "<Figure size 432x288 with 2 Axes>"
      ]
     },
     "metadata": {
      "needs_background": "light",
      "tags": []
     },
     "output_type": "display_data"
    }
   ],
   "source": [
    "from sklearn.naive_bayes import GaussianNB\n",
    "gnb = GaussianNB()\n",
    "gnb.fit(X_naive_train,Y_naive_train)\n",
    "Y_naive_predict=gnb.predict(X_naive_test)\n",
    "from sklearn.metrics import classification_report\n",
    "print(classification_report(Y_naive_test, Y_naive_predict ))\n",
    "\n",
    "from sklearn.metrics import confusion_matrix\n",
    "from sklearn.metrics import plot_confusion_matrix\n",
    "#confusion_matrix(y_true, y_pred)\n",
    "plot_confusion_matrix(gnb, X_naive_test, Y_naive_test,cmap=plt.cm.Blues, normalize='true') \n",
    "plt.show()  "
   ]
  },
  {
   "cell_type": "markdown",
   "metadata": {
    "id": "P0BKpiqlVHMD"
   },
   "source": [
    "#### Select KBest "
   ]
  },
  {
   "cell_type": "code",
   "execution_count": null,
   "metadata": {
    "colab": {
     "base_uri": "https://localhost:8080/"
    },
    "id": "-ousiiwtP9ww",
    "outputId": "b31cd9e1-b760-4e06-b091-091250f0e375"
   },
   "outputs": [
    {
     "name": "stdout",
     "output_type": "stream",
     "text": [
      "              precision    recall  f1-score   support\n",
      "\n",
      "           0       0.90      0.89      0.89   1185495\n",
      "           1       0.34      0.38      0.36    185510\n",
      "\n",
      "    accuracy                           0.82   1371005\n",
      "   macro avg       0.62      0.63      0.63   1371005\n",
      "weighted avg       0.83      0.82      0.82   1371005\n",
      "\n"
     ]
    }
   ],
   "source": [
    "clf = GaussianNB()\n",
    "pp_naivebayes_clf = Pipeline([('k_best', SelectKBest(score_func=chi2, k=10)),('nb_clf', clf)])\n",
    "pp_naivebayes_clf.fit(X_naive_train, Y_naive_train)\n",
    "y_kbest_pred = pp_naivebayes_clf.predict(X_naive_test)\n",
    "print(classification_report(Y_naive_test, y_kbest_pred))"
   ]
  },
  {
   "cell_type": "code",
   "execution_count": null,
   "metadata": {
    "colab": {
     "base_uri": "https://localhost:8080/",
     "height": 279
    },
    "id": "Z-g24zUGQvTz",
    "outputId": "090eb23c-f083-419c-cb05-9ed9bfdced57"
   },
   "outputs": [
    {
     "data": {
      "image/png": "[encoded data removed]",
      "text/plain": [
       "<Figure size 432x288 with 2 Axes>"
      ]
     },
     "metadata": {
      "needs_background": "light",
      "tags": []
     },
     "output_type": "display_data"
    }
   ],
   "source": [
    "plot_confusion_matrix(pp_naivebayes_clf, X_naive_test, Y_naive_test,cmap=plt.cm.Blues, normalize='true') \n",
    "plt.show()  "
   ]
  },
  {
   "cell_type": "markdown",
   "metadata": {
    "id": "Xbnxmzm-U2Tw"
   },
   "source": [
    "#### RFE features selection"
   ]
  },
  {
   "cell_type": "code",
   "execution_count": null,
   "metadata": {
    "colab": {
     "base_uri": "https://localhost:8080/",
     "height": 432
    },
    "id": "u76F_nwBRlSb",
    "outputId": "a3ab2064-c1fd-4d11-bcbb-0813a6001b77"
   },
   "outputs": [
    {
     "name": "stdout",
     "output_type": "stream",
     "text": [
      "              precision    recall  f1-score   support\n",
      "\n",
      "           0       0.91      0.75      0.83   1185495\n",
      "           1       0.25      0.53      0.34    185510\n",
      "\n",
      "    accuracy                           0.72   1371005\n",
      "   macro avg       0.58      0.64      0.58   1371005\n",
      "weighted avg       0.82      0.72      0.76   1371005\n",
      "\n"
     ]
    },
    {
     "data": {
      "image/png": "[encoded data removed]",
      "text/plain": [
       "<Figure size 432x288 with 2 Axes>"
      ]
     },
     "metadata": {
      "needs_background": "light",
      "tags": []
     },
     "output_type": "display_data"
    }
   ],
   "source": [
    "pp_naivebayes_clf_rfe = Pipeline([('rfe', RFE(clf, 100)),\n",
    "                           ('nb_clf', clf)])\n",
    "pp_naivebayes_clf_rfe.fit(X_naive_train, Y_naive_train)\n",
    "y_rfe_pred = pp_naivebayes_clf_rfe.predict(X_naive_test)\n",
    "print(classification_report(Y_naive_test, y_rfe_pred))\n",
    "\n",
    "plot_confusion_matrix(pp_naivebayes_clf_rfe, X_naive_test, Y_naive_test,cmap=plt.cm.Blues, normalize='true') \n",
    "plt.show()  "
   ]
  },
  {
   "cell_type": "markdown",
   "metadata": {
    "id": "WBCUo0EYC0AP"
   },
   "source": [
    "### Logistic Regression"
   ]
  },
  {
   "cell_type": "code",
   "execution_count": null,
   "metadata": {
    "colab": {
     "base_uri": "https://localhost:8080/",
     "height": 432
    },
    "id": "2G-XnUnHOYER",
    "outputId": "73b5364e-8fbd-4d65-ec77-f0c7eed0b3dc"
   },
   "outputs": [
    {
     "name": "stdout",
     "output_type": "stream",
     "text": [
      "              precision    recall  f1-score   support\n",
      "\n",
      "           0       0.93      1.00      0.96   1185495\n",
      "           1       0.98      0.52      0.68    185510\n",
      "\n",
      "    accuracy                           0.93   1371005\n",
      "   macro avg       0.96      0.76      0.82   1371005\n",
      "weighted avg       0.94      0.93      0.92   1371005\n",
      "\n"
     ]
    },
    {
     "data": {
      "image/png": "[encoded data removed]",
      "text/plain": [
       "<Figure size 432x288 with 2 Axes>"
      ]
     },
     "metadata": {
      "needs_background": "light",
      "tags": []
     },
     "output_type": "display_data"
    }
   ],
   "source": [
    "from sklearn.linear_model import LogisticRegression\n",
    "\n",
    "logReg = LogisticRegression(max_iter=1000)\n",
    "logReg.fit(X_naive_train,Y_naive_train)\n",
    "\n",
    "Y_log_pred=logReg.predict(X_naive_test)\n",
    "print(classification_report(Y_naive_test, Y_log_pred))\n",
    "\n",
    "plot_confusion_matrix(logReg, X_naive_test, Y_naive_test,cmap=plt.cm.Blues, normalize='true') \n",
    "plt.show()"
   ]
  },
  {
   "cell_type": "markdown",
   "metadata": {
    "id": "xXUB4r-SV3kv"
   },
   "source": [
    "### KBest Selection"
   ]
  },
  {
   "cell_type": "code",
   "execution_count": null,
   "metadata": {
    "colab": {
     "base_uri": "https://localhost:8080/"
    },
    "id": "yapYSxhuRq3Q",
    "outputId": "6b06145b-9468-4c0b-9e60-b5b53b7fea7f"
   },
   "outputs": [
    {
     "name": "stdout",
     "output_type": "stream",
     "text": [
      "              precision    recall  f1-score   support\n",
      "\n",
      "           0       0.92      1.00      0.96   1185495\n",
      "           1       0.96      0.46      0.62    185510\n",
      "\n",
      "    accuracy                           0.92   1371005\n",
      "   macro avg       0.94      0.73      0.79   1371005\n",
      "weighted avg       0.93      0.92      0.91   1371005\n",
      "\n"
     ]
    }
   ],
   "source": [
    "logReg = LogisticRegression(max_iter=1000)\n",
    "pp_logReg_clf = Pipeline([('k_best', SelectKBest(score_func=chi2, k=25)),('log_clf', logReg)])\n",
    "pp_logReg_clf.fit(X_naive_train, Y_naive_train)\n",
    "y_kbest_logReg_pred = pp_logReg_clf.predict(X_naive_test)\n",
    "print(classification_report(Y_naive_test, y_kbest_logReg_pred))"
   ]
  },
  {
   "cell_type": "code",
   "execution_count": null,
   "metadata": {
    "colab": {
     "base_uri": "https://localhost:8080/",
     "height": 279
    },
    "id": "xuY_0SkSUj0w",
    "outputId": "71b66498-5c2d-481e-db7c-3c314a36c06e"
   },
   "outputs": [
    {
     "data": {
      "image/png": "[encoded data removed]",
      "text/plain": [
       "<Figure size 432x288 with 2 Axes>"
      ]
     },
     "metadata": {
      "needs_background": "light",
      "tags": []
     },
     "output_type": "display_data"
    }
   ],
   "source": [
    "plot_confusion_matrix(pp_logReg_clf, X_naive_test, Y_naive_test,cmap=plt.cm.Blues, normalize='true') \n",
    "plt.show()"
   ]
  },
  {
   "cell_type": "markdown",
   "metadata": {
    "id": "ppS1e54zV_Wy"
   },
   "source": [
    "#### RFE features selection"
   ]
  },
  {
   "cell_type": "code",
   "execution_count": null,
   "metadata": {
    "colab": {
     "base_uri": "https://localhost:8080/",
     "height": 568
    },
    "id": "72LjQbZZWEKv",
    "outputId": "dd1225be-565e-4ccc-ced9-8a552d1a8958"
   },
   "outputs": [
    {
     "name": "stderr",
     "output_type": "stream",
     "text": [
      "/usr/local/lib/python3.6/dist-packages/sklearn/linear_model/_logistic.py:940: ConvergenceWarning: lbfgs failed to converge (status=1):\n",
      "STOP: TOTAL NO. of ITERATIONS REACHED LIMIT.\n",
      "\n",
      "Increase the number of iterations (max_iter) or scale the data as shown in:\n",
      "    https://scikit-learn.org/stable/modules/preprocessing.html\n",
      "Please also refer to the documentation for alternative solver options:\n",
      "    https://scikit-learn.org/stable/modules/linear_model.html#logistic-regression\n",
      "  extra_warning_msg=_LOGISTIC_SOLVER_CONVERGENCE_MSG)\n"
     ]
    },
    {
     "name": "stdout",
     "output_type": "stream",
     "text": [
      "              precision    recall  f1-score   support\n",
      "\n",
      "           0       0.93      1.00      0.96   1185495\n",
      "           1       0.99      0.50      0.66    185510\n",
      "\n",
      "    accuracy                           0.93   1371005\n",
      "   macro avg       0.96      0.75      0.81   1371005\n",
      "weighted avg       0.94      0.93      0.92   1371005\n",
      "\n"
     ]
    },
    {
     "data": {
      "image/png": "[encoded data removed]",
      "text/plain": [
       "<Figure size 432x288 with 2 Axes>"
      ]
     },
     "metadata": {
      "needs_background": "light",
      "tags": []
     },
     "output_type": "display_data"
    }
   ],
   "source": [
    "pp_logReg_clf_rfe = Pipeline([('rfe', RFE(LogisticRegression(max_iter=1000))),\n",
    "                           ('logReg', LogisticRegression())])\n",
    "pp_logReg_clf_rfe.fit(X_naive_train, Y_naive_train)\n",
    "y_rfe_pred = pp_logReg_clf_rfe.predict(X_naive_test)\n",
    "print(classification_report(Y_naive_test, y_rfe_pred))\n",
    "\n",
    "plot_confusion_matrix(pp_logReg_clf_rfe, X_naive_test, Y_naive_test,cmap=plt.cm.Blues, normalize='true') \n",
    "plt.show()"
   ]
  },
  {
   "cell_type": "markdown",
   "metadata": {
    "id": "s_cf0wT6cCkg"
   },
   "source": [
    "### RandomForest\n",
    "\n"
   ]
  },
  {
   "cell_type": "code",
   "execution_count": null,
   "metadata": {
    "colab": {
     "base_uri": "https://localhost:8080/",
     "height": 432
    },
    "id": "bnEYz7hqT_Hl",
    "outputId": "2b896cf7-e674-4002-d836-119eb86b9c5e"
   },
   "outputs": [
    {
     "name": "stdout",
     "output_type": "stream",
     "text": [
      "              precision    recall  f1-score   support\n",
      "\n",
      "           0       0.98      1.00      0.99   1185495\n",
      "           1       0.98      0.89      0.94    185510\n",
      "\n",
      "    accuracy                           0.98   1371005\n",
      "   macro avg       0.98      0.95      0.96   1371005\n",
      "weighted avg       0.98      0.98      0.98   1371005\n",
      "\n"
     ]
    },
    {
     "data": {
      "image/png": "[encoded data removed]",
      "text/plain": [
       "<Figure size 432x288 with 2 Axes>"
      ]
     },
     "metadata": {
      "needs_background": "light",
      "tags": []
     },
     "output_type": "display_data"
    }
   ],
   "source": [
    "RF=RandomForestClassifier()\n",
    "RF.fit(X_naive_train,Y_naive_train)\n",
    "\n",
    "Y_RF_pred=RF.predict(X_naive_test)\n",
    "print(classification_report(Y_naive_test, Y_RF_pred))\n",
    "plot_confusion_matrix(RF, X_naive_test, Y_naive_test,cmap=plt.cm.Blues, normalize='true') \n",
    "plt.show()"
   ]
  },
  {
   "cell_type": "markdown",
   "metadata": {
    "id": "KIkKYzCi2PmY"
   },
   "source": [
    "#### SelectKBest"
   ]
  },
  {
   "cell_type": "code",
   "execution_count": null,
   "metadata": {
    "colab": {
     "base_uri": "https://localhost:8080/",
     "height": 432
    },
    "id": "1tzwCz1G2KAT",
    "outputId": "329b2581-fa10-46d4-f7a6-4a18012f3e23"
   },
   "outputs": [
    {
     "name": "stdout",
     "output_type": "stream",
     "text": [
      "              precision    recall  f1-score   support\n",
      "\n",
      "           0       0.88      1.00      0.94   1185495\n",
      "           1       0.92      0.15      0.26    185510\n",
      "\n",
      "    accuracy                           0.88   1371005\n",
      "   macro avg       0.90      0.57      0.60   1371005\n",
      "weighted avg       0.89      0.88      0.84   1371005\n",
      "\n"
     ]
    },
    {
     "data": {
      "image/png": "[encoded data removed]",
      "text/plain": [
       "<Figure size 432x288 with 2 Axes>"
      ]
     },
     "metadata": {
      "needs_background": "light",
      "tags": []
     },
     "output_type": "display_data"
    }
   ],
   "source": [
    "\n",
    "pp_ranforest_clf = Pipeline([('k_best', SelectKBest(score_func=chi2, k=10)),\n",
    "                           ('forest_clf',RandomForestClassifier(max_depth=4))])\n",
    "pp_ranforest_clf.fit(X_naive_train, Y_naive_train)\n",
    "y_RF_pred = pp_ranforest_clf.predict(X_naive_test)\n",
    "print(classification_report(Y_naive_test, y_RF_pred))\n",
    "\n",
    "plot_confusion_matrix(pp_ranforest_clf, X_naive_test, Y_naive_test,cmap=plt.cm.Blues, normalize='true') \n",
    "plt.show()"
   ]
  },
  {
   "cell_type": "markdown",
   "metadata": {
    "id": "Ct41fteV5RbE"
   },
   "source": [
    "#### RFE Feature selection"
   ]
  },
  {
   "cell_type": "code",
   "execution_count": null,
   "metadata": {
    "id": "EtspkTqg4XVQ"
   },
   "outputs": [],
   "source": [
    "pp_ranforest_clf_1 = Pipeline([('rfe', RFE(RandomForestClassifier())), ('forest_clf',RandomForestClassifier())])\n",
    "\n",
    "pp_ranforest_clf_1.fit(X_naive_train, Y_naive_train)\n",
    "y_RF_pred_1 = pp_ranforest_clf_1.predict(X_naivi_test)\n",
    "print(classification_report(y_naive_test, y_RF_pred_1))\n",
    "\n",
    "plot_confusion_matrix(pp_ranforest_clf_1, X_naive_test, Y_naive_test,cmap=plt.cm.Blues, normalize='true') \n",
    "plt.show()"
   ]
  },
  {
   "cell_type": "code",
   "execution_count": null,
   "metadata": {
    "id": "-EKtos_U2ZPP"
   },
   "outputs": [],
   "source": []
  },
  {
   "cell_type": "markdown",
   "metadata": {
    "id": "Nmd9uuAAC9vO"
   },
   "source": [
    "### GradientBossting"
   ]
  },
  {
   "cell_type": "code",
   "execution_count": null,
   "metadata": {
    "colab": {
     "base_uri": "https://localhost:8080/"
    },
    "id": "GKrnxN_nUI34",
    "outputId": "a969defe-5c33-4e49-8564-15fdd533e54b"
   },
   "outputs": [
    {
     "name": "stdout",
     "output_type": "stream",
     "text": [
      "              precision    recall  f1-score   support\n",
      "\n",
      "           0       0.93      1.00      0.96   1185495\n",
      "           1       0.96      0.51      0.66    185510\n",
      "\n",
      "    accuracy                           0.93   1371005\n",
      "   macro avg       0.94      0.75      0.81   1371005\n",
      "weighted avg       0.93      0.93      0.92   1371005\n",
      "\n"
     ]
    }
   ],
   "source": [
    "\n",
    "GB=GradientBoostingClassifier()\n",
    "GB.fit(X_naive_train,Y_naive_train)\n",
    "\n",
    "Y_GB_pred=GB.predict(X_naive_test)\n",
    "print(classification_report(Y_naive_test, Y_GB_pred))"
   ]
  },
  {
   "cell_type": "code",
   "execution_count": null,
   "metadata": {
    "colab": {
     "base_uri": "https://localhost:8080/"
    },
    "id": "XjAPy1KvUQNZ",
    "outputId": "329e9705-0268-4bc8-943d-29588e48593f"
   },
   "outputs": [
    {
     "data": {
      "image/png": "[encoded data removed]",
      "text/plain": [
       "<Figure size 432x288 with 2 Axes>"
      ]
     },
     "metadata": {
      "needs_background": "light",
      "tags": []
     },
     "output_type": "display_data"
    }
   ],
   "source": [
    "plot_confusion_matrix(GB, X_naive_test, Y_naive_test,cmap=plt.cm.Blues, normalize='true') \n",
    "plt.show()"
   ]
  },
  {
   "cell_type": "markdown",
   "metadata": {
    "id": "ho_5JAxj-iCG"
   },
   "source": [
    "#### Select KBest"
   ]
  },
  {
   "cell_type": "code",
   "execution_count": null,
   "metadata": {
    "id": "2frNjOKu-qDy"
   },
   "outputs": [],
   "source": [
    "pp_GB_clf = Pipeline([('k_best', SelectKBest(score_func=chi2)),\n",
    "                      ('GB_clf', GradientBoostingClassifier())])\n",
    "\n",
    "pp_GB_clf.fit(X_naive_train, Y_naive_train)\n",
    "y_GB_pred = pp_GB_clf.predict(X_naive_test)\n",
    "\n",
    "print(classification_report(Y_naive_test, y_GB_pred))\n",
    "\n",
    "plot_confusion_matrix(pp_GB_clf, X_naive_test, Y_naive_test,cmap=plt.cm.Blues, normalize='true') \n",
    "plt.show()"
   ]
  },
  {
   "cell_type": "markdown",
   "metadata": {
    "id": "K4F8QIuF_riW"
   },
   "source": [
    "#### RFE Feature Selection"
   ]
  },
  {
   "cell_type": "code",
   "execution_count": null,
   "metadata": {
    "id": "KPo1CYLl_rNx"
   },
   "outputs": [],
   "source": [
    "pp_GB_clf_1 = Pipeline([('rfe', RFE(GradientBoostingClassifier(),)),\n",
    "                        ('GD_clf', GradientBoostingClassifier())])\n",
    "\n",
    "pp_GB_clf_1.fit(X_naive_train, Y_naive_train)\n",
    "y_GB_pred_1 = pp_GB_clf_1.predict(X_naive_test)\n",
    "\n",
    "print(classification_report(Y_naive_test, y_GB_pred_1))\n",
    "\n",
    "plot_confusion_matrix(pp_GB_clf_1, X_naive_test, Y_naive_test,cmap=plt.cm.Blues, normalize='true') \n",
    "plt.show()"
   ]
  },
  {
   "cell_type": "markdown",
   "metadata": {
    "id": "YU_hXxzlUVK-"
   },
   "source": [
    "### Decision Tree"
   ]
  },
  {
   "cell_type": "code",
   "execution_count": null,
   "metadata": {
    "colab": {
     "base_uri": "https://localhost:8080/",
     "height": 432
    },
    "id": "l9Wg5q7-UXpy",
    "outputId": "c2262143-4421-4bb7-eccb-b788b48a2485"
   },
   "outputs": [
    {
     "name": "stdout",
     "output_type": "stream",
     "text": [
      "              precision    recall  f1-score   support\n",
      "\n",
      "           0       1.00      1.00      1.00   1185495\n",
      "           1       0.97      0.97      0.97    185510\n",
      "\n",
      "    accuracy                           0.99   1371005\n",
      "   macro avg       0.98      0.98      0.98   1371005\n",
      "weighted avg       0.99      0.99      0.99   1371005\n",
      "\n"
     ]
    },
    {
     "data": {
      "image/png": "[encoded data removed]",
      "text/plain": [
       "<Figure size 432x288 with 2 Axes>"
      ]
     },
     "metadata": {
      "needs_background": "light",
      "tags": []
     },
     "output_type": "display_data"
    }
   ],
   "source": [
    "from sklearn.tree import DecisionTreeClassifier\n",
    "dtc = DecisionTreeClassifier(random_state=0)\n",
    "dtc.fit(X_naive_train,Y_naive_train)\n",
    "\n",
    "Y_dt_pred=dtc.predict(X_naive_test)\n",
    "print(classification_report(Y_naive_test, Y_dt_pred))\n",
    "\n",
    "plot_confusion_matrix(dtc, X_naive_test, Y_naive_test,cmap=plt.cm.Blues, normalize='true') \n",
    "plt.show()"
   ]
  },
  {
   "cell_type": "markdown",
   "metadata": {
    "id": "iG0H9IrGBVKk"
   },
   "source": [
    "#### Select KBest"
   ]
  },
  {
   "cell_type": "code",
   "execution_count": null,
   "metadata": {
    "id": "NVeM48_IBXh9"
   },
   "outputs": [],
   "source": [
    "pp_tree_clf = Pipeline([('k_best', SelectKBest(score_func=chi2)),\n",
    "                        ('tree_clf', tree.DecisionTreeClassifier())])\n",
    "\n",
    "pp_tree_clf.fit(X_naive_train, Y_naive_train)\n",
    "y_dt_pred = pp_tree_clf.predict(X_naive_test)\n",
    "print(classification_report(Y_naive_test, y_dt_pred))\n",
    "\n",
    "plot_confusion_matrix(pp_tree_clf, X_naive_test, Y_naive_test,cmap=plt.cm.Blues, normalize='true') \n",
    "plt.show()"
   ]
  },
  {
   "cell_type": "markdown",
   "metadata": {
    "id": "U556BlE4BpAm"
   },
   "source": [
    "#### RFE feature selection"
   ]
  },
  {
   "cell_type": "code",
   "execution_count": null,
   "metadata": {
    "id": "6Q_R-dT8Bsfe"
   },
   "outputs": [],
   "source": [
    "pp_tree_clf_rfe = Pipeline([('rfe', RFE(DecisionTreeClassifier(), )),\n",
    "                           ('DT_clf', tree.DecisionTreeClassifier())])\n",
    "\n",
    "pp_tree_clf_rfe.fit(X_naive_train, Y_naive_test)\n",
    "y_dt_tre_pred = pp_tree_clf_rfe.predict(X_naive_test)\n",
    "\n",
    "print(classification_report(Y_naive_test, y_dt_tre_pred))\n",
    "\n",
    "plot_confusion_matrix(pp_tree_clf_rfe, X_naive_test, Y_naive_test,cmap=plt.cm.Blues, normalize='true') \n",
    "plt.show()"
   ]
  },
  {
   "cell_type": "markdown",
   "metadata": {
    "id": "ilbABPYSDBNw"
   },
   "source": [
    "### SVM"
   ]
  },
  {
   "cell_type": "code",
   "execution_count": null,
   "metadata": {
    "id": "STKEK7O0ynsa"
   },
   "outputs": [
    {
     "name": "stdout",
     "output_type": "stream",
     "text": [
      "[LibSVM]"
     ]
    }
   ],
   "source": [
    "from sklearn import svm\n",
    "\n",
    "SVM = svm.SVC(verbose=True)\n",
    "SVM.fit(X_naive_train,Y_naive_train)\n",
    "\n",
    "Y_SVM_pred=SVM.predict(X_naive_test)\n",
    "print(classification_report(Y_naive_test, Y_SVM_pred))\n",
    "\n",
    "plot_confusion_matrix(SVM, X_naive_test, Y_naive_test,cmap=plt.cm.Blues, normalize='true') \n",
    "plt.show()"
   ]
  },
  {
   "cell_type": "code",
   "execution_count": null,
   "metadata": {},
   "outputs": [],
   "source": [
    "# criterion param: use 'gini' as default\n",
    "# splitter param: use 'best' as default\n",
    "max_depth = [2,4,6,8,10,12]\n",
    "max_depth.append(None)\n",
    "min_samples_split=[int(x) for x in np.linspace(start = 2, stop = 5, num = 4)]\n",
    "min_samples_leaf=[int(x) for x in np.linspace(start = 1, stop = 4, num = 4)]\n",
    "max_features=['auto', 'sqrt']\n",
    "\n",
    "# Create the random grid\n",
    "param_grid = {'max_features': max_features,\n",
    "              'max_depth': max_depth,\n",
    "              'min_samples_split': min_samples_split,\n",
    "              'min_samples_leaf': min_samples_leaf,\n",
    "             }\n",
    "\n",
    "# Initialize and fit the model.\n",
    "model = DecisionTreeClassifier()\n",
    "model = GridSearchCV(model, param_grid, n_jobs=-1, verbose=2)\n",
    "model.fit(X_train_sample, y_train_sample)"
   ]
  }
 ],
 "metadata": {
  "colab": {
   "collapsed_sections": [],
   "name": "Airline_Arrivals_Project_3.ipynb",
   "provenance": []
  },
  "kernelspec": {
   "display_name": "Python 3",
   "language": "python",
   "name": "python3"
  },
  "language_info": {
   "codemirror_mode": {
    "name": "ipython",
    "version": 3
   },
   "file_extension": ".py",
   "mimetype": "text/x-python",
   "name": "python",
   "nbconvert_exporter": "python",
   "pygments_lexer": "ipython3",
   "version": "3.8.3"
  }
 },
 "nbformat": 4,
 "nbformat_minor": 1
}
